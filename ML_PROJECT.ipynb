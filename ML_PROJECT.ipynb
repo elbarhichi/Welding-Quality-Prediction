{
 "cells": [
  {
   "cell_type": "code",
<<<<<<< HEAD
   "execution_count": 2,
   "metadata": {},
   "outputs": [
    {
     "name": "stdout",
     "output_type": "stream",
     "text": [
      "Requirement already satisfied: pandas in c:\\users\\asus\\anaconda3\\lib\\site-packages (2.2.2)\n",
      "Requirement already satisfied: numpy>=1.26.0 in c:\\users\\asus\\anaconda3\\lib\\site-packages (from pandas) (1.26.4)\n",
      "Requirement already satisfied: python-dateutil>=2.8.2 in c:\\users\\asus\\anaconda3\\lib\\site-packages (from pandas) (2.9.0.post0)\n",
      "Requirement already satisfied: pytz>=2020.1 in c:\\users\\asus\\anaconda3\\lib\\site-packages (from pandas) (2024.1)\n",
      "Requirement already satisfied: tzdata>=2022.7 in c:\\users\\asus\\anaconda3\\lib\\site-packages (from pandas) (2023.3)\n",
      "Requirement already satisfied: six>=1.5 in c:\\users\\asus\\anaconda3\\lib\\site-packages (from python-dateutil>=2.8.2->pandas) (1.16.0)\n",
      "Requirement already satisfied: numpy in c:\\users\\asus\\anaconda3\\lib\\site-packages (1.26.4)\n",
      "Requirement already satisfied: matplotlib in c:\\users\\asus\\anaconda3\\lib\\site-packages (3.8.4)\n",
      "Requirement already satisfied: contourpy>=1.0.1 in c:\\users\\asus\\anaconda3\\lib\\site-packages (from matplotlib) (1.2.0)\n",
      "Requirement already satisfied: cycler>=0.10 in c:\\users\\asus\\anaconda3\\lib\\site-packages (from matplotlib) (0.11.0)\n",
      "Requirement already satisfied: fonttools>=4.22.0 in c:\\users\\asus\\anaconda3\\lib\\site-packages (from matplotlib) (4.51.0)\n",
      "Requirement already satisfied: kiwisolver>=1.3.1 in c:\\users\\asus\\anaconda3\\lib\\site-packages (from matplotlib) (1.4.4)\n",
      "Requirement already satisfied: numpy>=1.21 in c:\\users\\asus\\anaconda3\\lib\\site-packages (from matplotlib) (1.26.4)\n",
      "Requirement already satisfied: packaging>=20.0 in c:\\users\\asus\\anaconda3\\lib\\site-packages (from matplotlib) (23.2)\n",
      "Requirement already satisfied: pillow>=8 in c:\\users\\asus\\anaconda3\\lib\\site-packages (from matplotlib) (10.3.0)\n",
      "Requirement already satisfied: pyparsing>=2.3.1 in c:\\users\\asus\\anaconda3\\lib\\site-packages (from matplotlib) (3.0.9)\n",
      "Requirement already satisfied: python-dateutil>=2.7 in c:\\users\\asus\\anaconda3\\lib\\site-packages (from matplotlib) (2.9.0.post0)\n",
      "Requirement already satisfied: six>=1.5 in c:\\users\\asus\\anaconda3\\lib\\site-packages (from python-dateutil>=2.7->matplotlib) (1.16.0)\n",
      "Requirement already satisfied: seaborn in c:\\users\\asus\\anaconda3\\lib\\site-packages (0.13.2)\n",
      "Requirement already satisfied: numpy!=1.24.0,>=1.20 in c:\\users\\asus\\anaconda3\\lib\\site-packages (from seaborn) (1.26.4)\n",
      "Requirement already satisfied: pandas>=1.2 in c:\\users\\asus\\anaconda3\\lib\\site-packages (from seaborn) (2.2.2)\n",
      "Requirement already satisfied: matplotlib!=3.6.1,>=3.4 in c:\\users\\asus\\anaconda3\\lib\\site-packages (from seaborn) (3.8.4)\n",
      "Requirement already satisfied: contourpy>=1.0.1 in c:\\users\\asus\\anaconda3\\lib\\site-packages (from matplotlib!=3.6.1,>=3.4->seaborn) (1.2.0)\n",
      "Requirement already satisfied: cycler>=0.10 in c:\\users\\asus\\anaconda3\\lib\\site-packages (from matplotlib!=3.6.1,>=3.4->seaborn) (0.11.0)\n",
      "Requirement already satisfied: fonttools>=4.22.0 in c:\\users\\asus\\anaconda3\\lib\\site-packages (from matplotlib!=3.6.1,>=3.4->seaborn) (4.51.0)\n",
      "Requirement already satisfied: kiwisolver>=1.3.1 in c:\\users\\asus\\anaconda3\\lib\\site-packages (from matplotlib!=3.6.1,>=3.4->seaborn) (1.4.4)\n",
      "Requirement already satisfied: packaging>=20.0 in c:\\users\\asus\\anaconda3\\lib\\site-packages (from matplotlib!=3.6.1,>=3.4->seaborn) (23.2)\n",
      "Requirement already satisfied: pillow>=8 in c:\\users\\asus\\anaconda3\\lib\\site-packages (from matplotlib!=3.6.1,>=3.4->seaborn) (10.3.0)\n",
      "Requirement already satisfied: pyparsing>=2.3.1 in c:\\users\\asus\\anaconda3\\lib\\site-packages (from matplotlib!=3.6.1,>=3.4->seaborn) (3.0.9)\n",
      "Requirement already satisfied: python-dateutil>=2.7 in c:\\users\\asus\\anaconda3\\lib\\site-packages (from matplotlib!=3.6.1,>=3.4->seaborn) (2.9.0.post0)\n",
      "Requirement already satisfied: pytz>=2020.1 in c:\\users\\asus\\anaconda3\\lib\\site-packages (from pandas>=1.2->seaborn) (2024.1)\n",
      "Requirement already satisfied: tzdata>=2022.7 in c:\\users\\asus\\anaconda3\\lib\\site-packages (from pandas>=1.2->seaborn) (2023.3)\n",
      "Requirement already satisfied: six>=1.5 in c:\\users\\asus\\anaconda3\\lib\\site-packages (from python-dateutil>=2.7->matplotlib!=3.6.1,>=3.4->seaborn) (1.16.0)\n"
     ]
    }
   ],
   "source": [
    "!pip install pandas\n",
    "!pip install numpy\n",
    "!pip install matplotlib\n",
    "!pip install seaborn"
   ]
  },
  {
   "cell_type": "code",
   "execution_count": 3,
=======
   "execution_count": 1,
>>>>>>> 7eed920ab825864c45bc90d63680cafd6e245ae7
   "metadata": {},
   "outputs": [],
   "source": [
    "import pandas as pd\n",
    "import numpy as np\n",
    "import matplotlib.pyplot as plt"
   ]
  },
  {
   "cell_type": "code",
   "execution_count": 2,
   "metadata": {},
   "outputs": [],
   "source": [
    "data_file_path = 'welddb/welddb.data'\n",
    "headers_file_path = 'welddb/headers.txt'\n",
    "with open(headers_file_path, 'r') as f:\n",
    "    headers = [line.strip() for line in f]\n",
    "df = pd.read_csv(data_file_path, sep=r'\\s+', header=None, names=headers)"
   ]
  },
  {
   "cell_type": "code",
   "execution_count": 3,
   "metadata": {},
   "outputs": [
    {
     "data": {
      "text/html": [
       "<div>\n",
       "<style scoped>\n",
       "    .dataframe tbody tr th:only-of-type {\n",
       "        vertical-align: middle;\n",
       "    }\n",
       "\n",
       "    .dataframe tbody tr th {\n",
       "        vertical-align: top;\n",
       "    }\n",
       "\n",
       "    .dataframe thead th {\n",
       "        text-align: right;\n",
       "    }\n",
       "</style>\n",
       "<table border=\"1\" class=\"dataframe\">\n",
       "  <thead>\n",
       "    <tr style=\"text-align: right;\">\n",
       "      <th></th>\n",
       "      <th>Carbon concentration (weight%)</th>\n",
       "      <th>Silicon concentration (weight%)</th>\n",
       "      <th>Manganese concentration (weight%)</th>\n",
       "      <th>Sulphur concentration (weight%)</th>\n",
       "      <th>Phosphorus concentration (weight%)</th>\n",
       "      <th>Nickel concentration (weight%)</th>\n",
       "      <th>Chromium concentration (weight%)</th>\n",
       "      <th>Molybdenum concentration (weight%)</th>\n",
       "      <th>Vanadium concentration (weight%)</th>\n",
       "      <th>Copper concentration (weight%)</th>\n",
       "      <th>...</th>\n",
       "      <th>Charpy temperature (deg C)</th>\n",
       "      <th>Charpy impact toughness (J)</th>\n",
       "      <th>Hardness (kgmm-2)</th>\n",
       "      <th>50 % FATT</th>\n",
       "      <th>Primary ferrite in microstructure (%)</th>\n",
       "      <th>Ferrite with second phase (%)</th>\n",
       "      <th>Acicular ferrite (%)</th>\n",
       "      <th>Martensite (%)</th>\n",
       "      <th>Ferrite with carbide aggregate (%)</th>\n",
       "      <th>Weld ID</th>\n",
       "    </tr>\n",
       "  </thead>\n",
       "  <tbody>\n",
       "    <tr>\n",
       "      <th>0</th>\n",
       "      <td>0.037</td>\n",
       "      <td>0.30</td>\n",
       "      <td>0.65</td>\n",
       "      <td>0.008</td>\n",
       "      <td>0.012</td>\n",
       "      <td>0</td>\n",
       "      <td>N</td>\n",
       "      <td>N</td>\n",
       "      <td>N</td>\n",
       "      <td>N</td>\n",
       "      <td>...</td>\n",
       "      <td>N</td>\n",
       "      <td>N</td>\n",
       "      <td>N</td>\n",
       "      <td>N</td>\n",
       "      <td>N</td>\n",
       "      <td>N</td>\n",
       "      <td>N</td>\n",
       "      <td>N</td>\n",
       "      <td>N</td>\n",
       "      <td>Evans-Ni/CMn-1990/1991-0Aaw</td>\n",
       "    </tr>\n",
       "    <tr>\n",
       "      <th>1</th>\n",
       "      <td>0.037</td>\n",
       "      <td>0.30</td>\n",
       "      <td>0.65</td>\n",
       "      <td>0.008</td>\n",
       "      <td>0.012</td>\n",
       "      <td>0</td>\n",
       "      <td>N</td>\n",
       "      <td>N</td>\n",
       "      <td>N</td>\n",
       "      <td>N</td>\n",
       "      <td>...</td>\n",
       "      <td>-28</td>\n",
       "      <td>100</td>\n",
       "      <td>N</td>\n",
       "      <td>N</td>\n",
       "      <td>N</td>\n",
       "      <td>N</td>\n",
       "      <td>N</td>\n",
       "      <td>N</td>\n",
       "      <td>N</td>\n",
       "      <td>Evans-Ni/CMn-1990/1991-0Aawch</td>\n",
       "    </tr>\n",
       "    <tr>\n",
       "      <th>2</th>\n",
       "      <td>0.037</td>\n",
       "      <td>0.30</td>\n",
       "      <td>0.65</td>\n",
       "      <td>0.008</td>\n",
       "      <td>0.012</td>\n",
       "      <td>0</td>\n",
       "      <td>N</td>\n",
       "      <td>N</td>\n",
       "      <td>N</td>\n",
       "      <td>N</td>\n",
       "      <td>...</td>\n",
       "      <td>-38</td>\n",
       "      <td>100</td>\n",
       "      <td>N</td>\n",
       "      <td>N</td>\n",
       "      <td>N</td>\n",
       "      <td>N</td>\n",
       "      <td>N</td>\n",
       "      <td>N</td>\n",
       "      <td>N</td>\n",
       "      <td>Evans-Ni/CMn-1990/1991-0Aht</td>\n",
       "    </tr>\n",
       "    <tr>\n",
       "      <th>3</th>\n",
       "      <td>0.037</td>\n",
       "      <td>0.31</td>\n",
       "      <td>1.03</td>\n",
       "      <td>0.007</td>\n",
       "      <td>0.014</td>\n",
       "      <td>0</td>\n",
       "      <td>N</td>\n",
       "      <td>N</td>\n",
       "      <td>N</td>\n",
       "      <td>N</td>\n",
       "      <td>...</td>\n",
       "      <td>N</td>\n",
       "      <td>N</td>\n",
       "      <td>N</td>\n",
       "      <td>N</td>\n",
       "      <td>N</td>\n",
       "      <td>N</td>\n",
       "      <td>N</td>\n",
       "      <td>N</td>\n",
       "      <td>N</td>\n",
       "      <td>Evans-Ni/CMn-1990/1991-0Baw</td>\n",
       "    </tr>\n",
       "    <tr>\n",
       "      <th>4</th>\n",
       "      <td>0.037</td>\n",
       "      <td>0.31</td>\n",
       "      <td>1.03</td>\n",
       "      <td>0.007</td>\n",
       "      <td>0.014</td>\n",
       "      <td>0</td>\n",
       "      <td>N</td>\n",
       "      <td>N</td>\n",
       "      <td>N</td>\n",
       "      <td>N</td>\n",
       "      <td>...</td>\n",
       "      <td>-48</td>\n",
       "      <td>100</td>\n",
       "      <td>N</td>\n",
       "      <td>N</td>\n",
       "      <td>32</td>\n",
       "      <td>28</td>\n",
       "      <td>40</td>\n",
       "      <td>0</td>\n",
       "      <td>0</td>\n",
       "      <td>Evans-Ni/CMn-1990/1991-0Bawch</td>\n",
       "    </tr>\n",
       "    <tr>\n",
       "      <th>...</th>\n",
       "      <td>...</td>\n",
       "      <td>...</td>\n",
       "      <td>...</td>\n",
       "      <td>...</td>\n",
       "      <td>...</td>\n",
       "      <td>...</td>\n",
       "      <td>...</td>\n",
       "      <td>...</td>\n",
       "      <td>...</td>\n",
       "      <td>...</td>\n",
       "      <td>...</td>\n",
       "      <td>...</td>\n",
       "      <td>...</td>\n",
       "      <td>...</td>\n",
       "      <td>...</td>\n",
       "      <td>...</td>\n",
       "      <td>...</td>\n",
       "      <td>...</td>\n",
       "      <td>...</td>\n",
       "      <td>...</td>\n",
       "      <td>...</td>\n",
       "    </tr>\n",
       "    <tr>\n",
       "      <th>1647</th>\n",
       "      <td>0.100</td>\n",
       "      <td>0.35</td>\n",
       "      <td>0.90</td>\n",
       "      <td>0.008</td>\n",
       "      <td>0.016</td>\n",
       "      <td>0.60</td>\n",
       "      <td>8.6</td>\n",
       "      <td>0.98</td>\n",
       "      <td>0.18</td>\n",
       "      <td>N</td>\n",
       "      <td>...</td>\n",
       "      <td>N</td>\n",
       "      <td>N</td>\n",
       "      <td>N</td>\n",
       "      <td>N</td>\n",
       "      <td>N</td>\n",
       "      <td>N</td>\n",
       "      <td>N</td>\n",
       "      <td>N</td>\n",
       "      <td>N</td>\n",
       "      <td>Birmingham-MAX35</td>\n",
       "    </tr>\n",
       "    <tr>\n",
       "      <th>1648</th>\n",
       "      <td>0.088</td>\n",
       "      <td>0.36</td>\n",
       "      <td>0.88</td>\n",
       "      <td>0.008</td>\n",
       "      <td>0.017</td>\n",
       "      <td>0.57</td>\n",
       "      <td>8.4</td>\n",
       "      <td>0.94</td>\n",
       "      <td>0.19</td>\n",
       "      <td>N</td>\n",
       "      <td>...</td>\n",
       "      <td>N</td>\n",
       "      <td>N</td>\n",
       "      <td>N</td>\n",
       "      <td>N</td>\n",
       "      <td>N</td>\n",
       "      <td>N</td>\n",
       "      <td>N</td>\n",
       "      <td>N</td>\n",
       "      <td>N</td>\n",
       "      <td>Birmingham-MAX36</td>\n",
       "    </tr>\n",
       "    <tr>\n",
       "      <th>1649</th>\n",
       "      <td>0.090</td>\n",
       "      <td>0.34</td>\n",
       "      <td>0.89</td>\n",
       "      <td>0.008</td>\n",
       "      <td>0.016</td>\n",
       "      <td>0.17</td>\n",
       "      <td>8.2</td>\n",
       "      <td>0.94</td>\n",
       "      <td>0.02</td>\n",
       "      <td>N</td>\n",
       "      <td>...</td>\n",
       "      <td>N</td>\n",
       "      <td>N</td>\n",
       "      <td>N</td>\n",
       "      <td>N</td>\n",
       "      <td>N</td>\n",
       "      <td>N</td>\n",
       "      <td>N</td>\n",
       "      <td>N</td>\n",
       "      <td>N</td>\n",
       "      <td>Birmingham-MAX37</td>\n",
       "    </tr>\n",
       "    <tr>\n",
       "      <th>1650</th>\n",
       "      <td>0.092</td>\n",
       "      <td>0.35</td>\n",
       "      <td>0.90</td>\n",
       "      <td>0.008</td>\n",
       "      <td>0.016</td>\n",
       "      <td>0.54</td>\n",
       "      <td>8.4</td>\n",
       "      <td>0.97</td>\n",
       "      <td>0.17</td>\n",
       "      <td>N</td>\n",
       "      <td>...</td>\n",
       "      <td>N</td>\n",
       "      <td>N</td>\n",
       "      <td>N</td>\n",
       "      <td>N</td>\n",
       "      <td>N</td>\n",
       "      <td>N</td>\n",
       "      <td>N</td>\n",
       "      <td>N</td>\n",
       "      <td>N</td>\n",
       "      <td>Birmingham-MAX38</td>\n",
       "    </tr>\n",
       "    <tr>\n",
       "      <th>1651</th>\n",
       "      <td>0.180</td>\n",
       "      <td>0.39</td>\n",
       "      <td>0.88</td>\n",
       "      <td>0.008</td>\n",
       "      <td>0.017</td>\n",
       "      <td>0.18</td>\n",
       "      <td>10.2</td>\n",
       "      <td>0.94</td>\n",
       "      <td>0.28</td>\n",
       "      <td>N</td>\n",
       "      <td>...</td>\n",
       "      <td>N</td>\n",
       "      <td>N</td>\n",
       "      <td>N</td>\n",
       "      <td>N</td>\n",
       "      <td>N</td>\n",
       "      <td>N</td>\n",
       "      <td>N</td>\n",
       "      <td>N</td>\n",
       "      <td>N</td>\n",
       "      <td>Birmingham-MAX39</td>\n",
       "    </tr>\n",
       "  </tbody>\n",
       "</table>\n",
       "<p>1652 rows × 44 columns</p>\n",
       "</div>"
      ],
      "text/plain": [
       "      Carbon concentration (weight%)  Silicon concentration (weight%)  \\\n",
       "0                              0.037                             0.30   \n",
       "1                              0.037                             0.30   \n",
       "2                              0.037                             0.30   \n",
       "3                              0.037                             0.31   \n",
       "4                              0.037                             0.31   \n",
       "...                              ...                              ...   \n",
       "1647                           0.100                             0.35   \n",
       "1648                           0.088                             0.36   \n",
       "1649                           0.090                             0.34   \n",
       "1650                           0.092                             0.35   \n",
       "1651                           0.180                             0.39   \n",
       "\n",
       "      Manganese concentration (weight%) Sulphur concentration (weight%)  \\\n",
       "0                                  0.65                           0.008   \n",
       "1                                  0.65                           0.008   \n",
       "2                                  0.65                           0.008   \n",
       "3                                  1.03                           0.007   \n",
       "4                                  1.03                           0.007   \n",
       "...                                 ...                             ...   \n",
       "1647                               0.90                           0.008   \n",
       "1648                               0.88                           0.008   \n",
       "1649                               0.89                           0.008   \n",
       "1650                               0.90                           0.008   \n",
       "1651                               0.88                           0.008   \n",
       "\n",
       "     Phosphorus concentration (weight%) Nickel concentration (weight%)  \\\n",
       "0                                 0.012                              0   \n",
       "1                                 0.012                              0   \n",
       "2                                 0.012                              0   \n",
       "3                                 0.014                              0   \n",
       "4                                 0.014                              0   \n",
       "...                                 ...                            ...   \n",
       "1647                              0.016                           0.60   \n",
       "1648                              0.017                           0.57   \n",
       "1649                              0.016                           0.17   \n",
       "1650                              0.016                           0.54   \n",
       "1651                              0.017                           0.18   \n",
       "\n",
       "     Chromium concentration (weight%) Molybdenum concentration (weight%)  \\\n",
       "0                                   N                                  N   \n",
       "1                                   N                                  N   \n",
       "2                                   N                                  N   \n",
       "3                                   N                                  N   \n",
       "4                                   N                                  N   \n",
       "...                               ...                                ...   \n",
       "1647                              8.6                               0.98   \n",
       "1648                              8.4                               0.94   \n",
       "1649                              8.2                               0.94   \n",
       "1650                              8.4                               0.97   \n",
       "1651                             10.2                               0.94   \n",
       "\n",
       "     Vanadium concentration (weight%) Copper concentration (weight%)  ...  \\\n",
       "0                                   N                              N  ...   \n",
       "1                                   N                              N  ...   \n",
       "2                                   N                              N  ...   \n",
       "3                                   N                              N  ...   \n",
       "4                                   N                              N  ...   \n",
       "...                               ...                            ...  ...   \n",
       "1647                             0.18                              N  ...   \n",
       "1648                             0.19                              N  ...   \n",
       "1649                             0.02                              N  ...   \n",
       "1650                             0.17                              N  ...   \n",
       "1651                             0.28                              N  ...   \n",
       "\n",
       "     Charpy temperature (deg C) Charpy impact toughness (J) Hardness (kgmm-2)  \\\n",
       "0                             N                           N                 N   \n",
       "1                           -28                         100                 N   \n",
       "2                           -38                         100                 N   \n",
       "3                             N                           N                 N   \n",
       "4                           -48                         100                 N   \n",
       "...                         ...                         ...               ...   \n",
       "1647                          N                           N                 N   \n",
       "1648                          N                           N                 N   \n",
       "1649                          N                           N                 N   \n",
       "1650                          N                           N                 N   \n",
       "1651                          N                           N                 N   \n",
       "\n",
       "     50 % FATT Primary ferrite in microstructure (%)  \\\n",
       "0            N                                     N   \n",
       "1            N                                     N   \n",
       "2            N                                     N   \n",
       "3            N                                     N   \n",
       "4            N                                    32   \n",
       "...        ...                                   ...   \n",
       "1647         N                                     N   \n",
       "1648         N                                     N   \n",
       "1649         N                                     N   \n",
       "1650         N                                     N   \n",
       "1651         N                                     N   \n",
       "\n",
       "     Ferrite with second phase (%) Acicular ferrite (%) Martensite (%)  \\\n",
       "0                                N                    N              N   \n",
       "1                                N                    N              N   \n",
       "2                                N                    N              N   \n",
       "3                                N                    N              N   \n",
       "4                               28                   40              0   \n",
       "...                            ...                  ...            ...   \n",
       "1647                             N                    N              N   \n",
       "1648                             N                    N              N   \n",
       "1649                             N                    N              N   \n",
       "1650                             N                    N              N   \n",
       "1651                             N                    N              N   \n",
       "\n",
       "     Ferrite with carbide aggregate (%)                        Weld ID  \n",
       "0                                     N    Evans-Ni/CMn-1990/1991-0Aaw  \n",
       "1                                     N  Evans-Ni/CMn-1990/1991-0Aawch  \n",
       "2                                     N    Evans-Ni/CMn-1990/1991-0Aht  \n",
       "3                                     N    Evans-Ni/CMn-1990/1991-0Baw  \n",
       "4                                     0  Evans-Ni/CMn-1990/1991-0Bawch  \n",
       "...                                 ...                            ...  \n",
       "1647                                  N               Birmingham-MAX35  \n",
       "1648                                  N               Birmingham-MAX36  \n",
       "1649                                  N               Birmingham-MAX37  \n",
       "1650                                  N               Birmingham-MAX38  \n",
       "1651                                  N               Birmingham-MAX39  \n",
       "\n",
       "[1652 rows x 44 columns]"
      ]
     },
     "execution_count": 3,
     "metadata": {},
     "output_type": "execute_result"
    }
   ],
   "source": [
    "df"
   ]
  },
  {
   "cell_type": "markdown",
   "metadata": {},
   "source": [
    "First, we will replace the N values with a nan variable"
   ]
  },
  {
   "cell_type": "code",
<<<<<<< HEAD
   "execution_count": 6,
=======
   "execution_count": 4,
>>>>>>> 7eed920ab825864c45bc90d63680cafd6e245ae7
   "metadata": {},
   "outputs": [],
   "source": [
    "#Replace missing values with NaN\n",
    "df.replace('N', np.nan, inplace=True)"
   ]
  },
  {
   "cell_type": "markdown",
   "metadata": {},
   "source": [
    "Let's see the vartiables types so that we can convert the types of the variables to the right format"
   ]
  },
  {
   "cell_type": "code",
   "execution_count": 5,
   "metadata": {},
   "outputs": [
    {
     "name": "stdout",
     "output_type": "stream",
     "text": [
      "<class 'pandas.core.frame.DataFrame'>\n",
      "RangeIndex: 1652 entries, 0 to 1651\n",
      "Data columns (total 44 columns):\n",
      " #   Column                                        Non-Null Count  Dtype  \n",
      "---  ------                                        --------------  -----  \n",
      " 0   Carbon concentration (weight%)                1652 non-null   float64\n",
      " 1   Silicon concentration (weight%)               1652 non-null   float64\n",
      " 2   Manganese concentration (weight%)             1652 non-null   float64\n",
      " 3   Sulphur concentration (weight%)               1648 non-null   object \n",
      " 4   Phosphorus concentration (weight%)            1642 non-null   object \n",
      " 5   Nickel concentration (weight%)                697 non-null    object \n",
      " 6   Chromium concentration (weight%)              784 non-null    object \n",
      " 7   Molybdenum concentration (weight%)            793 non-null    object \n",
      " 8   Vanadium concentration (weight%)              928 non-null    object \n",
      " 9   Copper concentration (weight%)                578 non-null    object \n",
      " 10  Cobalt concentration (weight%)                129 non-null    object \n",
      " 11  Tungsten concentration (weight%)              75 non-null     object \n",
      " 12  Oxygen concentration (ppm)                    1256 non-null   object \n",
      " 13  Titanium concentration (ppm)                  935 non-null    object \n",
      " 14  Nitrogen concentration (ppm)                  1242 non-null   object \n",
      " 15  Aluminium concentration (ppm)                 905 non-null    object \n",
      " 16  Boron concentration (ppm)                     504 non-null    object \n",
      " 17  Niobium concentration (ppm)                   752 non-null    object \n",
      " 18  Tin concentration (ppm)                       296 non-null    object \n",
      " 19  Arsenic concentration (ppm)                   234 non-null    object \n",
      " 20  Antimony concentration (ppm)                  260 non-null    object \n",
      " 21  Current (A)                                   1404 non-null   object \n",
      " 22  Voltage (V)                                   1404 non-null   object \n",
      " 23  AC or DC                                      1437 non-null   object \n",
      " 24  Electrode positive or negative                1496 non-null   object \n",
      " 25  Heat input (kJmm-1)                           1652 non-null   float64\n",
      " 26  Interpass temperature (deg C)                 1652 non-null   object \n",
      " 27  Type of weld                                  1652 non-null   object \n",
      " 28  Post weld heat treatment temperature (deg C)  1639 non-null   object \n",
      " 29  Post weld heat treatment time (hours)         1639 non-null   object \n",
      " 30  Yield strength (MPa)                          780 non-null    object \n",
      " 31  Ultimate tensile strength (MPa)               738 non-null    object \n",
      " 32  Elongation (%)                                700 non-null    object \n",
      " 33  Reduction of Area (%)                         705 non-null    object \n",
      " 34  Charpy temperature (deg C)                    879 non-null    object \n",
      " 35  Charpy impact toughness (J)                   879 non-null    object \n",
      " 36  Hardness (kgmm-2)                             138 non-null    object \n",
      " 37  50 % FATT                                     31 non-null     object \n",
      " 38  Primary ferrite in microstructure (%)         98 non-null     object \n",
      " 39  Ferrite with second phase (%)                 90 non-null     object \n",
      " 40  Acicular ferrite (%)                          90 non-null     object \n",
      " 41  Martensite (%)                                89 non-null     object \n",
      " 42  Ferrite with carbide aggregate (%)            89 non-null     object \n",
      " 43  Weld ID                                       1652 non-null   object \n",
      "dtypes: float64(4), object(40)\n",
      "memory usage: 568.0+ KB\n"
     ]
    }
   ],
   "source": [
    "df.info()"
   ]
  },
  {
   "cell_type": "markdown",
   "metadata": {},
   "source": [
    "We should convert all te numerical variables to numerical type, but let's see this column"
   ]
  },
  {
   "cell_type": "code",
   "execution_count": 6,
   "metadata": {},
   "outputs": [
    {
     "data": {
      "text/plain": [
       "Carbon concentration (weight%)                             0.06\n",
       "Silicon concentration (weight%)                            0.32\n",
       "Manganese concentration (weight%)                          1.23\n",
       "Sulphur concentration (weight%)                          <0.002\n",
       "Phosphorus concentration (weight%)                        0.002\n",
       "Nickel concentration (weight%)                             1.01\n",
       "Chromium concentration (weight%)                            8.4\n",
       "Molybdenum concentration (weight%)                         0.89\n",
       "Vanadium concentration (weight%)                           0.22\n",
       "Copper concentration (weight%)                            <0.01\n",
       "Cobalt concentration (weight%)                            <0.01\n",
       "Tungsten concentration (weight%)                            NaN\n",
       "Oxygen concentration (ppm)                                  380\n",
       "Titanium concentration (ppm)                               <100\n",
       "Nitrogen concentration (ppm)                                 80\n",
       "Aluminium concentration (ppm)                              <100\n",
       "Boron concentration (ppm)                                   NaN\n",
       "Niobium concentration (ppm)                                 300\n",
       "Tin concentration (ppm)                                     NaN\n",
       "Arsenic concentration (ppm)                                 NaN\n",
       "Antimony concentration (ppm)                                NaN\n",
       "Current (A)                                                 163\n",
       "Voltage (V)                                                  25\n",
       "AC or DC                                                     DC\n",
       "Electrode positive or negative                                +\n",
       "Heat input (kJmm-1)                                         1.2\n",
       "Interpass temperature (deg C)                           150-200\n",
       "Type of weld                                                MMA\n",
       "Post weld heat treatment temperature (deg C)                  0\n",
       "Post weld heat treatment time (hours)                         0\n",
       "Yield strength (MPa)                                        NaN\n",
       "Ultimate tensile strength (MPa)                             NaN\n",
       "Elongation (%)                                              NaN\n",
       "Reduction of Area (%)                                       NaN\n",
       "Charpy temperature (deg C)                                  NaN\n",
       "Charpy impact toughness (J)                                 NaN\n",
       "Hardness (kgmm-2)                                       362Hv10\n",
       "50 % FATT                                                   NaN\n",
       "Primary ferrite in microstructure (%)                         0\n",
       "Ferrite with second phase (%)                               NaN\n",
       "Acicular ferrite (%)                                        NaN\n",
       "Martensite (%)                                              NaN\n",
       "Ferrite with carbide aggregate (%)                          NaN\n",
       "Weld ID                                         PantK-1990-w8.0\n",
       "Name: 1197, dtype: object"
      ]
     },
     "execution_count": 6,
     "metadata": {},
     "output_type": "execute_result"
    }
   ],
   "source": [
    "#see the 1197th row\n",
    "df.loc[1197]"
   ]
  },
  {
   "cell_type": "markdown",
   "metadata": {},
   "source": [
    "Some lines that are expected to have numerical values may contain some non numerical one (like the '<0.002' value assigned to the variable 'Sulphur concentration (weight%)' for the 1197th row of the dataframe)\n",
    "\n",
    "First, we will convert only possible rows then we will treat the rest"
   ]
  },
  {
   "cell_type": "code",
   "execution_count": 7,
   "metadata": {},
   "outputs": [
    {
     "name": "stderr",
     "output_type": "stream",
     "text": [
<<<<<<< HEAD
      "C:\\Users\\ASUS\\AppData\\Local\\Temp\\ipykernel_3260\\1754603372.py:2: FutureWarning: errors='ignore' is deprecated and will raise in a future version. Use to_numeric without passing `errors` and catch exceptions explicitly instead\n",
=======
      "C:\\Users\\LENOVO\\AppData\\Local\\Temp\\ipykernel_20148\\1754603372.py:2: FutureWarning: errors='ignore' is deprecated and will raise in a future version. Use to_numeric without passing `errors` and catch exceptions explicitly instead\n",
>>>>>>> 7eed920ab825864c45bc90d63680cafd6e245ae7
      "  df = df.apply(pd.to_numeric, errors='ignore')\n"
     ]
    }
   ],
   "source": [
    "#Convert the variables to numeric if possible\n",
    "df = df.apply(pd.to_numeric, errors='ignore')"
   ]
  },
  {
   "cell_type": "code",
   "execution_count": 8,
   "metadata": {},
   "outputs": [
    {
     "name": "stdout",
     "output_type": "stream",
     "text": [
      "<class 'pandas.core.frame.DataFrame'>\n",
      "RangeIndex: 1652 entries, 0 to 1651\n",
      "Data columns (total 44 columns):\n",
      " #   Column                                        Non-Null Count  Dtype  \n",
      "---  ------                                        --------------  -----  \n",
      " 0   Carbon concentration (weight%)                1652 non-null   float64\n",
      " 1   Silicon concentration (weight%)               1652 non-null   float64\n",
      " 2   Manganese concentration (weight%)             1652 non-null   float64\n",
      " 3   Sulphur concentration (weight%)               1648 non-null   object \n",
      " 4   Phosphorus concentration (weight%)            1642 non-null   float64\n",
      " 5   Nickel concentration (weight%)                697 non-null    float64\n",
      " 6   Chromium concentration (weight%)              784 non-null    float64\n",
      " 7   Molybdenum concentration (weight%)            793 non-null    object \n",
      " 8   Vanadium concentration (weight%)              928 non-null    object \n",
      " 9   Copper concentration (weight%)                578 non-null    object \n",
      " 10  Cobalt concentration (weight%)                129 non-null    object \n",
      " 11  Tungsten concentration (weight%)              75 non-null     object \n",
      " 12  Oxygen concentration (ppm)                    1256 non-null   float64\n",
      " 13  Titanium concentration (ppm)                  935 non-null    object \n",
      " 14  Nitrogen concentration (ppm)                  1242 non-null   object \n",
      " 15  Aluminium concentration (ppm)                 905 non-null    object \n",
      " 16  Boron concentration (ppm)                     504 non-null    object \n",
      " 17  Niobium concentration (ppm)                   752 non-null    object \n",
      " 18  Tin concentration (ppm)                       296 non-null    object \n",
      " 19  Arsenic concentration (ppm)                   234 non-null    object \n",
      " 20  Antimony concentration (ppm)                  260 non-null    object \n",
      " 21  Current (A)                                   1404 non-null   float64\n",
      " 22  Voltage (V)                                   1404 non-null   float64\n",
      " 23  AC or DC                                      1437 non-null   object \n",
      " 24  Electrode positive or negative                1496 non-null   object \n",
      " 25  Heat input (kJmm-1)                           1652 non-null   float64\n",
      " 26  Interpass temperature (deg C)                 1652 non-null   object \n",
      " 27  Type of weld                                  1652 non-null   object \n",
      " 28  Post weld heat treatment temperature (deg C)  1639 non-null   float64\n",
      " 29  Post weld heat treatment time (hours)         1639 non-null   float64\n",
      " 30  Yield strength (MPa)                          780 non-null    float64\n",
      " 31  Ultimate tensile strength (MPa)               738 non-null    float64\n",
      " 32  Elongation (%)                                700 non-null    float64\n",
      " 33  Reduction of Area (%)                         705 non-null    float64\n",
      " 34  Charpy temperature (deg C)                    879 non-null    float64\n",
      " 35  Charpy impact toughness (J)                   879 non-null    float64\n",
      " 36  Hardness (kgmm-2)                             138 non-null    object \n",
      " 37  50 % FATT                                     31 non-null     float64\n",
      " 38  Primary ferrite in microstructure (%)         98 non-null     object \n",
      " 39  Ferrite with second phase (%)                 90 non-null     float64\n",
      " 40  Acicular ferrite (%)                          90 non-null     float64\n",
      " 41  Martensite (%)                                89 non-null     float64\n",
      " 42  Ferrite with carbide aggregate (%)            89 non-null     float64\n",
      " 43  Weld ID                                       1652 non-null   object \n",
      "dtypes: float64(23), object(21)\n",
      "memory usage: 568.0+ KB\n"
     ]
    }
   ],
   "source": [
    "df.info()"
   ]
  },
  {
   "cell_type": "markdown",
   "metadata": {},
   "source": [
    "We can see that already 23 columns have no problems.\n",
    "Now, we will deal with the other numerical columns that may contain some anomalies (like the '<' in the last example)"
   ]
  },
  {
   "cell_type": "markdown",
   "metadata": {},
   "source": [
    "First, we will remove the '<' symbole from numerical variables"
   ]
  },
  {
   "cell_type": "code",
   "execution_count": 9,
   "metadata": {},
   "outputs": [
    {
     "name": "stderr",
     "output_type": "stream",
     "text": [
<<<<<<< HEAD
      "C:\\Users\\ASUS\\AppData\\Local\\Temp\\ipykernel_3260\\2566959729.py:2: FutureWarning: errors='ignore' is deprecated and will raise in a future version. Use to_numeric without passing `errors` and catch exceptions explicitly instead\n",
=======
      "C:\\Users\\LENOVO\\AppData\\Local\\Temp\\ipykernel_20148\\2566959729.py:2: FutureWarning: errors='ignore' is deprecated and will raise in a future version. Use to_numeric without passing `errors` and catch exceptions explicitly instead\n",
>>>>>>> 7eed920ab825864c45bc90d63680cafd6e245ae7
      "  df = df.apply(pd.to_numeric, errors='ignore')\n"
     ]
    }
   ],
   "source": [
    "df.replace({r'<': '', }, regex=True, inplace=True)\n",
    "df = df.apply(pd.to_numeric, errors='ignore')\n"
   ]
  },
  {
   "cell_type": "code",
   "execution_count": 10,
   "metadata": {},
   "outputs": [
    {
     "name": "stdout",
     "output_type": "stream",
     "text": [
      "<class 'pandas.core.frame.DataFrame'>\n",
      "RangeIndex: 1652 entries, 0 to 1651\n",
      "Data columns (total 44 columns):\n",
      " #   Column                                        Non-Null Count  Dtype  \n",
      "---  ------                                        --------------  -----  \n",
      " 0   Carbon concentration (weight%)                1652 non-null   float64\n",
      " 1   Silicon concentration (weight%)               1652 non-null   float64\n",
      " 2   Manganese concentration (weight%)             1652 non-null   float64\n",
      " 3   Sulphur concentration (weight%)               1648 non-null   float64\n",
      " 4   Phosphorus concentration (weight%)            1642 non-null   float64\n",
      " 5   Nickel concentration (weight%)                697 non-null    float64\n",
      " 6   Chromium concentration (weight%)              784 non-null    float64\n",
      " 7   Molybdenum concentration (weight%)            793 non-null    float64\n",
      " 8   Vanadium concentration (weight%)              928 non-null    float64\n",
      " 9   Copper concentration (weight%)                578 non-null    float64\n",
      " 10  Cobalt concentration (weight%)                129 non-null    float64\n",
      " 11  Tungsten concentration (weight%)              75 non-null     float64\n",
      " 12  Oxygen concentration (ppm)                    1256 non-null   float64\n",
      " 13  Titanium concentration (ppm)                  935 non-null    float64\n",
      " 14  Nitrogen concentration (ppm)                  1242 non-null   object \n",
      " 15  Aluminium concentration (ppm)                 905 non-null    float64\n",
      " 16  Boron concentration (ppm)                     504 non-null    float64\n",
      " 17  Niobium concentration (ppm)                   752 non-null    float64\n",
      " 18  Tin concentration (ppm)                       296 non-null    float64\n",
      " 19  Arsenic concentration (ppm)                   234 non-null    float64\n",
      " 20  Antimony concentration (ppm)                  260 non-null    float64\n",
      " 21  Current (A)                                   1404 non-null   float64\n",
      " 22  Voltage (V)                                   1404 non-null   float64\n",
      " 23  AC or DC                                      1437 non-null   object \n",
      " 24  Electrode positive or negative                1496 non-null   object \n",
      " 25  Heat input (kJmm-1)                           1652 non-null   float64\n",
      " 26  Interpass temperature (deg C)                 1652 non-null   object \n",
      " 27  Type of weld                                  1652 non-null   object \n",
      " 28  Post weld heat treatment temperature (deg C)  1639 non-null   float64\n",
      " 29  Post weld heat treatment time (hours)         1639 non-null   float64\n",
      " 30  Yield strength (MPa)                          780 non-null    float64\n",
      " 31  Ultimate tensile strength (MPa)               738 non-null    float64\n",
      " 32  Elongation (%)                                700 non-null    float64\n",
      " 33  Reduction of Area (%)                         705 non-null    float64\n",
      " 34  Charpy temperature (deg C)                    879 non-null    float64\n",
      " 35  Charpy impact toughness (J)                   879 non-null    float64\n",
      " 36  Hardness (kgmm-2)                             138 non-null    object \n",
      " 37  50 % FATT                                     31 non-null     float64\n",
      " 38  Primary ferrite in microstructure (%)         98 non-null     float64\n",
      " 39  Ferrite with second phase (%)                 90 non-null     float64\n",
      " 40  Acicular ferrite (%)                          90 non-null     float64\n",
      " 41  Martensite (%)                                89 non-null     float64\n",
      " 42  Ferrite with carbide aggregate (%)            89 non-null     float64\n",
      " 43  Weld ID                                       1652 non-null   object \n",
      "dtypes: float64(37), object(7)\n",
      "memory usage: 568.0+ KB\n"
     ]
    }
   ],
   "source": [
    "df.info()"
   ]
  },
  {
   "cell_type": "markdown",
   "metadata": {},
   "source": [
    "We still have 7 'object' type columns, let's explore them"
   ]
  },
  {
   "cell_type": "code",
<<<<<<< HEAD
   "execution_count": null,
   "metadata": {},
   "outputs": [],
   "source": []
  },
  {
   "cell_type": "code",
   "execution_count": 12,
=======
   "execution_count": 11,
>>>>>>> 7eed920ab825864c45bc90d63680cafd6e245ae7
   "metadata": {},
   "outputs": [
    {
     "data": {
      "text/html": [
       "<div>\n",
       "<style scoped>\n",
       "    .dataframe tbody tr th:only-of-type {\n",
       "        vertical-align: middle;\n",
       "    }\n",
       "\n",
       "    .dataframe tbody tr th {\n",
       "        vertical-align: top;\n",
       "    }\n",
       "\n",
       "    .dataframe thead th {\n",
       "        text-align: right;\n",
       "    }\n",
       "</style>\n",
       "<table border=\"1\" class=\"dataframe\">\n",
       "  <thead>\n",
       "    <tr style=\"text-align: right;\">\n",
       "      <th></th>\n",
       "      <th>Nitrogen concentration (ppm)</th>\n",
       "      <th>AC or DC</th>\n",
       "      <th>Electrode positive or negative</th>\n",
       "      <th>Interpass temperature (deg C)</th>\n",
       "      <th>Type of weld</th>\n",
       "      <th>Hardness (kgmm-2)</th>\n",
       "      <th>Weld ID</th>\n",
       "    </tr>\n",
       "  </thead>\n",
       "  <tbody>\n",
       "    <tr>\n",
       "      <th>0</th>\n",
       "      <td>NaN</td>\n",
       "      <td>DC</td>\n",
       "      <td>+</td>\n",
       "      <td>200</td>\n",
       "      <td>MMA</td>\n",
       "      <td>NaN</td>\n",
       "      <td>Evans-Ni/CMn-1990/1991-0Aaw</td>\n",
       "    </tr>\n",
       "    <tr>\n",
       "      <th>1</th>\n",
       "      <td>NaN</td>\n",
       "      <td>DC</td>\n",
       "      <td>+</td>\n",
       "      <td>200</td>\n",
       "      <td>MMA</td>\n",
       "      <td>NaN</td>\n",
       "      <td>Evans-Ni/CMn-1990/1991-0Aawch</td>\n",
       "    </tr>\n",
       "    <tr>\n",
       "      <th>2</th>\n",
       "      <td>NaN</td>\n",
       "      <td>DC</td>\n",
       "      <td>+</td>\n",
       "      <td>200</td>\n",
       "      <td>MMA</td>\n",
       "      <td>NaN</td>\n",
       "      <td>Evans-Ni/CMn-1990/1991-0Aht</td>\n",
       "    </tr>\n",
       "    <tr>\n",
       "      <th>3</th>\n",
       "      <td>NaN</td>\n",
       "      <td>DC</td>\n",
       "      <td>+</td>\n",
       "      <td>200</td>\n",
       "      <td>MMA</td>\n",
       "      <td>NaN</td>\n",
       "      <td>Evans-Ni/CMn-1990/1991-0Baw</td>\n",
       "    </tr>\n",
       "    <tr>\n",
       "      <th>4</th>\n",
       "      <td>NaN</td>\n",
       "      <td>DC</td>\n",
       "      <td>+</td>\n",
       "      <td>200</td>\n",
       "      <td>MMA</td>\n",
       "      <td>NaN</td>\n",
       "      <td>Evans-Ni/CMn-1990/1991-0Bawch</td>\n",
       "    </tr>\n",
       "    <tr>\n",
       "      <th>...</th>\n",
       "      <td>...</td>\n",
       "      <td>...</td>\n",
       "      <td>...</td>\n",
       "      <td>...</td>\n",
       "      <td>...</td>\n",
       "      <td>...</td>\n",
       "      <td>...</td>\n",
       "    </tr>\n",
       "    <tr>\n",
       "      <th>1647</th>\n",
       "      <td>398</td>\n",
       "      <td>NaN</td>\n",
       "      <td>+</td>\n",
       "      <td>200</td>\n",
       "      <td>SA</td>\n",
       "      <td>NaN</td>\n",
       "      <td>Birmingham-MAX35</td>\n",
       "    </tr>\n",
       "    <tr>\n",
       "      <th>1648</th>\n",
       "      <td>394</td>\n",
       "      <td>NaN</td>\n",
       "      <td>+</td>\n",
       "      <td>200</td>\n",
       "      <td>SA</td>\n",
       "      <td>NaN</td>\n",
       "      <td>Birmingham-MAX36</td>\n",
       "    </tr>\n",
       "    <tr>\n",
       "      <th>1649</th>\n",
       "      <td>96</td>\n",
       "      <td>NaN</td>\n",
       "      <td>+</td>\n",
       "      <td>200</td>\n",
       "      <td>SA</td>\n",
       "      <td>NaN</td>\n",
       "      <td>Birmingham-MAX37</td>\n",
       "    </tr>\n",
       "    <tr>\n",
       "      <th>1650</th>\n",
       "      <td>99</td>\n",
       "      <td>NaN</td>\n",
       "      <td>+</td>\n",
       "      <td>200</td>\n",
       "      <td>SA</td>\n",
       "      <td>NaN</td>\n",
       "      <td>Birmingham-MAX38</td>\n",
       "    </tr>\n",
       "    <tr>\n",
       "      <th>1651</th>\n",
       "      <td>103</td>\n",
       "      <td>NaN</td>\n",
       "      <td>+</td>\n",
       "      <td>200</td>\n",
       "      <td>SA</td>\n",
       "      <td>NaN</td>\n",
       "      <td>Birmingham-MAX39</td>\n",
       "    </tr>\n",
       "  </tbody>\n",
       "</table>\n",
       "<p>1652 rows × 7 columns</p>\n",
       "</div>"
      ],
      "text/plain": [
       "     Nitrogen concentration (ppm) AC or DC Electrode positive or negative  \\\n",
       "0                             NaN       DC                              +   \n",
       "1                             NaN       DC                              +   \n",
       "2                             NaN       DC                              +   \n",
       "3                             NaN       DC                              +   \n",
       "4                             NaN       DC                              +   \n",
       "...                           ...      ...                            ...   \n",
       "1647                          398      NaN                              +   \n",
       "1648                          394      NaN                              +   \n",
       "1649                           96      NaN                              +   \n",
       "1650                           99      NaN                              +   \n",
       "1651                          103      NaN                              +   \n",
       "\n",
       "     Interpass temperature (deg C) Type of weld Hardness (kgmm-2)  \\\n",
       "0                              200          MMA               NaN   \n",
       "1                              200          MMA               NaN   \n",
       "2                              200          MMA               NaN   \n",
       "3                              200          MMA               NaN   \n",
       "4                              200          MMA               NaN   \n",
       "...                            ...          ...               ...   \n",
       "1647                           200           SA               NaN   \n",
       "1648                           200           SA               NaN   \n",
       "1649                           200           SA               NaN   \n",
       "1650                           200           SA               NaN   \n",
       "1651                           200           SA               NaN   \n",
       "\n",
       "                            Weld ID  \n",
       "0       Evans-Ni/CMn-1990/1991-0Aaw  \n",
       "1     Evans-Ni/CMn-1990/1991-0Aawch  \n",
       "2       Evans-Ni/CMn-1990/1991-0Aht  \n",
       "3       Evans-Ni/CMn-1990/1991-0Baw  \n",
       "4     Evans-Ni/CMn-1990/1991-0Bawch  \n",
       "...                             ...  \n",
       "1647               Birmingham-MAX35  \n",
       "1648               Birmingham-MAX36  \n",
       "1649               Birmingham-MAX37  \n",
       "1650               Birmingham-MAX38  \n",
       "1651               Birmingham-MAX39  \n",
       "\n",
       "[1652 rows x 7 columns]"
      ]
     },
<<<<<<< HEAD
     "execution_count": 12,
=======
     "execution_count": 11,
>>>>>>> 7eed920ab825864c45bc90d63680cafd6e245ae7
     "metadata": {},
     "output_type": "execute_result"
    }
   ],
   "source": [
    "object_columns = df.select_dtypes(include=['object']).columns\n",
    "\n",
    "df[object_columns]"
   ]
  },
  {
   "cell_type": "markdown",
   "metadata": {},
   "source": [
    "We can see that the 3 columns 'Nitrogen concentration (ppm)', 'Interpass temperature (deg C)' and 'Hardness (kgmm-2)' should have numerical values.\n",
    "Let's see what are the non-numerical values in these columns"
   ]
  },
  {
   "cell_type": "code",
<<<<<<< HEAD
   "execution_count": null,
   "metadata": {},
   "outputs": [],
   "source": []
  },
  {
   "cell_type": "code",
   "execution_count": 13,
=======
   "execution_count": 12,
>>>>>>> 7eed920ab825864c45bc90d63680cafd6e245ae7
   "metadata": {},
   "outputs": [],
   "source": [
    "list_of_numeric_columns = ['Nitrogen concentration (ppm)', 'Interpass temperature (deg C)', 'Hardness (kgmm-2)']"
   ]
  },
  {
   "cell_type": "code",
<<<<<<< HEAD
   "execution_count": 14,
=======
   "execution_count": 13,
>>>>>>> 7eed920ab825864c45bc90d63680cafd6e245ae7
   "metadata": {},
   "outputs": [
    {
     "name": "stdout",
     "output_type": "stream",
     "text": [
      "Nitrogen concentration (ppm) [nan '72' '54' '57' '47' '44' '46' '68' '55' '53' '50' '48' '52' '89' '70'\n",
      " '41' '38' '80' '49' '77' '94' '65' '67' '58' '60' '460' '480' '160' '155'\n",
      " '67tot33res' '66totndres' '61tot34res' '54totndres' '54tot24res'\n",
      " '52tot18res' '50tot17res' '48tot18res' '78' '88' '75' '84' '85' '79' '76'\n",
      " '83' '92' '74' '86' '90' '110' '97' '99' '91' '105' '120' '150' '81' '87'\n",
      " '93' '102' '96' '66' '73' '71' '82' '145' '148' '164' '166' '235' '226'\n",
      " '243' '239' '253' '249' '240' '100' '143' '119' '539' '515' '494' '489'\n",
      " '552' '517' '520' '544' '526' '537' '529' '509' '523' '107' '114' '106'\n",
      " '117' '125' '95' '109' '64' '36' '63' '43' '39' '34' '69' '59' '37' '51'\n",
      " '56' '140' '190' '170' '124' '133' '108' '61' '122' '121' '131' '101'\n",
      " '103' '116' '138' '139' '62' '136' '540' '180' '450' '370' '250' '400'\n",
      " '430' '420' '410' '390' '260' '340' '26' '22' '21' '35' '127' '156' '245'\n",
      " '312' '266' '123' '236' '165' '113' '269' '45' '27' '42' '98' '373' '376'\n",
      " '416' '398' '394']\n",
      "\n",
      "\n",
      "Interpass temperature (deg C) ['200' '150' '175' '107' '100' '250' '140' '300' '20' '240' '150-200'\n",
      " '177' '125' '225' '210']\n",
      "\n",
      "\n",
      "Hardness (kgmm-2) [nan '257' '227' '224' '226' '234' '217' '213' '209' '259' '239' '223'\n",
      " '230' '252' '241' '231' '229' '180' '174' '220' '184' '193' '189' '181'\n",
      " '183' '194' '216' '191' '164' '154' '265' '225' '196' '202' '197' '172'\n",
      " '158(Hv30)' '155(Hv30)' '153(Hv30)' '161(Hv30)' '168(Hv30)' '203(Hv30)'\n",
      " '157(Hv30)' '174(Hv30)' '144(Hv30)' '143(Hv30)' '154(Hv30)' '170(Hv30)'\n",
      " '459Hv10' '405Hv10' '451Hv10' '432Hv10' '264Hv10' '241Hv10' '251Hv10'\n",
      " '225Hv10' '233Hv10' '208Hv10' '373Hv10' '224Hv10' '210Hv10' '212Hv10'\n",
      " '202Hv10' '204Hv10' '201Hv10' '398Hv10' '249Hv10' '226Hv10' '234Hv10'\n",
      " '219Hv10' '467Hv10' '277Hv10' '254Hv10' '263Hv10' '237Hv10' '362Hv10'\n",
      " '291Hv10' '262Hv10' '266Hv10' '253Hv10' '257Hv10' '246Hv10' '264Hv5'\n",
      " '269Hv5' '233Hv5' '226Hv5' '222' '205' '253' '219' '182' '199' '240'\n",
      " '244' '247' '233' '212']\n",
      "\n",
      "\n"
     ]
    }
   ],
   "source": [
    "#see all the unique values in the these columns\n",
    "for column in list_of_numeric_columns:\n",
    "    print(column, df[column].unique())\n",
    "    print('\\n')"
   ]
  },
  {
   "cell_type": "markdown",
   "metadata": {},
   "source": [
    "Let's adress the first column : 'Nitrogen concentration (ppm)'"
   ]
  },
  {
   "cell_type": "code",
<<<<<<< HEAD
   "execution_count": null,
   "metadata": {},
   "outputs": [],
   "source": []
  },
  {
   "cell_type": "code",
   "execution_count": 15,
=======
   "execution_count": 14,
>>>>>>> 7eed920ab825864c45bc90d63680cafd6e245ae7
   "metadata": {},
   "outputs": [],
   "source": [
    "df1 = df.copy()"
   ]
  },
  {
   "cell_type": "code",
<<<<<<< HEAD
   "execution_count": 16,
=======
   "execution_count": 15,
>>>>>>> 7eed920ab825864c45bc90d63680cafd6e245ae7
   "metadata": {},
   "outputs": [
    {
     "data": {
      "text/plain": [
       "array(['67tot33res', '66totndres', '61tot34res', '54totndres',\n",
       "       '54tot24res', '52tot18res', '50tot17res', '48tot18res'],\n",
       "      dtype=object)"
      ]
     },
<<<<<<< HEAD
     "execution_count": 16,
=======
     "execution_count": 15,
>>>>>>> 7eed920ab825864c45bc90d63680cafd6e245ae7
     "metadata": {},
     "output_type": "execute_result"
    }
   ],
   "source": [
    "# Find the non-numeric entries in 'Nitrogen concentration (ppm)'\n",
    "df1['Nitrogen concentration (ppm)_numeric'] = pd.to_numeric(df1['Nitrogen concentration (ppm)'], errors='coerce')\n",
    "\n",
    "# Identify rows where the conversion resulted in NaN (indicating non-numeric values)\n",
    "problematic_entries = df1[df1['Nitrogen concentration (ppm)_numeric'].isna() & ~df1['Nitrogen concentration (ppm)'].isna()]['Nitrogen concentration (ppm)'].unique()\n",
    "\n",
    "df1 = df1.drop(columns=['Nitrogen concentration (ppm)_numeric'])\n",
    "\n",
    "problematic_entries  "
   ]
  },
  {
   "cell_type": "markdown",
   "metadata": {},
   "source": [
    "After extensive investigation into the meaning of these values, we discovered through various articles that the notation XtotYres is an abbreviation for X total and Y residual. This indicates that the nitrogen concentration in the material is divided into two components: the total concentration (X) and the residual concentration (Y), which remains after some process (nd stands for non-detected).\n",
    "\n",
    "For the purpose of our analysis, we will focus on the total concentration (X), as it represents the complete amount of nitrogen present in the material before any processes or reactions occur. The residual concentration often reflects secondary or incomplete reactions and is typically less representative of the material's initial state or overall chemical composition. By considering the total concentration, we ensure that our analysis captures the full nitrogen content, which is more relevant for evaluating the material's properties and predicting weld quality.\n",
    "\n",
    "(we have only 59 values containing residual concentations, we don't need to consider the residual concentration as a new independant variable)\n"
   ]
  },
  {
   "cell_type": "markdown",
   "metadata": {},
   "source": [
    "We will therefore replace the values of these cases with the total concentration (X)"
   ]
  },
  {
   "cell_type": "code",
<<<<<<< HEAD
   "execution_count": 17,
=======
   "execution_count": 16,
>>>>>>> 7eed920ab825864c45bc90d63680cafd6e245ae7
   "metadata": {},
   "outputs": [],
   "source": [
    "# convert the problematic entries to numeric\n",
    "\n",
    "def converter(x):\n",
    "    try:\n",
    "        return float(x)\n",
    "    except:\n",
    "        return float(x[:2])"
   ]
  },
  {
   "cell_type": "code",
<<<<<<< HEAD
   "execution_count": 18,
=======
   "execution_count": 17,
>>>>>>> 7eed920ab825864c45bc90d63680cafd6e245ae7
   "metadata": {},
   "outputs": [],
   "source": [
    "df['Nitrogen concentration (ppm)'] = df['Nitrogen concentration (ppm)'].apply(converter)"
   ]
  },
  {
   "cell_type": "code",
<<<<<<< HEAD
   "execution_count": 19,
=======
   "execution_count": 18,
>>>>>>> 7eed920ab825864c45bc90d63680cafd6e245ae7
   "metadata": {},
   "outputs": [
    {
     "data": {
      "text/plain": [
       "0         NaN\n",
       "1         NaN\n",
       "2         NaN\n",
       "3         NaN\n",
       "4         NaN\n",
       "        ...  \n",
       "1647    398.0\n",
       "1648    394.0\n",
       "1649     96.0\n",
       "1650     99.0\n",
       "1651    103.0\n",
       "Name: Nitrogen concentration (ppm), Length: 1652, dtype: float64"
      ]
     },
<<<<<<< HEAD
     "execution_count": 19,
=======
     "execution_count": 18,
>>>>>>> 7eed920ab825864c45bc90d63680cafd6e245ae7
     "metadata": {},
     "output_type": "execute_result"
    }
   ],
   "source": [
    "df['Nitrogen concentration (ppm)']"
   ]
  },
  {
   "cell_type": "markdown",
   "metadata": {},
   "source": [
    "Now, all 'Nitrogen concentration (ppm)' values are numerical\n"
   ]
  },
  {
   "cell_type": "markdown",
   "metadata": {},
   "source": [
    "Let's adress the second column : Interpass temperature (deg C)"
   ]
  },
  {
   "cell_type": "code",
<<<<<<< HEAD
   "execution_count": 20,
=======
   "execution_count": 19,
>>>>>>> 7eed920ab825864c45bc90d63680cafd6e245ae7
   "metadata": {},
   "outputs": [],
   "source": [
    "df1 = df.copy()"
   ]
  },
  {
   "cell_type": "code",
<<<<<<< HEAD
   "execution_count": 21,
=======
   "execution_count": 20,
>>>>>>> 7eed920ab825864c45bc90d63680cafd6e245ae7
   "metadata": {},
   "outputs": [
    {
     "data": {
      "text/plain": [
       "array(['150-200'], dtype=object)"
      ]
     },
<<<<<<< HEAD
     "execution_count": 21,
=======
     "execution_count": 20,
>>>>>>> 7eed920ab825864c45bc90d63680cafd6e245ae7
     "metadata": {},
     "output_type": "execute_result"
    }
   ],
   "source": [
    "# Find the non-numeric entries in 'Nitrogen concentration (ppm)'\n",
    "df1['Interpass temperature (deg C)_numeric'] = pd.to_numeric(df1['Interpass temperature (deg C)'], errors='coerce')\n",
    "\n",
    "# Identify rows where the conversion resulted in NaN (indicating non-numeric values)\n",
    "problematic_entries = df1[df1['Interpass temperature (deg C)_numeric'].isna() & ~df1['Interpass temperature (deg C)'].isna()]['Interpass temperature (deg C)'].unique()\n",
    "\n",
    "df1 = df1.drop(columns=['Interpass temperature (deg C)_numeric'])\n",
    "\n",
    "problematic_entries  "
   ]
  },
  {
   "cell_type": "markdown",
   "metadata": {},
   "source": [
    "The only non-numerical value here is :  '150-200'"
   ]
  },
  {
   "cell_type": "code",
<<<<<<< HEAD
   "execution_count": 22,
=======
   "execution_count": 21,
>>>>>>> 7eed920ab825864c45bc90d63680cafd6e245ae7
   "metadata": {},
   "outputs": [
    {
     "data": {
      "text/html": [
       "<div>\n",
       "<style scoped>\n",
       "    .dataframe tbody tr th:only-of-type {\n",
       "        vertical-align: middle;\n",
       "    }\n",
       "\n",
       "    .dataframe tbody tr th {\n",
       "        vertical-align: top;\n",
       "    }\n",
       "\n",
       "    .dataframe thead th {\n",
       "        text-align: right;\n",
       "    }\n",
       "</style>\n",
       "<table border=\"1\" class=\"dataframe\">\n",
       "  <thead>\n",
       "    <tr style=\"text-align: right;\">\n",
       "      <th></th>\n",
       "      <th>Carbon concentration (weight%)</th>\n",
       "      <th>Silicon concentration (weight%)</th>\n",
       "      <th>Manganese concentration (weight%)</th>\n",
       "      <th>Sulphur concentration (weight%)</th>\n",
       "      <th>Phosphorus concentration (weight%)</th>\n",
       "      <th>Nickel concentration (weight%)</th>\n",
       "      <th>Chromium concentration (weight%)</th>\n",
       "      <th>Molybdenum concentration (weight%)</th>\n",
       "      <th>Vanadium concentration (weight%)</th>\n",
       "      <th>Copper concentration (weight%)</th>\n",
       "      <th>...</th>\n",
       "      <th>Charpy temperature (deg C)</th>\n",
       "      <th>Charpy impact toughness (J)</th>\n",
       "      <th>Hardness (kgmm-2)</th>\n",
       "      <th>50 % FATT</th>\n",
       "      <th>Primary ferrite in microstructure (%)</th>\n",
       "      <th>Ferrite with second phase (%)</th>\n",
       "      <th>Acicular ferrite (%)</th>\n",
       "      <th>Martensite (%)</th>\n",
       "      <th>Ferrite with carbide aggregate (%)</th>\n",
       "      <th>Weld ID</th>\n",
       "    </tr>\n",
       "  </thead>\n",
       "  <tbody>\n",
       "    <tr>\n",
       "      <th>1166</th>\n",
       "      <td>0.08</td>\n",
       "      <td>0.45</td>\n",
       "      <td>0.96</td>\n",
       "      <td>0.007</td>\n",
       "      <td>0.015</td>\n",
       "      <td>0.21</td>\n",
       "      <td>9.1</td>\n",
       "      <td>0.96</td>\n",
       "      <td>0.19</td>\n",
       "      <td>0.03</td>\n",
       "      <td>...</td>\n",
       "      <td>NaN</td>\n",
       "      <td>NaN</td>\n",
       "      <td>459Hv10</td>\n",
       "      <td>NaN</td>\n",
       "      <td>2.0</td>\n",
       "      <td>NaN</td>\n",
       "      <td>NaN</td>\n",
       "      <td>NaN</td>\n",
       "      <td>NaN</td>\n",
       "      <td>PantK-1990-w1</td>\n",
       "    </tr>\n",
       "    <tr>\n",
       "      <th>1167</th>\n",
       "      <td>0.10</td>\n",
       "      <td>0.54</td>\n",
       "      <td>0.66</td>\n",
       "      <td>0.006</td>\n",
       "      <td>0.014</td>\n",
       "      <td>0.31</td>\n",
       "      <td>9.0</td>\n",
       "      <td>0.82</td>\n",
       "      <td>0.23</td>\n",
       "      <td>0.02</td>\n",
       "      <td>...</td>\n",
       "      <td>NaN</td>\n",
       "      <td>NaN</td>\n",
       "      <td>405Hv10</td>\n",
       "      <td>NaN</td>\n",
       "      <td>11.0</td>\n",
       "      <td>NaN</td>\n",
       "      <td>NaN</td>\n",
       "      <td>NaN</td>\n",
       "      <td>NaN</td>\n",
       "      <td>PantK-1990-w2</td>\n",
       "    </tr>\n",
       "    <tr>\n",
       "      <th>1168</th>\n",
       "      <td>0.09</td>\n",
       "      <td>0.46</td>\n",
       "      <td>0.99</td>\n",
       "      <td>0.012</td>\n",
       "      <td>0.021</td>\n",
       "      <td>0.22</td>\n",
       "      <td>9.5</td>\n",
       "      <td>0.96</td>\n",
       "      <td>0.19</td>\n",
       "      <td>0.03</td>\n",
       "      <td>...</td>\n",
       "      <td>NaN</td>\n",
       "      <td>NaN</td>\n",
       "      <td>451Hv10</td>\n",
       "      <td>NaN</td>\n",
       "      <td>4.0</td>\n",
       "      <td>NaN</td>\n",
       "      <td>NaN</td>\n",
       "      <td>NaN</td>\n",
       "      <td>NaN</td>\n",
       "      <td>PantK-1990-w3</td>\n",
       "    </tr>\n",
       "    <tr>\n",
       "      <th>1169</th>\n",
       "      <td>0.09</td>\n",
       "      <td>0.37</td>\n",
       "      <td>1.03</td>\n",
       "      <td>0.004</td>\n",
       "      <td>0.010</td>\n",
       "      <td>0.05</td>\n",
       "      <td>8.8</td>\n",
       "      <td>1.03</td>\n",
       "      <td>0.25</td>\n",
       "      <td>0.01</td>\n",
       "      <td>...</td>\n",
       "      <td>NaN</td>\n",
       "      <td>NaN</td>\n",
       "      <td>432Hv10</td>\n",
       "      <td>NaN</td>\n",
       "      <td>12.0</td>\n",
       "      <td>NaN</td>\n",
       "      <td>NaN</td>\n",
       "      <td>NaN</td>\n",
       "      <td>NaN</td>\n",
       "      <td>PantK-1990-w4.0</td>\n",
       "    </tr>\n",
       "    <tr>\n",
       "      <th>1170</th>\n",
       "      <td>0.09</td>\n",
       "      <td>0.37</td>\n",
       "      <td>1.03</td>\n",
       "      <td>0.004</td>\n",
       "      <td>0.010</td>\n",
       "      <td>0.05</td>\n",
       "      <td>8.8</td>\n",
       "      <td>1.03</td>\n",
       "      <td>0.25</td>\n",
       "      <td>0.01</td>\n",
       "      <td>...</td>\n",
       "      <td>NaN</td>\n",
       "      <td>NaN</td>\n",
       "      <td>264Hv10</td>\n",
       "      <td>NaN</td>\n",
       "      <td>NaN</td>\n",
       "      <td>NaN</td>\n",
       "      <td>NaN</td>\n",
       "      <td>NaN</td>\n",
       "      <td>NaN</td>\n",
       "      <td>PantK-1990-w4.1</td>\n",
       "    </tr>\n",
       "  </tbody>\n",
       "</table>\n",
       "<p>5 rows × 44 columns</p>\n",
       "</div>"
      ],
      "text/plain": [
       "      Carbon concentration (weight%)  Silicon concentration (weight%)  \\\n",
       "1166                            0.08                             0.45   \n",
       "1167                            0.10                             0.54   \n",
       "1168                            0.09                             0.46   \n",
       "1169                            0.09                             0.37   \n",
       "1170                            0.09                             0.37   \n",
       "\n",
       "      Manganese concentration (weight%)  Sulphur concentration (weight%)  \\\n",
       "1166                               0.96                            0.007   \n",
       "1167                               0.66                            0.006   \n",
       "1168                               0.99                            0.012   \n",
       "1169                               1.03                            0.004   \n",
       "1170                               1.03                            0.004   \n",
       "\n",
       "      Phosphorus concentration (weight%)  Nickel concentration (weight%)  \\\n",
       "1166                               0.015                            0.21   \n",
       "1167                               0.014                            0.31   \n",
       "1168                               0.021                            0.22   \n",
       "1169                               0.010                            0.05   \n",
       "1170                               0.010                            0.05   \n",
       "\n",
       "      Chromium concentration (weight%)  Molybdenum concentration (weight%)  \\\n",
       "1166                               9.1                                0.96   \n",
       "1167                               9.0                                0.82   \n",
       "1168                               9.5                                0.96   \n",
       "1169                               8.8                                1.03   \n",
       "1170                               8.8                                1.03   \n",
       "\n",
       "      Vanadium concentration (weight%)  Copper concentration (weight%)  ...  \\\n",
       "1166                              0.19                            0.03  ...   \n",
       "1167                              0.23                            0.02  ...   \n",
       "1168                              0.19                            0.03  ...   \n",
       "1169                              0.25                            0.01  ...   \n",
       "1170                              0.25                            0.01  ...   \n",
       "\n",
       "      Charpy temperature (deg C)  Charpy impact toughness (J)  \\\n",
       "1166                         NaN                          NaN   \n",
       "1167                         NaN                          NaN   \n",
       "1168                         NaN                          NaN   \n",
       "1169                         NaN                          NaN   \n",
       "1170                         NaN                          NaN   \n",
       "\n",
       "      Hardness (kgmm-2)  50 % FATT  Primary ferrite in microstructure (%)  \\\n",
       "1166            459Hv10        NaN                                    2.0   \n",
       "1167            405Hv10        NaN                                   11.0   \n",
       "1168            451Hv10        NaN                                    4.0   \n",
       "1169            432Hv10        NaN                                   12.0   \n",
       "1170            264Hv10        NaN                                    NaN   \n",
       "\n",
       "      Ferrite with second phase (%)  Acicular ferrite (%)  Martensite (%)  \\\n",
       "1166                            NaN                   NaN             NaN   \n",
       "1167                            NaN                   NaN             NaN   \n",
       "1168                            NaN                   NaN             NaN   \n",
       "1169                            NaN                   NaN             NaN   \n",
       "1170                            NaN                   NaN             NaN   \n",
       "\n",
       "      Ferrite with carbide aggregate (%)          Weld ID  \n",
       "1166                                 NaN    PantK-1990-w1  \n",
       "1167                                 NaN    PantK-1990-w2  \n",
       "1168                                 NaN    PantK-1990-w3  \n",
       "1169                                 NaN  PantK-1990-w4.0  \n",
       "1170                                 NaN  PantK-1990-w4.1  \n",
       "\n",
       "[5 rows x 44 columns]"
      ]
     },
<<<<<<< HEAD
     "execution_count": 22,
=======
     "execution_count": 21,
>>>>>>> 7eed920ab825864c45bc90d63680cafd6e245ae7
     "metadata": {},
     "output_type": "execute_result"
    }
   ],
   "source": [
    "# see the rows with a value of '150-200' in 'Interpass temperature (deg C)'\n",
    "df1[df1['Interpass temperature (deg C)'] == '150-200'].head()"
   ]
  },
  {
   "cell_type": "markdown",
   "metadata": {},
   "source": [
    "This variable, Interpass temperature (°C), describes the temperature of the material between multiple passes of the welding process. Maintaining a consistent interpass temperature is critical for ensuring the quality and mechanical properties of the weld. In some rows, the recorded value for this variable is given as a range, such as 150-200°C, rather than a single temperature. Since we need a numerical value for further analysis, we will transform this interval into its median value, which in this case is 175°C. This allows us to approximate the interpass temperature while ensuring that the data remains consistent and usable for modeling purposes."
   ]
  },
  {
   "cell_type": "code",
<<<<<<< HEAD
   "execution_count": 23,
=======
   "execution_count": 22,
>>>>>>> 7eed920ab825864c45bc90d63680cafd6e245ae7
   "metadata": {},
   "outputs": [],
   "source": [
    "def converter(x):\n",
    "    try:\n",
    "        return float(x)\n",
    "    except:\n",
    "        return 175"
   ]
  },
  {
   "cell_type": "code",
<<<<<<< HEAD
   "execution_count": 24,
=======
   "execution_count": 23,
>>>>>>> 7eed920ab825864c45bc90d63680cafd6e245ae7
   "metadata": {},
   "outputs": [
    {
     "data": {
      "text/plain": [
       "0       200.0\n",
       "1       200.0\n",
       "2       200.0\n",
       "3       200.0\n",
       "4       200.0\n",
       "        ...  \n",
       "1647    200.0\n",
       "1648    200.0\n",
       "1649    200.0\n",
       "1650    200.0\n",
       "1651    200.0\n",
       "Name: Interpass temperature (deg C), Length: 1652, dtype: float64"
      ]
     },
<<<<<<< HEAD
     "execution_count": 24,
=======
     "execution_count": 23,
>>>>>>> 7eed920ab825864c45bc90d63680cafd6e245ae7
     "metadata": {},
     "output_type": "execute_result"
    }
   ],
   "source": [
    "df['Interpass temperature (deg C)'] = df['Interpass temperature (deg C)'].apply(converter)\n",
    "df['Interpass temperature (deg C)']"
   ]
  },
  {
   "cell_type": "markdown",
   "metadata": {},
   "source": [
    "Now, all 'Interpass temperature (deg C)' values are numerical\n"
   ]
  },
  {
   "cell_type": "markdown",
   "metadata": {},
   "source": [
    "Let's adress the third column : Hardness (kgmm-2)"
   ]
  },
  {
   "cell_type": "code",
<<<<<<< HEAD
   "execution_count": 25,
=======
   "execution_count": 24,
>>>>>>> 7eed920ab825864c45bc90d63680cafd6e245ae7
   "metadata": {},
   "outputs": [],
   "source": [
    "df1 = df.copy()"
   ]
  },
  {
   "cell_type": "code",
   "execution_count": 25,
   "metadata": {},
   "outputs": [
    {
     "data": {
      "text/plain": [
       "array(['158(Hv30)', '155(Hv30)', '153(Hv30)', '161(Hv30)', '168(Hv30)',\n",
       "       '203(Hv30)', '157(Hv30)', '174(Hv30)', '144(Hv30)', '143(Hv30)',\n",
       "       '154(Hv30)', '170(Hv30)', '459Hv10', '405Hv10', '451Hv10',\n",
       "       '432Hv10', '264Hv10', '241Hv10', '251Hv10', '225Hv10', '233Hv10',\n",
       "       '208Hv10', '373Hv10', '224Hv10', '210Hv10', '212Hv10', '202Hv10',\n",
       "       '204Hv10', '201Hv10', '398Hv10', '249Hv10', '226Hv10', '234Hv10',\n",
       "       '219Hv10', '467Hv10', '277Hv10', '254Hv10', '263Hv10', '237Hv10',\n",
       "       '362Hv10', '291Hv10', '262Hv10', '266Hv10', '253Hv10', '257Hv10',\n",
       "       '246Hv10', '264Hv5', '269Hv5', '233Hv5', '226Hv5'], dtype=object)"
      ]
     },
     "execution_count": 25,
     "metadata": {},
     "output_type": "execute_result"
    }
   ],
   "source": [
    "# Find the non-numeric entries in 'Nitrogen concentration (ppm)'\n",
    "df1['Hardness (kgmm-2)_numeric'] = pd.to_numeric(df1['Hardness (kgmm-2)'], errors='coerce')\n",
    "\n",
    "# Identify rows where the conversion resulted in NaN (indicating non-numeric values)\n",
    "problematic_entries = df1[df1['Hardness (kgmm-2)_numeric'].isna() & ~df1['Hardness (kgmm-2)'].isna()]['Hardness (kgmm-2)'].unique()\n",
    "\n",
    "df1 = df1.drop(columns=['Hardness (kgmm-2)_numeric'])\n",
    "\n",
    "problematic_entries  "
   ]
  },
  {
   "cell_type": "code",
   "execution_count": 26,
   "metadata": {},
   "outputs": [],
   "source": [
    "# remove ( and ) from the 'Hardness (kgmm-2)' column\n",
    "df['Hardness (kgmm-2)'] = df['Hardness (kgmm-2)'].str.replace('(', '')\n",
    "df['Hardness (kgmm-2)'] = df['Hardness (kgmm-2)'].str.replace(')', '')\n"
   ]
  },
  {
   "cell_type": "code",
   "execution_count": 27,
   "metadata": {},
   "outputs": [
    {
     "data": {
      "text/plain": [
       "<Axes: xlabel='Hardness (kgmm-2)'>"
      ]
     },
     "execution_count": 27,
     "metadata": {},
     "output_type": "execute_result"
    },
    {
     "data": {
      "image/png": "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",
      "text/plain": [
       "<Figure size 640x480 with 1 Axes>"
      ]
     },
     "metadata": {},
     "output_type": "display_data"
    }
   ],
   "source": [
    "#plot categorical data\n",
    "\n",
    "df['Hardness (kgmm-2)'].value_counts().plot(kind='bar')"
   ]
  },
  {
   "cell_type": "code",
<<<<<<< HEAD
   "execution_count": 27,
=======
   "execution_count": 28,
>>>>>>> 7eed920ab825864c45bc90d63680cafd6e245ae7
   "metadata": {},
   "outputs": [
    {
     "data": {
      "text/plain": [
       "1514"
      ]
     },
<<<<<<< HEAD
     "execution_count": 27,
=======
     "execution_count": 28,
>>>>>>> 7eed920ab825864c45bc90d63680cafd6e245ae7
     "metadata": {},
     "output_type": "execute_result"
    }
   ],
   "source": [
    "#count the number of missing values\n",
    "\n",
    "df['Hardness (kgmm-2)'].isnull().sum()"
   ]
  },
  {
   "cell_type": "code",
<<<<<<< HEAD
   "execution_count": 28,
=======
   "execution_count": 29,
>>>>>>> 7eed920ab825864c45bc90d63680cafd6e245ae7
   "metadata": {},
   "outputs": [],
   "source": [
    "df1 = df.copy()"
   ]
  },
  {
   "cell_type": "code",
   "execution_count": 30,
   "metadata": {},
   "outputs": [
    {
     "data": {
      "text/plain": [
       "array(['158Hv30', '155Hv30', '153Hv30', '161Hv30', '168Hv30', '203Hv30',\n",
       "       '157Hv30', '174Hv30', '144Hv30', '143Hv30', '154Hv30', '170Hv30',\n",
       "       '459Hv10', '405Hv10', '451Hv10', '432Hv10', '264Hv10', '241Hv10',\n",
       "       '251Hv10', '225Hv10', '233Hv10', '208Hv10', '373Hv10', '224Hv10',\n",
       "       '210Hv10', '212Hv10', '202Hv10', '204Hv10', '201Hv10', '398Hv10',\n",
       "       '249Hv10', '226Hv10', '234Hv10', '219Hv10', '467Hv10', '277Hv10',\n",
       "       '254Hv10', '263Hv10', '237Hv10', '362Hv10', '291Hv10', '262Hv10',\n",
       "       '266Hv10', '253Hv10', '257Hv10', '246Hv10', '264Hv5', '269Hv5',\n",
       "       '233Hv5', '226Hv5'], dtype=object)"
      ]
     },
     "execution_count": 30,
     "metadata": {},
     "output_type": "execute_result"
    }
   ],
   "source": [
    "df1['Hardness (kgmm-2)_numeric'] = pd.to_numeric(df1['Hardness (kgmm-2)'], errors='coerce')\n",
    "\n",
    "# Identify rows where the conversion resulted in NaN (indicating non-numeric values)\n",
    "problematic_entries = df1[df1['Hardness (kgmm-2)_numeric'].isna() & ~df1['Hardness (kgmm-2)'].isna()]['Hardness (kgmm-2)'].unique()\n",
    "\n",
    "df1 = df1.drop(columns=['Hardness (kgmm-2)_numeric'])\n",
    "\n",
    "problematic_entries  "
   ]
  },
  {
   "cell_type": "markdown",
   "metadata": {},
   "source": [
    "\n",
    "In this column, we have two types of hardness values:\n",
    "\n",
    "1. **Numerical values**: These are already standardized, such as `257`, `153`, etc.\n",
    "2. **Mixed values**: These values are formatted as `xHVy` (e.g., `150Hv30`), where `x` is the hardness value and `y` is the load in kgf used during the test.\n",
    "\n",
    "We need to standardize all the values in this column so that they are comparable, assuming a standard load of **10 kgf**.\n",
    "\n",
    "We will use the following formula to standardize values to a common load (e.g., 10 kgf):\n",
    "\n",
    "\n",
    "\n",
    "$$\n",
    "Hv_{\\text{standard}} = Hv_{\\text{measured}} \\times \\left( \\frac{L_{\\text{standard}}}{L_{\\text{measured}}} \\right)^n\n",
    "$$\n",
    "\n",
    "Where:\n",
    "- $ Hv_{\\text{standard}} $ is the standardized hardness value.\n",
    "- $ Hv_{\\text{measured}} $ is the hardness value measured at a specific load.\n",
    "- $  L_{\\text{standard}} $ is the standard load we will choose (in this case, **10 kgf**).\n",
    "- $  L_{\\text{measured}} $ is the load used during the measurement (extracted from the notation `xHVy`).\n",
    "- $  n  $ is an empirical constant, typically around **0.2** for metals.\n",
    "\n",
    "\n",
    "\n",
    "For values that don't mention a load (e.g., `257`), we will assume the default load used was **10 kgf**, meaning no adjustment is necessary.\n"
   ]
  },
  {
   "cell_type": "code",
<<<<<<< HEAD
   "execution_count": 29,
=======
   "execution_count": 31,
>>>>>>> 7eed920ab825864c45bc90d63680cafd6e245ae7
   "metadata": {},
   "outputs": [],
   "source": [
    "n=0.2\n",
    "L_standard = 10\n",
    "\n",
    "def transformer(x):\n",
    "    try:\n",
    "        return float(x)\n",
    "    except:\n",
    "        if x != np.nan :\n",
    "            liste=x.split('Hv')\n",
    "            L_measured = float(liste[1])\n",
    "            HV_measured = float(liste[0])\n",
    "            return HV_measured*((L_standard/L_measured)**n)"
   ]
  },
  {
   "cell_type": "code",
<<<<<<< HEAD
   "execution_count": 30,
=======
   "execution_count": 32,
>>>>>>> 7eed920ab825864c45bc90d63680cafd6e245ae7
   "metadata": {},
   "outputs": [
    {
     "data": {
      "text/plain": [
       "array([         nan, 257.        , 227.        , 224.        ,\n",
       "       226.        , 234.        , 217.        , 213.        ,\n",
       "       209.        , 259.        , 239.        , 223.        ,\n",
       "       230.        , 252.        , 241.        , 231.        ,\n",
       "       229.        , 180.        , 174.        , 220.        ,\n",
       "       184.        , 193.        , 189.        , 181.        ,\n",
       "       183.        , 194.        , 216.        , 191.        ,\n",
       "       164.        , 154.        , 265.        , 225.        ,\n",
       "       196.        , 202.        , 197.        , 172.        ,\n",
       "       126.83316676, 124.42494207, 122.81945895, 129.24139144,\n",
       "       134.86058238, 162.95653704, 126.0304252 , 139.67703175,\n",
       "       115.59478489, 114.79204333, 123.62220051, 136.4660655 ,\n",
       "       459.        , 405.        , 451.        , 432.        ,\n",
       "       264.        , 251.        , 233.        , 208.        ,\n",
       "       373.        , 210.        , 212.        , 204.        ,\n",
       "       201.        , 398.        , 249.        , 219.        ,\n",
       "       467.        , 277.        , 254.        , 263.        ,\n",
       "       237.        , 362.        , 291.        , 262.        ,\n",
       "       266.        , 253.        , 246.        , 303.25636572,\n",
       "       308.99985749, 267.64671671, 259.60582823, 222.        ,\n",
       "       205.        , 182.        , 199.        , 240.        ,\n",
       "       244.        , 247.        ])"
      ]
     },
<<<<<<< HEAD
     "execution_count": 30,
=======
     "execution_count": 32,
>>>>>>> 7eed920ab825864c45bc90d63680cafd6e245ae7
     "metadata": {},
     "output_type": "execute_result"
    }
   ],
   "source": [
    "df['Hardness (kgmm-2)'] = df['Hardness (kgmm-2)'].apply(transformer)\n",
    "df['Hardness (kgmm-2)'].unique()"
   ]
  },
  {
   "cell_type": "markdown",
   "metadata": {},
   "source": [
    "Well done, now the hardness column is float type"
   ]
  },
  {
   "cell_type": "code",
<<<<<<< HEAD
   "execution_count": 31,
=======
   "execution_count": 33,
>>>>>>> 7eed920ab825864c45bc90d63680cafd6e245ae7
   "metadata": {},
   "outputs": [
    {
     "name": "stdout",
     "output_type": "stream",
     "text": [
      "<class 'pandas.core.frame.DataFrame'>\n",
      "RangeIndex: 1652 entries, 0 to 1651\n",
      "Data columns (total 44 columns):\n",
      " #   Column                                        Non-Null Count  Dtype  \n",
      "---  ------                                        --------------  -----  \n",
      " 0   Carbon concentration (weight%)                1652 non-null   float64\n",
      " 1   Silicon concentration (weight%)               1652 non-null   float64\n",
      " 2   Manganese concentration (weight%)             1652 non-null   float64\n",
      " 3   Sulphur concentration (weight%)               1648 non-null   float64\n",
      " 4   Phosphorus concentration (weight%)            1642 non-null   float64\n",
      " 5   Nickel concentration (weight%)                697 non-null    float64\n",
      " 6   Chromium concentration (weight%)              784 non-null    float64\n",
      " 7   Molybdenum concentration (weight%)            793 non-null    float64\n",
      " 8   Vanadium concentration (weight%)              928 non-null    float64\n",
      " 9   Copper concentration (weight%)                578 non-null    float64\n",
      " 10  Cobalt concentration (weight%)                129 non-null    float64\n",
      " 11  Tungsten concentration (weight%)              75 non-null     float64\n",
      " 12  Oxygen concentration (ppm)                    1256 non-null   float64\n",
      " 13  Titanium concentration (ppm)                  935 non-null    float64\n",
      " 14  Nitrogen concentration (ppm)                  1242 non-null   float64\n",
      " 15  Aluminium concentration (ppm)                 905 non-null    float64\n",
      " 16  Boron concentration (ppm)                     504 non-null    float64\n",
      " 17  Niobium concentration (ppm)                   752 non-null    float64\n",
      " 18  Tin concentration (ppm)                       296 non-null    float64\n",
      " 19  Arsenic concentration (ppm)                   234 non-null    float64\n",
      " 20  Antimony concentration (ppm)                  260 non-null    float64\n",
      " 21  Current (A)                                   1404 non-null   float64\n",
      " 22  Voltage (V)                                   1404 non-null   float64\n",
      " 23  AC or DC                                      1437 non-null   object \n",
      " 24  Electrode positive or negative                1496 non-null   object \n",
      " 25  Heat input (kJmm-1)                           1652 non-null   float64\n",
      " 26  Interpass temperature (deg C)                 1652 non-null   float64\n",
      " 27  Type of weld                                  1652 non-null   object \n",
      " 28  Post weld heat treatment temperature (deg C)  1639 non-null   float64\n",
      " 29  Post weld heat treatment time (hours)         1639 non-null   float64\n",
      " 30  Yield strength (MPa)                          780 non-null    float64\n",
      " 31  Ultimate tensile strength (MPa)               738 non-null    float64\n",
      " 32  Elongation (%)                                700 non-null    float64\n",
      " 33  Reduction of Area (%)                         705 non-null    float64\n",
      " 34  Charpy temperature (deg C)                    879 non-null    float64\n",
      " 35  Charpy impact toughness (J)                   879 non-null    float64\n",
      " 36  Hardness (kgmm-2)                             138 non-null    float64\n",
      " 37  50 % FATT                                     31 non-null     float64\n",
      " 38  Primary ferrite in microstructure (%)         98 non-null     float64\n",
      " 39  Ferrite with second phase (%)                 90 non-null     float64\n",
      " 40  Acicular ferrite (%)                          90 non-null     float64\n",
      " 41  Martensite (%)                                89 non-null     float64\n",
      " 42  Ferrite with carbide aggregate (%)            89 non-null     float64\n",
      " 43  Weld ID                                       1652 non-null   object \n",
      "dtypes: float64(40), object(4)\n",
      "memory usage: 568.0+ KB\n"
     ]
    }
   ],
   "source": [
    "df.info()"
   ]
  },
  {
   "cell_type": "markdown",
   "metadata": {},
   "source": [
    "let's see the remaining object columns"
   ]
  },
  {
   "cell_type": "code",
   "execution_count": 40,
   "metadata": {},
   "outputs": [
    {
     "data": {
      "text/html": [
       "<div>\n",
       "<style scoped>\n",
       "    .dataframe tbody tr th:only-of-type {\n",
       "        vertical-align: middle;\n",
       "    }\n",
       "\n",
       "    .dataframe tbody tr th {\n",
       "        vertical-align: top;\n",
       "    }\n",
       "\n",
       "    .dataframe thead th {\n",
       "        text-align: right;\n",
       "    }\n",
       "</style>\n",
       "<table border=\"1\" class=\"dataframe\">\n",
       "  <thead>\n",
       "    <tr style=\"text-align: right;\">\n",
       "      <th></th>\n",
       "      <th>AC or DC</th>\n",
       "      <th>Electrode positive or negative</th>\n",
       "      <th>Type of weld</th>\n",
       "      <th>Weld ID</th>\n",
       "    </tr>\n",
       "  </thead>\n",
       "  <tbody>\n",
       "    <tr>\n",
       "      <th>0</th>\n",
       "      <td>DC</td>\n",
       "      <td>+</td>\n",
       "      <td>MMA</td>\n",
       "      <td>Evans-Ni/CMn-1990/1991-0Aaw</td>\n",
       "    </tr>\n",
       "    <tr>\n",
       "      <th>1</th>\n",
       "      <td>DC</td>\n",
       "      <td>+</td>\n",
       "      <td>MMA</td>\n",
       "      <td>Evans-Ni/CMn-1990/1991-0Aawch</td>\n",
       "    </tr>\n",
       "    <tr>\n",
       "      <th>2</th>\n",
       "      <td>DC</td>\n",
       "      <td>+</td>\n",
       "      <td>MMA</td>\n",
       "      <td>Evans-Ni/CMn-1990/1991-0Aht</td>\n",
       "    </tr>\n",
       "    <tr>\n",
       "      <th>3</th>\n",
       "      <td>DC</td>\n",
       "      <td>+</td>\n",
       "      <td>MMA</td>\n",
       "      <td>Evans-Ni/CMn-1990/1991-0Baw</td>\n",
       "    </tr>\n",
       "    <tr>\n",
       "      <th>4</th>\n",
       "      <td>DC</td>\n",
       "      <td>+</td>\n",
       "      <td>MMA</td>\n",
       "      <td>Evans-Ni/CMn-1990/1991-0Bawch</td>\n",
       "    </tr>\n",
       "    <tr>\n",
       "      <th>...</th>\n",
       "      <td>...</td>\n",
       "      <td>...</td>\n",
       "      <td>...</td>\n",
       "      <td>...</td>\n",
       "    </tr>\n",
       "    <tr>\n",
       "      <th>1647</th>\n",
       "      <td>NaN</td>\n",
       "      <td>+</td>\n",
       "      <td>SA</td>\n",
       "      <td>Birmingham-MAX35</td>\n",
       "    </tr>\n",
       "    <tr>\n",
       "      <th>1648</th>\n",
       "      <td>NaN</td>\n",
       "      <td>+</td>\n",
       "      <td>SA</td>\n",
       "      <td>Birmingham-MAX36</td>\n",
       "    </tr>\n",
       "    <tr>\n",
       "      <th>1649</th>\n",
       "      <td>NaN</td>\n",
       "      <td>+</td>\n",
       "      <td>SA</td>\n",
       "      <td>Birmingham-MAX37</td>\n",
       "    </tr>\n",
       "    <tr>\n",
       "      <th>1650</th>\n",
       "      <td>NaN</td>\n",
       "      <td>+</td>\n",
       "      <td>SA</td>\n",
       "      <td>Birmingham-MAX38</td>\n",
       "    </tr>\n",
       "    <tr>\n",
       "      <th>1651</th>\n",
       "      <td>NaN</td>\n",
       "      <td>+</td>\n",
       "      <td>SA</td>\n",
       "      <td>Birmingham-MAX39</td>\n",
       "    </tr>\n",
       "  </tbody>\n",
       "</table>\n",
       "<p>1652 rows × 4 columns</p>\n",
       "</div>"
      ],
      "text/plain": [
       "     AC or DC Electrode positive or negative Type of weld  \\\n",
       "0          DC                              +          MMA   \n",
       "1          DC                              +          MMA   \n",
       "2          DC                              +          MMA   \n",
       "3          DC                              +          MMA   \n",
       "4          DC                              +          MMA   \n",
       "...       ...                            ...          ...   \n",
       "1647      NaN                              +           SA   \n",
       "1648      NaN                              +           SA   \n",
       "1649      NaN                              +           SA   \n",
       "1650      NaN                              +           SA   \n",
       "1651      NaN                              +           SA   \n",
       "\n",
       "                            Weld ID  \n",
       "0       Evans-Ni/CMn-1990/1991-0Aaw  \n",
       "1     Evans-Ni/CMn-1990/1991-0Aawch  \n",
       "2       Evans-Ni/CMn-1990/1991-0Aht  \n",
       "3       Evans-Ni/CMn-1990/1991-0Baw  \n",
       "4     Evans-Ni/CMn-1990/1991-0Bawch  \n",
       "...                             ...  \n",
       "1647               Birmingham-MAX35  \n",
       "1648               Birmingham-MAX36  \n",
       "1649               Birmingham-MAX37  \n",
       "1650               Birmingham-MAX38  \n",
       "1651               Birmingham-MAX39  \n",
       "\n",
       "[1652 rows x 4 columns]"
      ]
     },
     "execution_count": 40,
     "metadata": {},
     "output_type": "execute_result"
    }
   ],
   "source": [
    "object_columns = df.select_dtypes(include=['object']).columns\n",
    "\n",
    "df[object_columns]"
   ]
  },
  {
   "cell_type": "code",
<<<<<<< HEAD
   "execution_count": 32,
=======
   "execution_count": 42,
>>>>>>> 7eed920ab825864c45bc90d63680cafd6e245ae7
   "metadata": {},
   "outputs": [],
   "source": [
    "#onehot encoding to ac vs dc and Electrode positive or negative\n",
    "\n",
    "df222 = pd.get_dummies(df, columns=['AC or DC', 'Electrode positive or negative'])[['AC or DC_AC',\t'AC or DC_DC', 'Electrode positive or negative_+', 'Electrode positive or negative_-',\t'Electrode positive or negative_0']]\n"
   ]
  },
  {
   "cell_type": "code",
   "execution_count": 33,
   "metadata": {},
   "outputs": [
    {
     "data": {
      "text/plain": [
       "<Axes: >"
      ]
     },
     "execution_count": 33,
     "metadata": {},
     "output_type": "execute_result"
    },
    {
     "data": {
      "image/png": "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",
      "text/plain": [
       "<Figure size 640x480 with 2 Axes>"
      ]
     },
     "metadata": {},
     "output_type": "display_data"
    }
   ],
   "source": [
    "# correlation matrix plot \n",
    "\n",
    "import seaborn as sns\n",
    "\n",
    "corr = df222.corr()\n",
    "sns.heatmap(corr, \n",
    "            xticklabels=corr.columns.values,\n",
    "            yticklabels=corr.columns.values)\n"
   ]
  },
  {
   "cell_type": "code",
   "execution_count": 44,
   "metadata": {},
   "outputs": [
    {
     "data": {
      "text/plain": [
       "np.int64(215)"
      ]
     },
     "execution_count": 44,
     "metadata": {},
     "output_type": "execute_result"
    }
   ],
   "source": [
    "df['AC or DC'].isna().sum()"
   ]
  },
  {
   "cell_type": "code",
<<<<<<< HEAD
   "execution_count": 34,
=======
   "execution_count": 45,
   "metadata": {},
   "outputs": [
    {
     "data": {
      "text/plain": [
       "np.int64(156)"
      ]
     },
     "execution_count": 45,
     "metadata": {},
     "output_type": "execute_result"
    }
   ],
   "source": [
    "df['Electrode positive or negative'].isna().sum()"
   ]
  },
  {
   "cell_type": "markdown",
   "metadata": {},
   "source": [
    "We can see that the column ac or dc has more Nan values than  the Electrode positive or negative, and since they r correlated with the eletrode column, we will consider only the electrode column"
   ]
  },
  {
   "cell_type": "code",
   "execution_count": 46,
>>>>>>> 7eed920ab825864c45bc90d63680cafd6e245ae7
   "metadata": {},
   "outputs": [],
   "source": [
    "df.drop(columns=['AC or DC'], inplace=True)"
   ]
  },
  {
   "cell_type": "code",
<<<<<<< HEAD
   "execution_count": 35,
=======
   "execution_count": 47,
>>>>>>> 7eed920ab825864c45bc90d63680cafd6e245ae7
   "metadata": {},
   "outputs": [],
   "source": [
    "df = pd.get_dummies(df, columns=['Electrode positive or negative'])"
   ]
  },
  {
   "cell_type": "markdown",
   "metadata": {},
   "source": [
    "Since we want to build a prediction model, we should deal with other categorical variables, let's adress the Type of weld column"
   ]
  },
  {
   "cell_type": "code",
<<<<<<< HEAD
   "execution_count": 36,
=======
   "execution_count": 48,
>>>>>>> 7eed920ab825864c45bc90d63680cafd6e245ae7
   "metadata": {},
   "outputs": [
    {
     "data": {
      "text/plain": [
       "array(['MMA', 'ShMA', 'FCA', 'SA', 'TSA', 'SAA', 'GTAA', 'GMAA', 'NGSAW',\n",
       "       'NGGMA'], dtype=object)"
      ]
     },
<<<<<<< HEAD
     "execution_count": 36,
=======
     "execution_count": 48,
>>>>>>> 7eed920ab825864c45bc90d63680cafd6e245ae7
     "metadata": {},
     "output_type": "execute_result"
    }
   ],
   "source": [
    "# see all the unique values in the 'Type of weld' column\n",
    "df['Type of weld'].unique()"
   ]
  },
  {
   "cell_type": "code",
<<<<<<< HEAD
   "execution_count": 37,
=======
   "execution_count": 49,
>>>>>>> 7eed920ab825864c45bc90d63680cafd6e245ae7
   "metadata": {},
   "outputs": [],
   "source": [
    "#onehot encoding to 'Type of weld' column\n",
    "\n",
    "df = pd.get_dummies(df, columns=['Type of weld'])"
   ]
  },
  {
   "cell_type": "code",
   "execution_count": 50,
   "metadata": {},
   "outputs": [
    {
     "data": {
      "text/html": [
       "<div>\n",
       "<style scoped>\n",
       "    .dataframe tbody tr th:only-of-type {\n",
       "        vertical-align: middle;\n",
       "    }\n",
       "\n",
       "    .dataframe tbody tr th {\n",
       "        vertical-align: top;\n",
       "    }\n",
       "\n",
       "    .dataframe thead th {\n",
       "        text-align: right;\n",
       "    }\n",
       "</style>\n",
       "<table border=\"1\" class=\"dataframe\">\n",
       "  <thead>\n",
       "    <tr style=\"text-align: right;\">\n",
       "      <th></th>\n",
       "      <th>Carbon concentration (weight%)</th>\n",
       "      <th>Silicon concentration (weight%)</th>\n",
       "      <th>Manganese concentration (weight%)</th>\n",
       "      <th>Sulphur concentration (weight%)</th>\n",
       "      <th>Phosphorus concentration (weight%)</th>\n",
       "      <th>Nickel concentration (weight%)</th>\n",
       "      <th>Chromium concentration (weight%)</th>\n",
       "      <th>Molybdenum concentration (weight%)</th>\n",
       "      <th>Vanadium concentration (weight%)</th>\n",
       "      <th>Copper concentration (weight%)</th>\n",
       "      <th>...</th>\n",
       "      <th>Type of weld_FCA</th>\n",
       "      <th>Type of weld_GMAA</th>\n",
       "      <th>Type of weld_GTAA</th>\n",
       "      <th>Type of weld_MMA</th>\n",
       "      <th>Type of weld_NGGMA</th>\n",
       "      <th>Type of weld_NGSAW</th>\n",
       "      <th>Type of weld_SA</th>\n",
       "      <th>Type of weld_SAA</th>\n",
       "      <th>Type of weld_ShMA</th>\n",
       "      <th>Type of weld_TSA</th>\n",
       "    </tr>\n",
       "  </thead>\n",
       "  <tbody>\n",
       "    <tr>\n",
       "      <th>0</th>\n",
       "      <td>0.037</td>\n",
       "      <td>0.30</td>\n",
       "      <td>0.65</td>\n",
       "      <td>0.008</td>\n",
       "      <td>0.012</td>\n",
       "      <td>0.0</td>\n",
       "      <td>NaN</td>\n",
       "      <td>NaN</td>\n",
       "      <td>NaN</td>\n",
       "      <td>NaN</td>\n",
       "      <td>...</td>\n",
       "      <td>False</td>\n",
       "      <td>False</td>\n",
       "      <td>False</td>\n",
       "      <td>True</td>\n",
       "      <td>False</td>\n",
       "      <td>False</td>\n",
       "      <td>False</td>\n",
       "      <td>False</td>\n",
       "      <td>False</td>\n",
       "      <td>False</td>\n",
       "    </tr>\n",
       "    <tr>\n",
       "      <th>1</th>\n",
       "      <td>0.037</td>\n",
       "      <td>0.30</td>\n",
       "      <td>0.65</td>\n",
       "      <td>0.008</td>\n",
       "      <td>0.012</td>\n",
       "      <td>0.0</td>\n",
       "      <td>NaN</td>\n",
       "      <td>NaN</td>\n",
       "      <td>NaN</td>\n",
       "      <td>NaN</td>\n",
       "      <td>...</td>\n",
       "      <td>False</td>\n",
       "      <td>False</td>\n",
       "      <td>False</td>\n",
       "      <td>True</td>\n",
       "      <td>False</td>\n",
       "      <td>False</td>\n",
       "      <td>False</td>\n",
       "      <td>False</td>\n",
       "      <td>False</td>\n",
       "      <td>False</td>\n",
       "    </tr>\n",
       "    <tr>\n",
       "      <th>2</th>\n",
       "      <td>0.037</td>\n",
       "      <td>0.30</td>\n",
       "      <td>0.65</td>\n",
       "      <td>0.008</td>\n",
       "      <td>0.012</td>\n",
       "      <td>0.0</td>\n",
       "      <td>NaN</td>\n",
       "      <td>NaN</td>\n",
       "      <td>NaN</td>\n",
       "      <td>NaN</td>\n",
       "      <td>...</td>\n",
       "      <td>False</td>\n",
       "      <td>False</td>\n",
       "      <td>False</td>\n",
       "      <td>True</td>\n",
       "      <td>False</td>\n",
       "      <td>False</td>\n",
       "      <td>False</td>\n",
       "      <td>False</td>\n",
       "      <td>False</td>\n",
       "      <td>False</td>\n",
       "    </tr>\n",
       "    <tr>\n",
       "      <th>3</th>\n",
       "      <td>0.037</td>\n",
       "      <td>0.31</td>\n",
       "      <td>1.03</td>\n",
       "      <td>0.007</td>\n",
       "      <td>0.014</td>\n",
       "      <td>0.0</td>\n",
       "      <td>NaN</td>\n",
       "      <td>NaN</td>\n",
       "      <td>NaN</td>\n",
       "      <td>NaN</td>\n",
       "      <td>...</td>\n",
       "      <td>False</td>\n",
       "      <td>False</td>\n",
       "      <td>False</td>\n",
       "      <td>True</td>\n",
       "      <td>False</td>\n",
       "      <td>False</td>\n",
       "      <td>False</td>\n",
       "      <td>False</td>\n",
       "      <td>False</td>\n",
       "      <td>False</td>\n",
       "    </tr>\n",
       "    <tr>\n",
       "      <th>4</th>\n",
       "      <td>0.037</td>\n",
       "      <td>0.31</td>\n",
       "      <td>1.03</td>\n",
       "      <td>0.007</td>\n",
       "      <td>0.014</td>\n",
       "      <td>0.0</td>\n",
       "      <td>NaN</td>\n",
       "      <td>NaN</td>\n",
       "      <td>NaN</td>\n",
       "      <td>NaN</td>\n",
       "      <td>...</td>\n",
       "      <td>False</td>\n",
       "      <td>False</td>\n",
       "      <td>False</td>\n",
       "      <td>True</td>\n",
       "      <td>False</td>\n",
       "      <td>False</td>\n",
       "      <td>False</td>\n",
       "      <td>False</td>\n",
       "      <td>False</td>\n",
       "      <td>False</td>\n",
       "    </tr>\n",
       "  </tbody>\n",
       "</table>\n",
       "<p>5 rows × 54 columns</p>\n",
       "</div>"
      ],
      "text/plain": [
       "   Carbon concentration (weight%)  Silicon concentration (weight%)  \\\n",
       "0                           0.037                             0.30   \n",
       "1                           0.037                             0.30   \n",
       "2                           0.037                             0.30   \n",
       "3                           0.037                             0.31   \n",
       "4                           0.037                             0.31   \n",
       "\n",
       "   Manganese concentration (weight%)  Sulphur concentration (weight%)  \\\n",
       "0                               0.65                            0.008   \n",
       "1                               0.65                            0.008   \n",
       "2                               0.65                            0.008   \n",
       "3                               1.03                            0.007   \n",
       "4                               1.03                            0.007   \n",
       "\n",
       "   Phosphorus concentration (weight%)  Nickel concentration (weight%)  \\\n",
       "0                               0.012                             0.0   \n",
       "1                               0.012                             0.0   \n",
       "2                               0.012                             0.0   \n",
       "3                               0.014                             0.0   \n",
       "4                               0.014                             0.0   \n",
       "\n",
       "   Chromium concentration (weight%)  Molybdenum concentration (weight%)  \\\n",
       "0                               NaN                                 NaN   \n",
       "1                               NaN                                 NaN   \n",
       "2                               NaN                                 NaN   \n",
       "3                               NaN                                 NaN   \n",
       "4                               NaN                                 NaN   \n",
       "\n",
       "   Vanadium concentration (weight%)  Copper concentration (weight%)  ...  \\\n",
       "0                               NaN                             NaN  ...   \n",
       "1                               NaN                             NaN  ...   \n",
       "2                               NaN                             NaN  ...   \n",
       "3                               NaN                             NaN  ...   \n",
       "4                               NaN                             NaN  ...   \n",
       "\n",
       "   Type of weld_FCA  Type of weld_GMAA  Type of weld_GTAA  Type of weld_MMA  \\\n",
       "0             False              False              False              True   \n",
       "1             False              False              False              True   \n",
       "2             False              False              False              True   \n",
       "3             False              False              False              True   \n",
       "4             False              False              False              True   \n",
       "\n",
       "   Type of weld_NGGMA  Type of weld_NGSAW  Type of weld_SA  Type of weld_SAA  \\\n",
       "0               False               False            False             False   \n",
       "1               False               False            False             False   \n",
       "2               False               False            False             False   \n",
       "3               False               False            False             False   \n",
       "4               False               False            False             False   \n",
       "\n",
       "   Type of weld_ShMA  Type of weld_TSA  \n",
       "0              False             False  \n",
       "1              False             False  \n",
       "2              False             False  \n",
       "3              False             False  \n",
       "4              False             False  \n",
       "\n",
       "[5 rows x 54 columns]"
      ]
     },
     "execution_count": 50,
     "metadata": {},
     "output_type": "execute_result"
    }
   ],
   "source": [
    "# see the columns names\n",
    "\n",
    "df.head()"
   ]
  },
  {
   "cell_type": "code",
<<<<<<< HEAD
   "execution_count": 38,
=======
   "execution_count": 51,
>>>>>>> 7eed920ab825864c45bc90d63680cafd6e245ae7
   "metadata": {},
   "outputs": [
    {
     "name": "stdout",
     "output_type": "stream",
     "text": [
      "<class 'pandas.core.frame.DataFrame'>\n",
      "RangeIndex: 1652 entries, 0 to 1651\n",
      "Data columns (total 54 columns):\n",
      " #   Column                                        Non-Null Count  Dtype  \n",
      "---  ------                                        --------------  -----  \n",
      " 0   Carbon concentration (weight%)                1652 non-null   float64\n",
      " 1   Silicon concentration (weight%)               1652 non-null   float64\n",
      " 2   Manganese concentration (weight%)             1652 non-null   float64\n",
      " 3   Sulphur concentration (weight%)               1648 non-null   float64\n",
      " 4   Phosphorus concentration (weight%)            1642 non-null   float64\n",
      " 5   Nickel concentration (weight%)                697 non-null    float64\n",
      " 6   Chromium concentration (weight%)              784 non-null    float64\n",
      " 7   Molybdenum concentration (weight%)            793 non-null    float64\n",
      " 8   Vanadium concentration (weight%)              928 non-null    float64\n",
      " 9   Copper concentration (weight%)                578 non-null    float64\n",
      " 10  Cobalt concentration (weight%)                129 non-null    float64\n",
      " 11  Tungsten concentration (weight%)              75 non-null     float64\n",
      " 12  Oxygen concentration (ppm)                    1256 non-null   float64\n",
      " 13  Titanium concentration (ppm)                  935 non-null    float64\n",
      " 14  Nitrogen concentration (ppm)                  1242 non-null   float64\n",
      " 15  Aluminium concentration (ppm)                 905 non-null    float64\n",
      " 16  Boron concentration (ppm)                     504 non-null    float64\n",
      " 17  Niobium concentration (ppm)                   752 non-null    float64\n",
      " 18  Tin concentration (ppm)                       296 non-null    float64\n",
      " 19  Arsenic concentration (ppm)                   234 non-null    float64\n",
      " 20  Antimony concentration (ppm)                  260 non-null    float64\n",
      " 21  Current (A)                                   1404 non-null   float64\n",
      " 22  Voltage (V)                                   1404 non-null   float64\n",
      " 23  Heat input (kJmm-1)                           1652 non-null   float64\n",
      " 24  Interpass temperature (deg C)                 1652 non-null   float64\n",
      " 25  Post weld heat treatment temperature (deg C)  1639 non-null   float64\n",
      " 26  Post weld heat treatment time (hours)         1639 non-null   float64\n",
      " 27  Yield strength (MPa)                          780 non-null    float64\n",
      " 28  Ultimate tensile strength (MPa)               738 non-null    float64\n",
      " 29  Elongation (%)                                700 non-null    float64\n",
      " 30  Reduction of Area (%)                         705 non-null    float64\n",
      " 31  Charpy temperature (deg C)                    879 non-null    float64\n",
      " 32  Charpy impact toughness (J)                   879 non-null    float64\n",
      " 33  Hardness (kgmm-2)                             138 non-null    float64\n",
      " 34  50 % FATT                                     31 non-null     float64\n",
      " 35  Primary ferrite in microstructure (%)         98 non-null     float64\n",
      " 36  Ferrite with second phase (%)                 90 non-null     float64\n",
      " 37  Acicular ferrite (%)                          90 non-null     float64\n",
      " 38  Martensite (%)                                89 non-null     float64\n",
      " 39  Ferrite with carbide aggregate (%)            89 non-null     float64\n",
      " 40  Weld ID                                       1652 non-null   object \n",
      " 41  Electrode positive or negative_+              1652 non-null   bool   \n",
      " 42  Electrode positive or negative_-              1652 non-null   bool   \n",
      " 43  Electrode positive or negative_0              1652 non-null   bool   \n",
      " 44  Type of weld_FCA                              1652 non-null   bool   \n",
      " 45  Type of weld_GMAA                             1652 non-null   bool   \n",
      " 46  Type of weld_GTAA                             1652 non-null   bool   \n",
      " 47  Type of weld_MMA                              1652 non-null   bool   \n",
      " 48  Type of weld_NGGMA                            1652 non-null   bool   \n",
      " 49  Type of weld_NGSAW                            1652 non-null   bool   \n",
      " 50  Type of weld_SA                               1652 non-null   bool   \n",
      " 51  Type of weld_SAA                              1652 non-null   bool   \n",
      " 52  Type of weld_ShMA                             1652 non-null   bool   \n",
      " 53  Type of weld_TSA                              1652 non-null   bool   \n",
      "dtypes: bool(13), float64(40), object(1)\n",
      "memory usage: 550.3+ KB\n"
     ]
    }
   ],
   "source": [
    "df.info()"
   ]
  },
  {
   "cell_type": "markdown",
   "metadata": {},
   "source": [
    "Let's explore more the variables"
   ]
  },
  {
   "cell_type": "markdown",
   "metadata": {},
   "source": [
    "Based on related articles in the domain of welding and materials science, it is common to handle missing values of certain chemical elements differently. For instance:\n",
    "\n",
    "- Missing values of **Phosphorus (P)** and **Sulphur (S)** are imputed using the **mean values** from the dataset.\n",
    "- Other missing values of other elements such as **Manganese (Mn)**, **Nickel (Ni)**, etc., are set to **0** because these elements are not deliberately added and are likely close to the detection limit of the analytical techniques used.\n",
    "\n",
    "Therefore, we will implement this preprocessing step to ensure that the dataset is correctly handled for the prediction task."
   ]
  },
  {
   "cell_type": "code",
   "execution_count": 52,
   "metadata": {},
   "outputs": [],
   "source": [
    "df['Sulphur concentration (weight%)'] = df['Sulphur concentration (weight%)'].fillna(df['Sulphur concentration (weight%)'].mean())\n",
    "df['Phosphorus concentration (weight%)'] = df['Phosphorus concentration (weight%)'].fillna(df['Phosphorus concentration (weight%)'].mean())\n",
    "\n",
    "# Replace missing values for all other concentrations with 0 (as they were not deliberately added)\n",
    "elements_to_zero = ['Manganese concentration (weight%)', 'Sulphur concentration (weight%)',\n",
    "       'Phosphorus concentration (weight%)', 'Nickel concentration (weight%)',\n",
    "       'Chromium concentration (weight%)', 'Molybdenum concentration (weight%)',\n",
    "       'Vanadium concentration (weight%)', 'Copper concentration (weight%)',\n",
    "       'Cobalt concentration (weight%)', 'Tungsten concentration (weight%)',\n",
    "       'Oxygen concentration (ppm)', 'Titanium concentration (ppm)',\n",
    "       'Nitrogen concentration (ppm)', 'Aluminium concentration (ppm)',\n",
    "       'Boron concentration (ppm)', 'Niobium concentration (ppm)',\n",
    "       'Tin concentration (ppm)', 'Arsenic concentration (ppm)',\n",
    "       'Antimony concentration (ppm)']\n",
    "\n",
    "# Replace missing values with 0 for the other elements\n",
    "df[elements_to_zero] = df[elements_to_zero].fillna(0)"
   ]
  },
  {
   "cell_type": "code",
   "execution_count": 53,
   "metadata": {},
   "outputs": [
    {
     "name": "stdout",
     "output_type": "stream",
     "text": [
      "<class 'pandas.core.frame.DataFrame'>\n",
      "RangeIndex: 1652 entries, 0 to 1651\n",
      "Data columns (total 54 columns):\n",
      " #   Column                                        Non-Null Count  Dtype  \n",
      "---  ------                                        --------------  -----  \n",
      " 0   Carbon concentration (weight%)                1652 non-null   float64\n",
      " 1   Silicon concentration (weight%)               1652 non-null   float64\n",
      " 2   Manganese concentration (weight%)             1652 non-null   float64\n",
      " 3   Sulphur concentration (weight%)               1652 non-null   float64\n",
      " 4   Phosphorus concentration (weight%)            1652 non-null   float64\n",
      " 5   Nickel concentration (weight%)                1652 non-null   float64\n",
      " 6   Chromium concentration (weight%)              1652 non-null   float64\n",
      " 7   Molybdenum concentration (weight%)            1652 non-null   float64\n",
      " 8   Vanadium concentration (weight%)              1652 non-null   float64\n",
      " 9   Copper concentration (weight%)                1652 non-null   float64\n",
      " 10  Cobalt concentration (weight%)                1652 non-null   float64\n",
      " 11  Tungsten concentration (weight%)              1652 non-null   float64\n",
      " 12  Oxygen concentration (ppm)                    1652 non-null   float64\n",
      " 13  Titanium concentration (ppm)                  1652 non-null   float64\n",
      " 14  Nitrogen concentration (ppm)                  1652 non-null   float64\n",
      " 15  Aluminium concentration (ppm)                 1652 non-null   float64\n",
      " 16  Boron concentration (ppm)                     1652 non-null   float64\n",
      " 17  Niobium concentration (ppm)                   1652 non-null   float64\n",
      " 18  Tin concentration (ppm)                       1652 non-null   float64\n",
      " 19  Arsenic concentration (ppm)                   1652 non-null   float64\n",
      " 20  Antimony concentration (ppm)                  1652 non-null   float64\n",
      " 21  Current (A)                                   1404 non-null   float64\n",
      " 22  Voltage (V)                                   1404 non-null   float64\n",
      " 23  Heat input (kJmm-1)                           1652 non-null   float64\n",
      " 24  Interpass temperature (deg C)                 1652 non-null   float64\n",
      " 25  Post weld heat treatment temperature (deg C)  1639 non-null   float64\n",
      " 26  Post weld heat treatment time (hours)         1639 non-null   float64\n",
      " 27  Yield strength (MPa)                          780 non-null    float64\n",
      " 28  Ultimate tensile strength (MPa)               738 non-null    float64\n",
      " 29  Elongation (%)                                700 non-null    float64\n",
      " 30  Reduction of Area (%)                         705 non-null    float64\n",
      " 31  Charpy temperature (deg C)                    879 non-null    float64\n",
      " 32  Charpy impact toughness (J)                   879 non-null    float64\n",
      " 33  Hardness (kgmm-2)                             138 non-null    float64\n",
      " 34  50 % FATT                                     31 non-null     float64\n",
      " 35  Primary ferrite in microstructure (%)         98 non-null     float64\n",
      " 36  Ferrite with second phase (%)                 90 non-null     float64\n",
      " 37  Acicular ferrite (%)                          90 non-null     float64\n",
      " 38  Martensite (%)                                89 non-null     float64\n",
      " 39  Ferrite with carbide aggregate (%)            89 non-null     float64\n",
      " 40  Weld ID                                       1652 non-null   object \n",
      " 41  Electrode positive or negative_+              1652 non-null   bool   \n",
      " 42  Electrode positive or negative_-              1652 non-null   bool   \n",
      " 43  Electrode positive or negative_0              1652 non-null   bool   \n",
      " 44  Type of weld_FCA                              1652 non-null   bool   \n",
      " 45  Type of weld_GMAA                             1652 non-null   bool   \n",
      " 46  Type of weld_GTAA                             1652 non-null   bool   \n",
      " 47  Type of weld_MMA                              1652 non-null   bool   \n",
      " 48  Type of weld_NGGMA                            1652 non-null   bool   \n",
      " 49  Type of weld_NGSAW                            1652 non-null   bool   \n",
      " 50  Type of weld_SA                               1652 non-null   bool   \n",
      " 51  Type of weld_SAA                              1652 non-null   bool   \n",
      " 52  Type of weld_ShMA                             1652 non-null   bool   \n",
      " 53  Type of weld_TSA                              1652 non-null   bool   \n",
      "dtypes: bool(13), float64(40), object(1)\n",
      "memory usage: 550.3+ KB\n"
     ]
    }
   ],
   "source": [
    "df.info()"
   ]
  },
  {
   "cell_type": "markdown",
   "metadata": {},
   "source": [
    "### Justification du remplacement des colonnes de tension et d'intensité par une colonne de puissance\n",
    "\n",
    "Les colonnes de **Voltage** (en volts) et d'**Current** (en ampères) ont été remplacées par une colonne unique représentant la **Puissance** (en watts). Ce choix est justifié par la relation physique qui lie ces trois grandeurs, à savoir que la puissance électrique est définie par le produit de la tension et de l'intensité\n",
    "$$\n",
    "P = U \\times I\n",
    "$$\n",
    "\n",
    "L'ajout d'une colonne de puissance permet de capturer l'interaction entre la tension et l'intensité dans une seule variable, ce qui réduit la redondance des données et simplifie l'analyse tout en conservant une information complète. De plus, dans de nombreux cas d'application en modélisation, la puissance est plus représentative du comportement global d'un système électrique que ses composantes individuelles (tension et intensité).\n"
   ]
  },
  {
   "cell_type": "code",
   "execution_count": 56,
   "metadata": {},
   "outputs": [
    {
     "data": {
      "text/plain": [
       "0        3570.0\n",
       "1        3570.0\n",
       "2        3570.0\n",
       "3        3570.0\n",
       "4        3570.0\n",
       "         ...   \n",
       "1647    13500.0\n",
       "1648    13500.0\n",
       "1649    13500.0\n",
       "1650    13500.0\n",
       "1651    13500.0\n",
       "Name: Puissance (W), Length: 1652, dtype: float64"
      ]
     },
     "execution_count": 56,
     "metadata": {},
     "output_type": "execute_result"
    }
   ],
   "source": [
    "df['Puissance (W)']=df['Voltage (V)']*df['Current (A)']\n",
    "df['Puissance (W)']"
   ]
  },
  {
   "cell_type": "code",
   "execution_count": 58,
   "metadata": {},
   "outputs": [],
   "source": [
    "df.drop(['Current (A)', 'Voltage (V)', 'Weld ID'], axis=1, inplace=True)\n"
   ]
  },
  {
   "cell_type": "code",
   "execution_count": 54,
   "metadata": {},
   "outputs": [],
   "source": [
    "# save the cleaned data to a new file\n",
    "\n",
    "df.to_csv('welddb/welddb_cleaned.csv', index=False)"
   ]
<<<<<<< HEAD
  },
  {
   "cell_type": "code",
   "execution_count": 44,
   "metadata": {},
   "outputs": [
    {
     "data": {
      "image/png": "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",
      "text/plain": [
       "<Figure size 1200x1000 with 2 Axes>"
      ]
     },
     "metadata": {},
     "output_type": "display_data"
    }
   ],
   "source": [
    "\n",
    "import matplotlib.pyplot as plt\n",
    "\n",
    "def plot_mean_std(df):\n",
    "    # Calculate the mean and standard deviation for each column\n",
    "    means = df.mean()\n",
    "    stds = df.std()\n",
    "\n",
    "    # Create a DataFrame for easier plotting\n",
    "    summary_df = pd.DataFrame({\n",
    "        'Mean': means,\n",
    "        'Standard Deviation': stds\n",
    "    })\n",
    "\n",
    "    # Plot the mean and standard deviation\n",
    "    fig, ax = plt.subplots(2, 1, figsize=(12, 10))\n",
    "\n",
    "    # Plot mean\n",
    "    summary_df['Mean'].plot(kind='bar', ax=ax[0], color='skyblue')\n",
    "    ax[0].set_title('Mean of Each Variable')\n",
    "    ax[0].set_ylabel('Mean')\n",
    "    ax[0].set_xticklabels(summary_df.index, rotation=90)\n",
    "\n",
    "    # Plot standard deviation\n",
    "    summary_df['Standard Deviation'].plot(kind='bar', ax=ax[1], color='orange')\n",
    "    ax[1].set_title('Standard Deviation of Each Variable')\n",
    "    ax[1].set_ylabel('Standard Deviation')\n",
    "    ax[1].set_xticklabels(summary_df.index, rotation=90)\n",
    "\n",
    "    plt.tight_layout()\n",
    "    plt.show()\n",
    "df2=df.copy()\n",
    "df2.drop(columns=['Weld ID'], inplace=True)\n",
    "# Call the function with your DataFrame\n",
    "plot_mean_std(df2)\n"
   ]
  },
  {
   "cell_type": "code",
   "execution_count": null,
   "metadata": {},
   "outputs": [],
   "source": []
=======
>>>>>>> 7eed920ab825864c45bc90d63680cafd6e245ae7
  }
 ],
 "metadata": {
  "kernelspec": {
   "display_name": "Python 3",
   "language": "python",
   "name": "python3"
  },
  "language_info": {
   "codemirror_mode": {
    "name": "ipython",
    "version": 3
   },
   "file_extension": ".py",
   "mimetype": "text/x-python",
   "name": "python",
   "nbconvert_exporter": "python",
   "pygments_lexer": "ipython3",
<<<<<<< HEAD
   "version": "3.12.4"
=======
   "version": "3.12.7"
>>>>>>> 7eed920ab825864c45bc90d63680cafd6e245ae7
  }
 },
 "nbformat": 4,
 "nbformat_minor": 2
}
