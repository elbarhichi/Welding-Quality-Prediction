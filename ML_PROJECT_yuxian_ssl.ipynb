{
 "cells": [
  {
   "cell_type": "markdown",
   "metadata": {},
   "source": [
    "# Semi-Supevised Learning"
   ]
  },
  {
   "cell_type": "code",
   "execution_count": 1,
   "metadata": {},
   "outputs": [],
   "source": [
    "# Python ≥3.5 is required\n",
    "import sys\n",
    "assert sys.version_info >= (3, 5)\n",
    "\n",
    "# Scikit-Learn ≥0.20 is required\n",
    "import sklearn\n",
    "assert sklearn.__version__ >= \"0.20\"\n",
    "\n",
    "# Numpy arrays are used to store training and test data.\n",
    "import numpy as np\n",
    "\n",
    "# Pandas is used to manipulate tabular data.\n",
    "import pandas as pd\n",
    "\n",
    "#Seaborn is used for plotting relevant representations of the data we're handling\n",
    "import seaborn as sns\n",
    "\n",
    "# Matplotlib is used to plot graphs.\n",
    "%matplotlib inline \n",
    "import matplotlib as mpl\n",
    "import matplotlib.pyplot as plt\n",
    "# Style options for plots.\n",
    "mpl.rc('axes', labelsize=14)\n",
    "mpl.rc('xtick', labelsize=12)\n",
    "mpl.rc('ytick', labelsize=12)\n",
    "\n",
    "# Ignore useless warnings (see SciPy issue #5998).\n",
    "import warnings\n",
    "warnings.filterwarnings(action=\"ignore\", message=\"^internal gelsd\")"
   ]
  },
  {
   "cell_type": "code",
   "execution_count": 2,
   "metadata": {},
   "outputs": [],
   "source": [
    "welddb_ssl = pd.read_csv('welddb/welddb_yuxian.csv')"
   ]
  },
  {
   "cell_type": "code",
   "execution_count": 3,
   "metadata": {},
   "outputs": [
    {
     "name": "stdout",
     "output_type": "stream",
     "text": [
      "<class 'pandas.core.frame.DataFrame'>\n",
      "RangeIndex: 1652 entries, 0 to 1651\n",
      "Data columns (total 44 columns):\n",
      " #   Column                                     Non-Null Count  Dtype  \n",
      "---  ------                                     --------------  -----  \n",
      " 0   Carbon concentration (weight%)             1652 non-null   float64\n",
      " 1   Silicon concentration (weight%)            1652 non-null   float64\n",
      " 2   Manganese concentration (weight%)          1652 non-null   float64\n",
      " 3   Sulphur concentration (weight%)            1652 non-null   float64\n",
      " 4   Phosphorus concentration (weight%)         1652 non-null   float64\n",
      " 5   Nickel concentration (weight%)             1652 non-null   float64\n",
      " 6   Chromium concentration (weight%)           1652 non-null   float64\n",
      " 7   Molybdenum concentration (weight%)         1652 non-null   float64\n",
      " 8   Vanadium concentration (weight%)           1652 non-null   float64\n",
      " 9   Copper concentration (weight%)             1652 non-null   float64\n",
      " 10  Cobalt concentration (weight%)             1652 non-null   float64\n",
      " 11  Tungsten concentration (weight%)           1652 non-null   float64\n",
      " 12  Oxygen concentration (ppm)                 1652 non-null   float64\n",
      " 13  Titanium concentration (ppm)               1652 non-null   float64\n",
      " 14  Nitrogen concentration (ppm)               1652 non-null   float64\n",
      " 15  Aluminium concentration (ppm)              1652 non-null   float64\n",
      " 16  Boron concentration (ppm)                  1652 non-null   float64\n",
      " 17  Niobium concentration (ppm)                1652 non-null   float64\n",
      " 18  Tin concentration (ppm)                    1652 non-null   float64\n",
      " 19  Arsenic concentration (ppm)                1652 non-null   float64\n",
      " 20  Antimony concentration (ppm)               1652 non-null   float64\n",
      " 21  Current (A)                                1404 non-null   float64\n",
      " 22  Voltage (V)                                1404 non-null   float64\n",
      " 23  AC or DC                                   1437 non-null   object \n",
      " 24  Electrode positive or negative             1496 non-null   object \n",
      " 25  Heat input (kJmm-1)                        1652 non-null   float64\n",
      " 26  Interpass temperature (°C)                 1652 non-null   int64  \n",
      " 27  Type of weld                               1627 non-null   object \n",
      " 28  Post weld heat treatment temperature (°C)  1639 non-null   float64\n",
      " 29  Post weld heat treatment time (hours)      1639 non-null   float64\n",
      " 30  Yield strength (MPa)                       780 non-null    float64\n",
      " 31  Ultimate tensile strength (MPa)            738 non-null    float64\n",
      " 32  Elongation (%)                             700 non-null    float64\n",
      " 33  Reduction of Area (%)                      705 non-null    float64\n",
      " 34  Charpy temperature (°C)                    879 non-null    float64\n",
      " 35  Charpy impact toughness (J)                879 non-null    float64\n",
      " 36  Hardness (kgmm-2)                          138 non-null    float64\n",
      " 37  50 % FATT                                  31 non-null     float64\n",
      " 38  Primary ferrite in microstructure (%)      98 non-null     float64\n",
      " 39  Ferrite with second phase (%)              90 non-null     float64\n",
      " 40  Acicular ferrite (%)                       90 non-null     float64\n",
      " 41  Martensite (%)                             89 non-null     float64\n",
      " 42  Ferrite with carbide aggregate (%)         89 non-null     float64\n",
      " 43  Power (W)                                  1404 non-null   float64\n",
      "dtypes: float64(40), int64(1), object(3)\n",
      "memory usage: 568.0+ KB\n"
     ]
    }
   ],
   "source": [
    "welddb_ssl.info()"
   ]
  }
 ],
 "metadata": {
  "kernelspec": {
   "display_name": "base",
   "language": "python",
   "name": "python3"
  },
  "language_info": {
   "codemirror_mode": {
    "name": "ipython",
    "version": 3
   },
   "file_extension": ".py",
   "mimetype": "text/x-python",
   "name": "python",
   "nbconvert_exporter": "python",
   "pygments_lexer": "ipython3",
   "version": "3.12.4"
  }
 },
 "nbformat": 4,
 "nbformat_minor": 2
}
