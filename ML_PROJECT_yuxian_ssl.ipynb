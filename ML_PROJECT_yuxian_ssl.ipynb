{
 "cells": [
  {
   "cell_type": "markdown",
   "metadata": {},
   "source": [
    "# Semi-Supevised Learning"
   ]
  },
  {
   "cell_type": "code",
   "execution_count": 1,
   "metadata": {},
   "outputs": [],
   "source": [
    "# Python ≥3.5 is required\n",
    "import sys\n",
    "assert sys.version_info >= (3, 5)\n",
    "\n",
    "# Scikit-Learn ≥0.20 is required\n",
    "import sklearn\n",
    "assert sklearn.__version__ >= \"0.20\"\n",
    "\n",
    "# Numpy arrays are used to store training and test data.\n",
    "import numpy as np\n",
    "\n",
    "# Pandas is used to manipulate tabular data.\n",
    "import pandas as pd\n",
    "\n",
    "#Seaborn is used for plotting relevant representations of the data we're handling\n",
    "import seaborn as sns\n",
    "\n",
    "# Matplotlib is used to plot graphs.\n",
    "%matplotlib inline \n",
    "import matplotlib as mpl\n",
    "import matplotlib.pyplot as plt\n",
    "# Style options for plots.\n",
    "mpl.rc('axes', labelsize=14)\n",
    "mpl.rc('xtick', labelsize=12)\n",
    "mpl.rc('ytick', labelsize=12)\n",
    "\n",
    "# Ignore useless warnings (see SciPy issue #5998).\n",
    "import warnings\n",
    "warnings.filterwarnings(action=\"ignore\", message=\"^internal gelsd\")"
   ]
  },
  {
   "cell_type": "code",
   "execution_count": 2,
   "metadata": {},
   "outputs": [],
   "source": [
    "welddb_ssl = pd.read_csv('welddb/welddb_yuxian.csv')"
   ]
  },
  {
   "cell_type": "code",
   "execution_count": 3,
   "metadata": {},
   "outputs": [
    {
     "name": "stdout",
     "output_type": "stream",
     "text": [
      "<class 'pandas.core.frame.DataFrame'>\n",
      "RangeIndex: 1652 entries, 0 to 1651\n",
      "Data columns (total 44 columns):\n",
      " #   Column                                     Non-Null Count  Dtype  \n",
      "---  ------                                     --------------  -----  \n",
      " 0   Carbon concentration (weight%)             1652 non-null   float64\n",
      " 1   Silicon concentration (weight%)            1652 non-null   float64\n",
      " 2   Manganese concentration (weight%)          1652 non-null   float64\n",
      " 3   Sulphur concentration (weight%)            1652 non-null   float64\n",
      " 4   Phosphorus concentration (weight%)         1652 non-null   float64\n",
      " 5   Nickel concentration (weight%)             1652 non-null   float64\n",
      " 6   Chromium concentration (weight%)           1652 non-null   float64\n",
      " 7   Molybdenum concentration (weight%)         1652 non-null   float64\n",
      " 8   Vanadium concentration (weight%)           1652 non-null   float64\n",
      " 9   Copper concentration (weight%)             1652 non-null   float64\n",
      " 10  Cobalt concentration (weight%)             1652 non-null   float64\n",
      " 11  Tungsten concentration (weight%)           1652 non-null   float64\n",
      " 12  Oxygen concentration (ppm)                 1652 non-null   float64\n",
      " 13  Titanium concentration (ppm)               1652 non-null   float64\n",
      " 14  Nitrogen concentration (ppm)               1652 non-null   float64\n",
      " 15  Aluminium concentration (ppm)              1652 non-null   float64\n",
      " 16  Boron concentration (ppm)                  1652 non-null   float64\n",
      " 17  Niobium concentration (ppm)                1652 non-null   float64\n",
      " 18  Tin concentration (ppm)                    1652 non-null   float64\n",
      " 19  Arsenic concentration (ppm)                1652 non-null   float64\n",
      " 20  Antimony concentration (ppm)               1652 non-null   float64\n",
      " 21  Current (A)                                1404 non-null   float64\n",
      " 22  Voltage (V)                                1404 non-null   float64\n",
      " 23  AC or DC                                   1437 non-null   object \n",
      " 24  Electrode positive or negative             1496 non-null   object \n",
      " 25  Heat input (kJmm-1)                        1652 non-null   float64\n",
      " 26  Interpass temperature (°C)                 1652 non-null   int64  \n",
      " 27  Type of weld                               1627 non-null   object \n",
      " 28  Post weld heat treatment temperature (°C)  1639 non-null   float64\n",
      " 29  Post weld heat treatment time (hours)      1639 non-null   float64\n",
      " 30  Yield strength (MPa)                       780 non-null    float64\n",
      " 31  Ultimate tensile strength (MPa)            738 non-null    float64\n",
      " 32  Elongation (%)                             700 non-null    float64\n",
      " 33  Reduction of Area (%)                      705 non-null    float64\n",
      " 34  Charpy temperature (°C)                    879 non-null    float64\n",
      " 35  Charpy impact toughness (J)                879 non-null    float64\n",
      " 36  Hardness (kgmm-2)                          138 non-null    float64\n",
      " 37  50 % FATT                                  31 non-null     float64\n",
      " 38  Primary ferrite in microstructure (%)      98 non-null     float64\n",
      " 39  Ferrite with second phase (%)              90 non-null     float64\n",
      " 40  Acicular ferrite (%)                       90 non-null     float64\n",
      " 41  Martensite (%)                             89 non-null     float64\n",
      " 42  Ferrite with carbide aggregate (%)         89 non-null     float64\n",
      " 43  Power (W)                                  1404 non-null   float64\n",
      "dtypes: float64(40), int64(1), object(3)\n",
      "memory usage: 568.0+ KB\n"
     ]
    }
   ],
   "source": [
    "welddb_ssl.info()"
   ]
  },
  {
   "cell_type": "code",
   "execution_count": 4,
   "metadata": {},
   "outputs": [
    {
     "data": {
      "text/plain": [
       "(1652, 44)"
      ]
     },
     "execution_count": 4,
     "metadata": {},
     "output_type": "execute_result"
    }
   ],
   "source": [
    "welddb_ssl.shape"
   ]
  },
  {
   "cell_type": "code",
   "execution_count": 5,
   "metadata": {},
   "outputs": [],
   "source": [
    "# Drop the targets more suitable for supervised learning\n",
    "columns_to_drop = welddb_ssl.columns[30:36]\n",
    "\n",
    "welddb_ssl = welddb_ssl.drop(columns=columns_to_drop)"
   ]
  },
  {
   "cell_type": "code",
   "execution_count": 8,
   "metadata": {},
   "outputs": [],
   "source": [
    "# Drop the 'Current (A)' and 'Voltage (V)' columns\n",
    "welddb_ssl = welddb_ssl.drop(columns=welddb_ssl.columns[[21, 22]])"
   ]
  },
  {
   "cell_type": "code",
   "execution_count": 9,
   "metadata": {},
   "outputs": [
    {
     "data": {
      "text/plain": [
       "(1652, 36)"
      ]
     },
     "execution_count": 9,
     "metadata": {},
     "output_type": "execute_result"
    }
   ],
   "source": [
    "welddb_ssl.shape"
   ]
  },
  {
   "cell_type": "code",
   "execution_count": 10,
   "metadata": {},
   "outputs": [
    {
     "name": "stdout",
     "output_type": "stream",
     "text": [
      "<class 'pandas.core.frame.DataFrame'>\n",
      "RangeIndex: 1652 entries, 0 to 1651\n",
      "Data columns (total 36 columns):\n",
      " #   Column                                     Non-Null Count  Dtype  \n",
      "---  ------                                     --------------  -----  \n",
      " 0   Carbon concentration (weight%)             1652 non-null   float64\n",
      " 1   Silicon concentration (weight%)            1652 non-null   float64\n",
      " 2   Manganese concentration (weight%)          1652 non-null   float64\n",
      " 3   Sulphur concentration (weight%)            1652 non-null   float64\n",
      " 4   Phosphorus concentration (weight%)         1652 non-null   float64\n",
      " 5   Nickel concentration (weight%)             1652 non-null   float64\n",
      " 6   Chromium concentration (weight%)           1652 non-null   float64\n",
      " 7   Molybdenum concentration (weight%)         1652 non-null   float64\n",
      " 8   Vanadium concentration (weight%)           1652 non-null   float64\n",
      " 9   Copper concentration (weight%)             1652 non-null   float64\n",
      " 10  Cobalt concentration (weight%)             1652 non-null   float64\n",
      " 11  Tungsten concentration (weight%)           1652 non-null   float64\n",
      " 12  Oxygen concentration (ppm)                 1652 non-null   float64\n",
      " 13  Titanium concentration (ppm)               1652 non-null   float64\n",
      " 14  Nitrogen concentration (ppm)               1652 non-null   float64\n",
      " 15  Aluminium concentration (ppm)              1652 non-null   float64\n",
      " 16  Boron concentration (ppm)                  1652 non-null   float64\n",
      " 17  Niobium concentration (ppm)                1652 non-null   float64\n",
      " 18  Tin concentration (ppm)                    1652 non-null   float64\n",
      " 19  Arsenic concentration (ppm)                1652 non-null   float64\n",
      " 20  Antimony concentration (ppm)               1652 non-null   float64\n",
      " 21  AC or DC                                   1437 non-null   object \n",
      " 22  Electrode positive or negative             1496 non-null   object \n",
      " 23  Heat input (kJmm-1)                        1652 non-null   float64\n",
      " 24  Interpass temperature (°C)                 1652 non-null   int64  \n",
      " 25  Type of weld                               1627 non-null   object \n",
      " 26  Post weld heat treatment temperature (°C)  1639 non-null   float64\n",
      " 27  Post weld heat treatment time (hours)      1639 non-null   float64\n",
      " 28  Hardness (kgmm-2)                          138 non-null    float64\n",
      " 29  50 % FATT                                  31 non-null     float64\n",
      " 30  Primary ferrite in microstructure (%)      98 non-null     float64\n",
      " 31  Ferrite with second phase (%)              90 non-null     float64\n",
      " 32  Acicular ferrite (%)                       90 non-null     float64\n",
      " 33  Martensite (%)                             89 non-null     float64\n",
      " 34  Ferrite with carbide aggregate (%)         89 non-null     float64\n",
      " 35  Power (W)                                  1404 non-null   float64\n",
      "dtypes: float64(32), int64(1), object(3)\n",
      "memory usage: 464.8+ KB\n"
     ]
    }
   ],
   "source": [
    "welddb_ssl.info()"
   ]
  },
  {
   "cell_type": "markdown",
   "metadata": {},
   "source": [
    "## Hardness Prediction"
   ]
  },
  {
   "cell_type": "code",
   "execution_count": 11,
   "metadata": {},
   "outputs": [],
   "source": [
    "def select_target(df, target_column, target_columns):\n",
    "    \"\"\"\n",
    "    Function to temporarily keep only the selected target column and features.\n",
    "    \n",
    "    Parameters:\n",
    "    df (pd.DataFrame): The dataframe to modify.\n",
    "    target_column (str): The target column to keep.\n",
    "    target_columns (list): List of all potential target columns.\n",
    "    \n",
    "    Returns:\n",
    "    pd.DataFrame: A new dataframe with the selected target and other columns intact.\n",
    "    \"\"\"\n",
    "    columns_to_exclude = [col for col in target_columns if col != target_column]\n",
    "    \n",
    "    return df.drop(columns=columns_to_exclude)\n",
    "\n",
    "target_columns = [\n",
    "    'Hardness (kgmm-2)', '50 % FATT', 'Primary ferrite in microstructure (%)',\n",
    "    'Ferrite with second phase (%)', 'Acicular ferrite (%)',\n",
    "    'Martensite (%)', 'Ferrite with carbide aggregate (%)'\n",
    "]\n",
    "\n",
    "target_column = 'Hardness (kgmm-2)'\n",
    "welddb_ssl_selected = select_target(welddb_ssl, target_column, target_columns)\n"
   ]
  },
  {
   "cell_type": "code",
   "execution_count": 13,
   "metadata": {},
   "outputs": [
    {
     "data": {
      "text/plain": [
       "(1652, 30)"
      ]
     },
     "execution_count": 13,
     "metadata": {},
     "output_type": "execute_result"
    }
   ],
   "source": [
    "welddb_ssl_selected.shape"
   ]
  },
  {
   "cell_type": "code",
   "execution_count": 14,
   "metadata": {},
   "outputs": [
    {
     "name": "stdout",
     "output_type": "stream",
     "text": [
      "<class 'pandas.core.frame.DataFrame'>\n",
      "RangeIndex: 1652 entries, 0 to 1651\n",
      "Data columns (total 30 columns):\n",
      " #   Column                                     Non-Null Count  Dtype  \n",
      "---  ------                                     --------------  -----  \n",
      " 0   Carbon concentration (weight%)             1652 non-null   float64\n",
      " 1   Silicon concentration (weight%)            1652 non-null   float64\n",
      " 2   Manganese concentration (weight%)          1652 non-null   float64\n",
      " 3   Sulphur concentration (weight%)            1652 non-null   float64\n",
      " 4   Phosphorus concentration (weight%)         1652 non-null   float64\n",
      " 5   Nickel concentration (weight%)             1652 non-null   float64\n",
      " 6   Chromium concentration (weight%)           1652 non-null   float64\n",
      " 7   Molybdenum concentration (weight%)         1652 non-null   float64\n",
      " 8   Vanadium concentration (weight%)           1652 non-null   float64\n",
      " 9   Copper concentration (weight%)             1652 non-null   float64\n",
      " 10  Cobalt concentration (weight%)             1652 non-null   float64\n",
      " 11  Tungsten concentration (weight%)           1652 non-null   float64\n",
      " 12  Oxygen concentration (ppm)                 1652 non-null   float64\n",
      " 13  Titanium concentration (ppm)               1652 non-null   float64\n",
      " 14  Nitrogen concentration (ppm)               1652 non-null   float64\n",
      " 15  Aluminium concentration (ppm)              1652 non-null   float64\n",
      " 16  Boron concentration (ppm)                  1652 non-null   float64\n",
      " 17  Niobium concentration (ppm)                1652 non-null   float64\n",
      " 18  Tin concentration (ppm)                    1652 non-null   float64\n",
      " 19  Arsenic concentration (ppm)                1652 non-null   float64\n",
      " 20  Antimony concentration (ppm)               1652 non-null   float64\n",
      " 21  AC or DC                                   1437 non-null   object \n",
      " 22  Electrode positive or negative             1496 non-null   object \n",
      " 23  Heat input (kJmm-1)                        1652 non-null   float64\n",
      " 24  Interpass temperature (°C)                 1652 non-null   int64  \n",
      " 25  Type of weld                               1627 non-null   object \n",
      " 26  Post weld heat treatment temperature (°C)  1639 non-null   float64\n",
      " 27  Post weld heat treatment time (hours)      1639 non-null   float64\n",
      " 28  Hardness (kgmm-2)                          138 non-null    float64\n",
      " 29  Power (W)                                  1404 non-null   float64\n",
      "dtypes: float64(26), int64(1), object(3)\n",
      "memory usage: 387.3+ KB\n"
     ]
    }
   ],
   "source": [
    "welddb_ssl_selected.info()"
   ]
  },
  {
   "cell_type": "markdown",
   "metadata": {},
   "source": [
    "### Remove the instances with missing values"
   ]
  },
  {
   "cell_type": "code",
   "execution_count": 18,
   "metadata": {},
   "outputs": [],
   "source": [
    "def drop_missing_except_target(df, target_column):\n",
    "    \"\"\"\n",
    "    Drops instances with missing values in all columns except the target column.\n",
    "    \n",
    "    Parameters:\n",
    "    df (pd.DataFrame): The dataframe to clean.\n",
    "    target_column (str): The target column to exclude from the NaN drop process.\n",
    "    \n",
    "    Returns:\n",
    "    pd.DataFrame: A new dataframe with rows dropped where NaN values exist, except in the target column.\n",
    "    \"\"\"\n",
    "    columns_except_target = df.columns[df.columns != target_column]\n",
    "    df_cleaned = df.dropna(subset=columns_except_target)\n",
    "    \n",
    "    return df_cleaned\n",
    "\n",
    "welddb_ssl_cleaned = drop_missing_except_target(welddb_ssl_selected, target_column)"
   ]
  },
  {
   "cell_type": "code",
   "execution_count": 20,
   "metadata": {},
   "outputs": [
    {
     "name": "stdout",
     "output_type": "stream",
     "text": [
      "<class 'pandas.core.frame.DataFrame'>\n",
      "Index: 1307 entries, 0 to 1436\n",
      "Data columns (total 30 columns):\n",
      " #   Column                                     Non-Null Count  Dtype  \n",
      "---  ------                                     --------------  -----  \n",
      " 0   Carbon concentration (weight%)             1307 non-null   float64\n",
      " 1   Silicon concentration (weight%)            1307 non-null   float64\n",
      " 2   Manganese concentration (weight%)          1307 non-null   float64\n",
      " 3   Sulphur concentration (weight%)            1307 non-null   float64\n",
      " 4   Phosphorus concentration (weight%)         1307 non-null   float64\n",
      " 5   Nickel concentration (weight%)             1307 non-null   float64\n",
      " 6   Chromium concentration (weight%)           1307 non-null   float64\n",
      " 7   Molybdenum concentration (weight%)         1307 non-null   float64\n",
      " 8   Vanadium concentration (weight%)           1307 non-null   float64\n",
      " 9   Copper concentration (weight%)             1307 non-null   float64\n",
      " 10  Cobalt concentration (weight%)             1307 non-null   float64\n",
      " 11  Tungsten concentration (weight%)           1307 non-null   float64\n",
      " 12  Oxygen concentration (ppm)                 1307 non-null   float64\n",
      " 13  Titanium concentration (ppm)               1307 non-null   float64\n",
      " 14  Nitrogen concentration (ppm)               1307 non-null   float64\n",
      " 15  Aluminium concentration (ppm)              1307 non-null   float64\n",
      " 16  Boron concentration (ppm)                  1307 non-null   float64\n",
      " 17  Niobium concentration (ppm)                1307 non-null   float64\n",
      " 18  Tin concentration (ppm)                    1307 non-null   float64\n",
      " 19  Arsenic concentration (ppm)                1307 non-null   float64\n",
      " 20  Antimony concentration (ppm)               1307 non-null   float64\n",
      " 21  AC or DC                                   1307 non-null   object \n",
      " 22  Electrode positive or negative             1307 non-null   object \n",
      " 23  Heat input (kJmm-1)                        1307 non-null   float64\n",
      " 24  Interpass temperature (°C)                 1307 non-null   int64  \n",
      " 25  Type of weld                               1307 non-null   object \n",
      " 26  Post weld heat treatment temperature (°C)  1307 non-null   float64\n",
      " 27  Post weld heat treatment time (hours)      1307 non-null   float64\n",
      " 28  Hardness (kgmm-2)                          106 non-null    float64\n",
      " 29  Power (W)                                  1307 non-null   float64\n",
      "dtypes: float64(26), int64(1), object(3)\n",
      "memory usage: 316.5+ KB\n"
     ]
    }
   ],
   "source": [
    "welddb_ssl_cleaned.info()"
   ]
  },
  {
   "cell_type": "markdown",
   "metadata": {},
   "source": [
    "### Get dummy variables for the categorical features"
   ]
  },
  {
   "cell_type": "code",
   "execution_count": 21,
   "metadata": {},
   "outputs": [],
   "source": [
    "import pandas as pd\n",
    "\n",
    "def dummy_variables(df, target_column, categorical_columns):\n",
    "    \"\"\"\n",
    "    Prepares the feature matrix X and target vector y from a dataframe by creating dummy variables.\n",
    "    \n",
    "    Parameters:\n",
    "    df (pd.DataFrame): The input dataframe.\n",
    "    target_column (str): The name of the target column.\n",
    "    categorical_columns (list): List of categorical columns to convert to dummy variables.\n",
    "    \n",
    "    Returns:\n",
    "    X (pd.DataFrame): The feature matrix with dummy variables.\n",
    "    y (pd.Series): The target variable.\n",
    "    \"\"\"\n",
    "    dummies = pd.get_dummies(df[categorical_columns], drop_first=True)\n",
    "\n",
    "    y = df[target_column]\n",
    "\n",
    "    X_ = df.drop(categorical_columns + [target_column], axis=1).astype('float64')\n",
    "    X = pd.concat([X_, dummies], axis=1)\n",
    "    \n",
    "    return X, y\n",
    "\n",
    "categorical_columns = ['AC or DC', 'Electrode positive or negative', 'Type of weld']\n",
    "\n",
    "X, y = dummy_variables(welddb_ssl_cleaned, target_column, categorical_columns)\n"
   ]
  },
  {
   "cell_type": "code",
   "execution_count": 26,
   "metadata": {},
   "outputs": [
    {
     "data": {
      "text/plain": [
       "(1307, 36)"
      ]
     },
     "execution_count": 26,
     "metadata": {},
     "output_type": "execute_result"
    }
   ],
   "source": [
    "X.shape"
   ]
  },
  {
   "cell_type": "code",
   "execution_count": 28,
   "metadata": {},
   "outputs": [
    {
     "name": "stdout",
     "output_type": "stream",
     "text": [
      "<class 'pandas.core.frame.DataFrame'>\n",
      "Index: 1307 entries, 0 to 1436\n",
      "Data columns (total 36 columns):\n",
      " #   Column                                     Non-Null Count  Dtype  \n",
      "---  ------                                     --------------  -----  \n",
      " 0   Carbon concentration (weight%)             1307 non-null   float64\n",
      " 1   Silicon concentration (weight%)            1307 non-null   float64\n",
      " 2   Manganese concentration (weight%)          1307 non-null   float64\n",
      " 3   Sulphur concentration (weight%)            1307 non-null   float64\n",
      " 4   Phosphorus concentration (weight%)         1307 non-null   float64\n",
      " 5   Nickel concentration (weight%)             1307 non-null   float64\n",
      " 6   Chromium concentration (weight%)           1307 non-null   float64\n",
      " 7   Molybdenum concentration (weight%)         1307 non-null   float64\n",
      " 8   Vanadium concentration (weight%)           1307 non-null   float64\n",
      " 9   Copper concentration (weight%)             1307 non-null   float64\n",
      " 10  Cobalt concentration (weight%)             1307 non-null   float64\n",
      " 11  Tungsten concentration (weight%)           1307 non-null   float64\n",
      " 12  Oxygen concentration (ppm)                 1307 non-null   float64\n",
      " 13  Titanium concentration (ppm)               1307 non-null   float64\n",
      " 14  Nitrogen concentration (ppm)               1307 non-null   float64\n",
      " 15  Aluminium concentration (ppm)              1307 non-null   float64\n",
      " 16  Boron concentration (ppm)                  1307 non-null   float64\n",
      " 17  Niobium concentration (ppm)                1307 non-null   float64\n",
      " 18  Tin concentration (ppm)                    1307 non-null   float64\n",
      " 19  Arsenic concentration (ppm)                1307 non-null   float64\n",
      " 20  Antimony concentration (ppm)               1307 non-null   float64\n",
      " 21  Heat input (kJmm-1)                        1307 non-null   float64\n",
      " 22  Interpass temperature (°C)                 1307 non-null   float64\n",
      " 23  Post weld heat treatment temperature (°C)  1307 non-null   float64\n",
      " 24  Post weld heat treatment time (hours)      1307 non-null   float64\n",
      " 25  Power (W)                                  1307 non-null   float64\n",
      " 26  AC or DC_DC                                1307 non-null   bool   \n",
      " 27  Electrode positive or negative_-           1307 non-null   bool   \n",
      " 28  Electrode positive or negative_0           1307 non-null   bool   \n",
      " 29  Type of weld_GMAA                          1307 non-null   bool   \n",
      " 30  Type of weld_GTAA                          1307 non-null   bool   \n",
      " 31  Type of weld_MMA                           1307 non-null   bool   \n",
      " 32  Type of weld_SA                            1307 non-null   bool   \n",
      " 33  Type of weld_SAA                           1307 non-null   bool   \n",
      " 34  Type of weld_ShMA                          1307 non-null   bool   \n",
      " 35  Type of weld_TSA                           1307 non-null   bool   \n",
      "dtypes: bool(10), float64(26)\n",
      "memory usage: 288.5 KB\n"
     ]
    }
   ],
   "source": [
    "X.info()"
   ]
  },
  {
   "cell_type": "code",
   "execution_count": 27,
   "metadata": {},
   "outputs": [
    {
     "data": {
      "text/plain": [
       "(1307,)"
      ]
     },
     "execution_count": 27,
     "metadata": {},
     "output_type": "execute_result"
    }
   ],
   "source": [
    "y.shape"
   ]
  }
 ],
 "metadata": {
  "kernelspec": {
   "display_name": "base",
   "language": "python",
   "name": "python3"
  },
  "language_info": {
   "codemirror_mode": {
    "name": "ipython",
    "version": 3
   },
   "file_extension": ".py",
   "mimetype": "text/x-python",
   "name": "python",
   "nbconvert_exporter": "python",
   "pygments_lexer": "ipython3",
   "version": "3.12.4"
  }
 },
 "nbformat": 4,
 "nbformat_minor": 2
}
