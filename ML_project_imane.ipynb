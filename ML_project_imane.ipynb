{
 "cells": [
  {
   "cell_type": "markdown",
   "metadata": {},
   "source": [
    "# Weld Prediction \n",
    "\n",
    "## machine learning project "
   ]
  },
  {
   "cell_type": "markdown",
   "metadata": {},
   "source": [
    "The dataset contains a total of 1652 rows and 44 columns. The key features include:\n",
    "\n",
    "**Chemical Composition**: Elements such as Carbon, Silicon, Manganese, Sulphur, Phosphorus, Nickel, Chromium, Molybdenum, Vanadium, and Copper, measured as concentrations (weight \\%).\n",
    "\n",
    "**Mechanical Properties**: Metrics such as Yield Strength (MPa), Ultimate Tensile Strength (MPa), Elongation (\\%), and Reduction of Area (\\%).\n",
    "\n",
    "**Impact Toughness and Hardness**: Charpy impact toughness (J), Charpy temperature (°C), and Hardness (kgmm\\textsuperscript{-2}).\n",
    "\n",
    "**Microstructure Details**: Primary ferrite, Ferrite with second phase, Acicular ferrite, Martensite, and Ferrite with carbide aggregate percentages.\n",
    "\n",
    "**Weld Information**: Weld ID, Electrode details, and Type of weld (e.g., FCA, GMAA, MMA).\n"
   ]
  },
  {
   "cell_type": "code",
   "execution_count": 442,
   "metadata": {},
   "outputs": [],
   "source": [
    "import pandas as pd\n",
    "import numpy as np\n",
    "import matplotlib.pyplot as plt"
   ]
  },
  {
   "cell_type": "markdown",
   "metadata": {},
   "source": [
    "## Importing Data"
   ]
  },
  {
   "cell_type": "code",
   "execution_count": 443,
   "metadata": {},
   "outputs": [],
   "source": [
    "data_file_path = 'welddb/welddb.data'\n",
    "headers_file_path = 'welddb/headers.txt'\n",
    "with open(headers_file_path, 'r') as f:\n",
    "    headers = [line.strip() for line in f]\n",
    "df = pd.read_csv(data_file_path, sep=r'\\s+', header=None, names=headers)"
   ]
  },
  {
   "cell_type": "code",
   "execution_count": 444,
   "metadata": {},
   "outputs": [
    {
     "data": {
      "text/html": [
       "<div>\n",
       "<style scoped>\n",
       "    .dataframe tbody tr th:only-of-type {\n",
       "        vertical-align: middle;\n",
       "    }\n",
       "\n",
       "    .dataframe tbody tr th {\n",
       "        vertical-align: top;\n",
       "    }\n",
       "\n",
       "    .dataframe thead th {\n",
       "        text-align: right;\n",
       "    }\n",
       "</style>\n",
       "<table border=\"1\" class=\"dataframe\">\n",
       "  <thead>\n",
       "    <tr style=\"text-align: right;\">\n",
       "      <th></th>\n",
       "      <th>Carbon concentration (weight%)</th>\n",
       "      <th>Silicon concentration (weight%)</th>\n",
       "      <th>Manganese concentration (weight%)</th>\n",
       "      <th>Sulphur concentration (weight%)</th>\n",
       "      <th>Phosphorus concentration (weight%)</th>\n",
       "      <th>Nickel concentration (weight%)</th>\n",
       "      <th>Chromium concentration (weight%)</th>\n",
       "      <th>Molybdenum concentration (weight%)</th>\n",
       "      <th>Vanadium concentration (weight%)</th>\n",
       "      <th>Copper concentration (weight%)</th>\n",
       "      <th>...</th>\n",
       "      <th>Charpy temperature (deg C)</th>\n",
       "      <th>Charpy impact toughness (J)</th>\n",
       "      <th>Hardness (kgmm-2)</th>\n",
       "      <th>50 % FATT</th>\n",
       "      <th>Primary ferrite in microstructure (%)</th>\n",
       "      <th>Ferrite with second phase (%)</th>\n",
       "      <th>Acicular ferrite (%)</th>\n",
       "      <th>Martensite (%)</th>\n",
       "      <th>Ferrite with carbide aggregate (%)</th>\n",
       "      <th>Weld ID</th>\n",
       "    </tr>\n",
       "  </thead>\n",
       "  <tbody>\n",
       "    <tr>\n",
       "      <th>0</th>\n",
       "      <td>0.037</td>\n",
       "      <td>0.30</td>\n",
       "      <td>0.65</td>\n",
       "      <td>0.008</td>\n",
       "      <td>0.012</td>\n",
       "      <td>0</td>\n",
       "      <td>N</td>\n",
       "      <td>N</td>\n",
       "      <td>N</td>\n",
       "      <td>N</td>\n",
       "      <td>...</td>\n",
       "      <td>N</td>\n",
       "      <td>N</td>\n",
       "      <td>N</td>\n",
       "      <td>N</td>\n",
       "      <td>N</td>\n",
       "      <td>N</td>\n",
       "      <td>N</td>\n",
       "      <td>N</td>\n",
       "      <td>N</td>\n",
       "      <td>Evans-Ni/CMn-1990/1991-0Aaw</td>\n",
       "    </tr>\n",
       "    <tr>\n",
       "      <th>1</th>\n",
       "      <td>0.037</td>\n",
       "      <td>0.30</td>\n",
       "      <td>0.65</td>\n",
       "      <td>0.008</td>\n",
       "      <td>0.012</td>\n",
       "      <td>0</td>\n",
       "      <td>N</td>\n",
       "      <td>N</td>\n",
       "      <td>N</td>\n",
       "      <td>N</td>\n",
       "      <td>...</td>\n",
       "      <td>-28</td>\n",
       "      <td>100</td>\n",
       "      <td>N</td>\n",
       "      <td>N</td>\n",
       "      <td>N</td>\n",
       "      <td>N</td>\n",
       "      <td>N</td>\n",
       "      <td>N</td>\n",
       "      <td>N</td>\n",
       "      <td>Evans-Ni/CMn-1990/1991-0Aawch</td>\n",
       "    </tr>\n",
       "    <tr>\n",
       "      <th>2</th>\n",
       "      <td>0.037</td>\n",
       "      <td>0.30</td>\n",
       "      <td>0.65</td>\n",
       "      <td>0.008</td>\n",
       "      <td>0.012</td>\n",
       "      <td>0</td>\n",
       "      <td>N</td>\n",
       "      <td>N</td>\n",
       "      <td>N</td>\n",
       "      <td>N</td>\n",
       "      <td>...</td>\n",
       "      <td>-38</td>\n",
       "      <td>100</td>\n",
       "      <td>N</td>\n",
       "      <td>N</td>\n",
       "      <td>N</td>\n",
       "      <td>N</td>\n",
       "      <td>N</td>\n",
       "      <td>N</td>\n",
       "      <td>N</td>\n",
       "      <td>Evans-Ni/CMn-1990/1991-0Aht</td>\n",
       "    </tr>\n",
       "    <tr>\n",
       "      <th>3</th>\n",
       "      <td>0.037</td>\n",
       "      <td>0.31</td>\n",
       "      <td>1.03</td>\n",
       "      <td>0.007</td>\n",
       "      <td>0.014</td>\n",
       "      <td>0</td>\n",
       "      <td>N</td>\n",
       "      <td>N</td>\n",
       "      <td>N</td>\n",
       "      <td>N</td>\n",
       "      <td>...</td>\n",
       "      <td>N</td>\n",
       "      <td>N</td>\n",
       "      <td>N</td>\n",
       "      <td>N</td>\n",
       "      <td>N</td>\n",
       "      <td>N</td>\n",
       "      <td>N</td>\n",
       "      <td>N</td>\n",
       "      <td>N</td>\n",
       "      <td>Evans-Ni/CMn-1990/1991-0Baw</td>\n",
       "    </tr>\n",
       "    <tr>\n",
       "      <th>4</th>\n",
       "      <td>0.037</td>\n",
       "      <td>0.31</td>\n",
       "      <td>1.03</td>\n",
       "      <td>0.007</td>\n",
       "      <td>0.014</td>\n",
       "      <td>0</td>\n",
       "      <td>N</td>\n",
       "      <td>N</td>\n",
       "      <td>N</td>\n",
       "      <td>N</td>\n",
       "      <td>...</td>\n",
       "      <td>-48</td>\n",
       "      <td>100</td>\n",
       "      <td>N</td>\n",
       "      <td>N</td>\n",
       "      <td>32</td>\n",
       "      <td>28</td>\n",
       "      <td>40</td>\n",
       "      <td>0</td>\n",
       "      <td>0</td>\n",
       "      <td>Evans-Ni/CMn-1990/1991-0Bawch</td>\n",
       "    </tr>\n",
       "  </tbody>\n",
       "</table>\n",
       "<p>5 rows × 44 columns</p>\n",
       "</div>"
      ],
      "text/plain": [
       "   Carbon concentration (weight%)  Silicon concentration (weight%)  \\\n",
       "0                           0.037                             0.30   \n",
       "1                           0.037                             0.30   \n",
       "2                           0.037                             0.30   \n",
       "3                           0.037                             0.31   \n",
       "4                           0.037                             0.31   \n",
       "\n",
       "   Manganese concentration (weight%) Sulphur concentration (weight%)  \\\n",
       "0                               0.65                           0.008   \n",
       "1                               0.65                           0.008   \n",
       "2                               0.65                           0.008   \n",
       "3                               1.03                           0.007   \n",
       "4                               1.03                           0.007   \n",
       "\n",
       "  Phosphorus concentration (weight%) Nickel concentration (weight%)  \\\n",
       "0                              0.012                              0   \n",
       "1                              0.012                              0   \n",
       "2                              0.012                              0   \n",
       "3                              0.014                              0   \n",
       "4                              0.014                              0   \n",
       "\n",
       "  Chromium concentration (weight%) Molybdenum concentration (weight%)  \\\n",
       "0                                N                                  N   \n",
       "1                                N                                  N   \n",
       "2                                N                                  N   \n",
       "3                                N                                  N   \n",
       "4                                N                                  N   \n",
       "\n",
       "  Vanadium concentration (weight%) Copper concentration (weight%)  ...  \\\n",
       "0                                N                              N  ...   \n",
       "1                                N                              N  ...   \n",
       "2                                N                              N  ...   \n",
       "3                                N                              N  ...   \n",
       "4                                N                              N  ...   \n",
       "\n",
       "  Charpy temperature (deg C) Charpy impact toughness (J) Hardness (kgmm-2)  \\\n",
       "0                          N                           N                 N   \n",
       "1                        -28                         100                 N   \n",
       "2                        -38                         100                 N   \n",
       "3                          N                           N                 N   \n",
       "4                        -48                         100                 N   \n",
       "\n",
       "  50 % FATT Primary ferrite in microstructure (%)  \\\n",
       "0         N                                     N   \n",
       "1         N                                     N   \n",
       "2         N                                     N   \n",
       "3         N                                     N   \n",
       "4         N                                    32   \n",
       "\n",
       "  Ferrite with second phase (%) Acicular ferrite (%) Martensite (%)  \\\n",
       "0                             N                    N              N   \n",
       "1                             N                    N              N   \n",
       "2                             N                    N              N   \n",
       "3                             N                    N              N   \n",
       "4                            28                   40              0   \n",
       "\n",
       "  Ferrite with carbide aggregate (%)                        Weld ID  \n",
       "0                                  N    Evans-Ni/CMn-1990/1991-0Aaw  \n",
       "1                                  N  Evans-Ni/CMn-1990/1991-0Aawch  \n",
       "2                                  N    Evans-Ni/CMn-1990/1991-0Aht  \n",
       "3                                  N    Evans-Ni/CMn-1990/1991-0Baw  \n",
       "4                                  0  Evans-Ni/CMn-1990/1991-0Bawch  \n",
       "\n",
       "[5 rows x 44 columns]"
      ]
     },
     "execution_count": 444,
     "metadata": {},
     "output_type": "execute_result"
    }
   ],
   "source": [
    "df.head()"
   ]
  },
  {
   "cell_type": "code",
   "execution_count": 445,
   "metadata": {},
   "outputs": [
    {
     "name": "stdout",
     "output_type": "stream",
     "text": [
      "<class 'pandas.core.frame.DataFrame'>\n",
      "RangeIndex: 1652 entries, 0 to 1651\n",
      "Data columns (total 44 columns):\n",
      " #   Column                                        Non-Null Count  Dtype  \n",
      "---  ------                                        --------------  -----  \n",
      " 0   Carbon concentration (weight%)                1652 non-null   float64\n",
      " 1   Silicon concentration (weight%)               1652 non-null   float64\n",
      " 2   Manganese concentration (weight%)             1652 non-null   float64\n",
      " 3   Sulphur concentration (weight%)               1652 non-null   object \n",
      " 4   Phosphorus concentration (weight%)            1652 non-null   object \n",
      " 5   Nickel concentration (weight%)                1652 non-null   object \n",
      " 6   Chromium concentration (weight%)              1652 non-null   object \n",
      " 7   Molybdenum concentration (weight%)            1652 non-null   object \n",
      " 8   Vanadium concentration (weight%)              1652 non-null   object \n",
      " 9   Copper concentration (weight%)                1652 non-null   object \n",
      " 10  Cobalt concentration (weight%)                1652 non-null   object \n",
      " 11  Tungsten concentration (weight%)              1652 non-null   object \n",
      " 12  Oxygen concentration (ppm)                    1652 non-null   object \n",
      " 13  Titanium concentration (ppm)                  1652 non-null   object \n",
      " 14  Nitrogen concentration (ppm)                  1652 non-null   object \n",
      " 15  Aluminium concentration (ppm)                 1652 non-null   object \n",
      " 16  Boron concentration (ppm)                     1652 non-null   object \n",
      " 17  Niobium concentration (ppm)                   1652 non-null   object \n",
      " 18  Tin concentration (ppm)                       1652 non-null   object \n",
      " 19  Arsenic concentration (ppm)                   1652 non-null   object \n",
      " 20  Antimony concentration (ppm)                  1652 non-null   object \n",
      " 21  Current (A)                                   1652 non-null   object \n",
      " 22  Voltage (V)                                   1652 non-null   object \n",
      " 23  AC or DC                                      1652 non-null   object \n",
      " 24  Electrode positive or negative                1652 non-null   object \n",
      " 25  Heat input (kJmm-1)                           1652 non-null   float64\n",
      " 26  Interpass temperature (deg C)                 1652 non-null   object \n",
      " 27  Type of weld                                  1652 non-null   object \n",
      " 28  Post weld heat treatment temperature (deg C)  1652 non-null   object \n",
      " 29  Post weld heat treatment time (hours)         1652 non-null   object \n",
      " 30  Yield strength (MPa)                          1652 non-null   object \n",
      " 31  Ultimate tensile strength (MPa)               1652 non-null   object \n",
      " 32  Elongation (%)                                1652 non-null   object \n",
      " 33  Reduction of Area (%)                         1652 non-null   object \n",
      " 34  Charpy temperature (deg C)                    1652 non-null   object \n",
      " 35  Charpy impact toughness (J)                   1652 non-null   object \n",
      " 36  Hardness (kgmm-2)                             1652 non-null   object \n",
      " 37  50 % FATT                                     1652 non-null   object \n",
      " 38  Primary ferrite in microstructure (%)         1652 non-null   object \n",
      " 39  Ferrite with second phase (%)                 1652 non-null   object \n",
      " 40  Acicular ferrite (%)                          1652 non-null   object \n",
      " 41  Martensite (%)                                1652 non-null   object \n",
      " 42  Ferrite with carbide aggregate (%)            1652 non-null   object \n",
      " 43  Weld ID                                       1652 non-null   object \n",
      "dtypes: float64(4), object(40)\n",
      "memory usage: 568.0+ KB\n"
     ]
    }
   ],
   "source": [
    "df.info()"
   ]
  },
  {
   "cell_type": "markdown",
   "metadata": {},
   "source": [
    "**-Replace missing values with NaN**\n"
   ]
  },
  {
   "cell_type": "code",
   "execution_count": 446,
   "metadata": {},
   "outputs": [],
   "source": [
    "df.replace('N', np.nan, inplace=True)"
   ]
  },
  {
   "cell_type": "markdown",
   "metadata": {},
   "source": [
    "**-Afficher uniquement les colonnes avec des valeurs manquantes**\n"
   ]
  },
  {
   "cell_type": "code",
   "execution_count": 447,
   "metadata": {},
   "outputs": [],
   "source": [
    "def compute_Nan(df):\n",
    "    for i in range(df.shape[1]):\n",
    "        # Compter le nombre de valeurs manquantes dans chaque colonne\n",
    "        n_miss = df.iloc[:, i].isnull().sum()\n",
    "        if n_miss > 0:  # S'il y a des valeurs manquantes\n",
    "            # Calculer le pourcentage de valeurs manquantes\n",
    "            perc = n_miss / df.shape[0] * 100\n",
    "            # Afficher le nom de la colonne et les infos sur les valeurs manquantes\n",
    "            print(f\"Colonne: {df.columns[i]}, Missing: {n_miss} ({perc:.1f}%)\")\n"
   ]
  },
  {
   "cell_type": "code",
   "execution_count": 448,
   "metadata": {},
   "outputs": [
    {
     "name": "stdout",
     "output_type": "stream",
     "text": [
      "Colonne: Sulphur concentration (weight%), Missing: 4 (0.2%)\n",
      "Colonne: Phosphorus concentration (weight%), Missing: 10 (0.6%)\n",
      "Colonne: Nickel concentration (weight%), Missing: 955 (57.8%)\n",
      "Colonne: Chromium concentration (weight%), Missing: 868 (52.5%)\n",
      "Colonne: Molybdenum concentration (weight%), Missing: 859 (52.0%)\n",
      "Colonne: Vanadium concentration (weight%), Missing: 724 (43.8%)\n",
      "Colonne: Copper concentration (weight%), Missing: 1074 (65.0%)\n",
      "Colonne: Cobalt concentration (weight%), Missing: 1523 (92.2%)\n",
      "Colonne: Tungsten concentration (weight%), Missing: 1577 (95.5%)\n",
      "Colonne: Oxygen concentration (ppm), Missing: 396 (24.0%)\n",
      "Colonne: Titanium concentration (ppm), Missing: 717 (43.4%)\n",
      "Colonne: Nitrogen concentration (ppm), Missing: 410 (24.8%)\n",
      "Colonne: Aluminium concentration (ppm), Missing: 747 (45.2%)\n",
      "Colonne: Boron concentration (ppm), Missing: 1148 (69.5%)\n",
      "Colonne: Niobium concentration (ppm), Missing: 900 (54.5%)\n",
      "Colonne: Tin concentration (ppm), Missing: 1356 (82.1%)\n",
      "Colonne: Arsenic concentration (ppm), Missing: 1418 (85.8%)\n",
      "Colonne: Antimony concentration (ppm), Missing: 1392 (84.3%)\n",
      "Colonne: Current (A), Missing: 248 (15.0%)\n",
      "Colonne: Voltage (V), Missing: 248 (15.0%)\n",
      "Colonne: AC or DC, Missing: 215 (13.0%)\n",
      "Colonne: Electrode positive or negative, Missing: 156 (9.4%)\n",
      "Colonne: Post weld heat treatment temperature (deg C), Missing: 13 (0.8%)\n",
      "Colonne: Post weld heat treatment time (hours), Missing: 13 (0.8%)\n",
      "Colonne: Yield strength (MPa), Missing: 872 (52.8%)\n",
      "Colonne: Ultimate tensile strength (MPa), Missing: 914 (55.3%)\n",
      "Colonne: Elongation (%), Missing: 952 (57.6%)\n",
      "Colonne: Reduction of Area (%), Missing: 947 (57.3%)\n",
      "Colonne: Charpy temperature (deg C), Missing: 773 (46.8%)\n",
      "Colonne: Charpy impact toughness (J), Missing: 773 (46.8%)\n",
      "Colonne: Hardness (kgmm-2), Missing: 1514 (91.6%)\n",
      "Colonne: 50 % FATT, Missing: 1621 (98.1%)\n",
      "Colonne: Primary ferrite in microstructure (%), Missing: 1554 (94.1%)\n",
      "Colonne: Ferrite with second phase (%), Missing: 1562 (94.6%)\n",
      "Colonne: Acicular ferrite (%), Missing: 1562 (94.6%)\n",
      "Colonne: Martensite (%), Missing: 1563 (94.6%)\n",
      "Colonne: Ferrite with carbide aggregate (%), Missing: 1563 (94.6%)\n"
     ]
    }
   ],
   "source": [
    "compute_Nan(df)"
   ]
  },
  {
   "cell_type": "markdown",
   "metadata": {},
   "source": [
    "**-Handling non numerical values**"
   ]
  },
  {
   "cell_type": "code",
   "execution_count": 449,
   "metadata": {},
   "outputs": [
    {
     "name": "stdout",
     "output_type": "stream",
     "text": [
      "<class 'pandas.core.frame.DataFrame'>\n",
      "RangeIndex: 1652 entries, 0 to 1651\n",
      "Data columns (total 44 columns):\n",
      " #   Column                                        Non-Null Count  Dtype  \n",
      "---  ------                                        --------------  -----  \n",
      " 0   Carbon concentration (weight%)                1652 non-null   float64\n",
      " 1   Silicon concentration (weight%)               1652 non-null   float64\n",
      " 2   Manganese concentration (weight%)             1652 non-null   float64\n",
      " 3   Sulphur concentration (weight%)               1648 non-null   object \n",
      " 4   Phosphorus concentration (weight%)            1642 non-null   object \n",
      " 5   Nickel concentration (weight%)                697 non-null    object \n",
      " 6   Chromium concentration (weight%)              784 non-null    object \n",
      " 7   Molybdenum concentration (weight%)            793 non-null    object \n",
      " 8   Vanadium concentration (weight%)              928 non-null    object \n",
      " 9   Copper concentration (weight%)                578 non-null    object \n",
      " 10  Cobalt concentration (weight%)                129 non-null    object \n",
      " 11  Tungsten concentration (weight%)              75 non-null     object \n",
      " 12  Oxygen concentration (ppm)                    1256 non-null   object \n",
      " 13  Titanium concentration (ppm)                  935 non-null    object \n",
      " 14  Nitrogen concentration (ppm)                  1242 non-null   object \n",
      " 15  Aluminium concentration (ppm)                 905 non-null    object \n",
      " 16  Boron concentration (ppm)                     504 non-null    object \n",
      " 17  Niobium concentration (ppm)                   752 non-null    object \n",
      " 18  Tin concentration (ppm)                       296 non-null    object \n",
      " 19  Arsenic concentration (ppm)                   234 non-null    object \n",
      " 20  Antimony concentration (ppm)                  260 non-null    object \n",
      " 21  Current (A)                                   1404 non-null   object \n",
      " 22  Voltage (V)                                   1404 non-null   object \n",
      " 23  AC or DC                                      1437 non-null   object \n",
      " 24  Electrode positive or negative                1496 non-null   object \n",
      " 25  Heat input (kJmm-1)                           1652 non-null   float64\n",
      " 26  Interpass temperature (deg C)                 1652 non-null   object \n",
      " 27  Type of weld                                  1652 non-null   object \n",
      " 28  Post weld heat treatment temperature (deg C)  1639 non-null   object \n",
      " 29  Post weld heat treatment time (hours)         1639 non-null   object \n",
      " 30  Yield strength (MPa)                          780 non-null    object \n",
      " 31  Ultimate tensile strength (MPa)               738 non-null    object \n",
      " 32  Elongation (%)                                700 non-null    object \n",
      " 33  Reduction of Area (%)                         705 non-null    object \n",
      " 34  Charpy temperature (deg C)                    879 non-null    object \n",
      " 35  Charpy impact toughness (J)                   879 non-null    object \n",
      " 36  Hardness (kgmm-2)                             138 non-null    object \n",
      " 37  50 % FATT                                     31 non-null     object \n",
      " 38  Primary ferrite in microstructure (%)         98 non-null     object \n",
      " 39  Ferrite with second phase (%)                 90 non-null     object \n",
      " 40  Acicular ferrite (%)                          90 non-null     object \n",
      " 41  Martensite (%)                                89 non-null     object \n",
      " 42  Ferrite with carbide aggregate (%)            89 non-null     object \n",
      " 43  Weld ID                                       1652 non-null   object \n",
      "dtypes: float64(4), object(40)\n",
      "memory usage: 568.0+ KB\n"
     ]
    }
   ],
   "source": [
    "df.info()"
   ]
  },
  {
   "cell_type": "markdown",
   "metadata": {},
   "source": [
    "We should convert all te numerical variables to numerical type, but let's see this column"
   ]
  },
  {
   "cell_type": "code",
   "execution_count": 450,
   "metadata": {},
   "outputs": [
    {
     "data": {
      "text/plain": [
       "Carbon concentration (weight%)                             0.06\n",
       "Silicon concentration (weight%)                            0.32\n",
       "Manganese concentration (weight%)                          1.23\n",
       "Sulphur concentration (weight%)                          <0.002\n",
       "Phosphorus concentration (weight%)                        0.002\n",
       "Nickel concentration (weight%)                             1.01\n",
       "Chromium concentration (weight%)                            8.4\n",
       "Molybdenum concentration (weight%)                         0.89\n",
       "Vanadium concentration (weight%)                           0.22\n",
       "Copper concentration (weight%)                            <0.01\n",
       "Cobalt concentration (weight%)                            <0.01\n",
       "Tungsten concentration (weight%)                            NaN\n",
       "Oxygen concentration (ppm)                                  380\n",
       "Titanium concentration (ppm)                               <100\n",
       "Nitrogen concentration (ppm)                                 80\n",
       "Aluminium concentration (ppm)                              <100\n",
       "Boron concentration (ppm)                                   NaN\n",
       "Niobium concentration (ppm)                                 300\n",
       "Tin concentration (ppm)                                     NaN\n",
       "Arsenic concentration (ppm)                                 NaN\n",
       "Antimony concentration (ppm)                                NaN\n",
       "Current (A)                                                 163\n",
       "Voltage (V)                                                  25\n",
       "AC or DC                                                     DC\n",
       "Electrode positive or negative                                +\n",
       "Heat input (kJmm-1)                                         1.2\n",
       "Interpass temperature (deg C)                           150-200\n",
       "Type of weld                                                MMA\n",
       "Post weld heat treatment temperature (deg C)                  0\n",
       "Post weld heat treatment time (hours)                         0\n",
       "Yield strength (MPa)                                        NaN\n",
       "Ultimate tensile strength (MPa)                             NaN\n",
       "Elongation (%)                                              NaN\n",
       "Reduction of Area (%)                                       NaN\n",
       "Charpy temperature (deg C)                                  NaN\n",
       "Charpy impact toughness (J)                                 NaN\n",
       "Hardness (kgmm-2)                                       362Hv10\n",
       "50 % FATT                                                   NaN\n",
       "Primary ferrite in microstructure (%)                         0\n",
       "Ferrite with second phase (%)                               NaN\n",
       "Acicular ferrite (%)                                        NaN\n",
       "Martensite (%)                                              NaN\n",
       "Ferrite with carbide aggregate (%)                          NaN\n",
       "Weld ID                                         PantK-1990-w8.0\n",
       "Name: 1197, dtype: object"
      ]
     },
     "execution_count": 450,
     "metadata": {},
     "output_type": "execute_result"
    }
   ],
   "source": [
    "df.loc[1197]"
   ]
  },
  {
   "cell_type": "markdown",
   "metadata": {},
   "source": [
    "Some lines that are expected to have numerical values may contain some non numerical one (like the '<0.002' value assigned to the variable 'Sulphur concentration (weight%)' for the 1197th row of the dataframe)\n",
    "\n",
    "First, we will convert only possible rows then we will treat the rest"
   ]
  },
  {
   "cell_type": "code",
   "execution_count": 451,
   "metadata": {},
   "outputs": [
    {
     "name": "stderr",
     "output_type": "stream",
     "text": [
      "C:\\Users\\ASUS\\AppData\\Local\\Temp\\ipykernel_8552\\1754603372.py:2: FutureWarning: errors='ignore' is deprecated and will raise in a future version. Use to_numeric without passing `errors` and catch exceptions explicitly instead\n",
      "  df = df.apply(pd.to_numeric, errors='ignore')\n"
     ]
    }
   ],
   "source": [
    "#Convert the variables to numeric if possible\n",
    "df = df.apply(pd.to_numeric, errors='ignore')"
   ]
  },
  {
   "cell_type": "code",
   "execution_count": 452,
   "metadata": {},
   "outputs": [
    {
     "name": "stdout",
     "output_type": "stream",
     "text": [
      "<class 'pandas.core.frame.DataFrame'>\n",
      "RangeIndex: 1652 entries, 0 to 1651\n",
      "Data columns (total 44 columns):\n",
      " #   Column                                        Non-Null Count  Dtype  \n",
      "---  ------                                        --------------  -----  \n",
      " 0   Carbon concentration (weight%)                1652 non-null   float64\n",
      " 1   Silicon concentration (weight%)               1652 non-null   float64\n",
      " 2   Manganese concentration (weight%)             1652 non-null   float64\n",
      " 3   Sulphur concentration (weight%)               1648 non-null   object \n",
      " 4   Phosphorus concentration (weight%)            1642 non-null   float64\n",
      " 5   Nickel concentration (weight%)                697 non-null    float64\n",
      " 6   Chromium concentration (weight%)              784 non-null    float64\n",
      " 7   Molybdenum concentration (weight%)            793 non-null    object \n",
      " 8   Vanadium concentration (weight%)              928 non-null    object \n",
      " 9   Copper concentration (weight%)                578 non-null    object \n",
      " 10  Cobalt concentration (weight%)                129 non-null    object \n",
      " 11  Tungsten concentration (weight%)              75 non-null     object \n",
      " 12  Oxygen concentration (ppm)                    1256 non-null   float64\n",
      " 13  Titanium concentration (ppm)                  935 non-null    object \n",
      " 14  Nitrogen concentration (ppm)                  1242 non-null   object \n",
      " 15  Aluminium concentration (ppm)                 905 non-null    object \n",
      " 16  Boron concentration (ppm)                     504 non-null    object \n",
      " 17  Niobium concentration (ppm)                   752 non-null    object \n",
      " 18  Tin concentration (ppm)                       296 non-null    object \n",
      " 19  Arsenic concentration (ppm)                   234 non-null    object \n",
      " 20  Antimony concentration (ppm)                  260 non-null    object \n",
      " 21  Current (A)                                   1404 non-null   float64\n",
      " 22  Voltage (V)                                   1404 non-null   float64\n",
      " 23  AC or DC                                      1437 non-null   object \n",
      " 24  Electrode positive or negative                1496 non-null   object \n",
      " 25  Heat input (kJmm-1)                           1652 non-null   float64\n",
      " 26  Interpass temperature (deg C)                 1652 non-null   object \n",
      " 27  Type of weld                                  1652 non-null   object \n",
      " 28  Post weld heat treatment temperature (deg C)  1639 non-null   float64\n",
      " 29  Post weld heat treatment time (hours)         1639 non-null   float64\n",
      " 30  Yield strength (MPa)                          780 non-null    float64\n",
      " 31  Ultimate tensile strength (MPa)               738 non-null    float64\n",
      " 32  Elongation (%)                                700 non-null    float64\n",
      " 33  Reduction of Area (%)                         705 non-null    float64\n",
      " 34  Charpy temperature (deg C)                    879 non-null    float64\n",
      " 35  Charpy impact toughness (J)                   879 non-null    float64\n",
      " 36  Hardness (kgmm-2)                             138 non-null    object \n",
      " 37  50 % FATT                                     31 non-null     float64\n",
      " 38  Primary ferrite in microstructure (%)         98 non-null     object \n",
      " 39  Ferrite with second phase (%)                 90 non-null     float64\n",
      " 40  Acicular ferrite (%)                          90 non-null     float64\n",
      " 41  Martensite (%)                                89 non-null     float64\n",
      " 42  Ferrite with carbide aggregate (%)            89 non-null     float64\n",
      " 43  Weld ID                                       1652 non-null   object \n",
      "dtypes: float64(23), object(21)\n",
      "memory usage: 568.0+ KB\n"
     ]
    }
   ],
   "source": [
    "df.info()"
   ]
  },
  {
   "cell_type": "markdown",
   "metadata": {},
   "source": [
    "We can see that already 23 columns have no problems.\n",
    "Now, we will deal with the other numerical columns that may contain some anomalies (like the '<' in the last example)\n",
    "\n",
    "\n",
    "First, we will remove the '<' symbole from numerical variables"
   ]
  },
  {
   "cell_type": "code",
   "execution_count": 453,
   "metadata": {},
   "outputs": [
    {
     "name": "stderr",
     "output_type": "stream",
     "text": [
      "C:\\Users\\ASUS\\AppData\\Local\\Temp\\ipykernel_8552\\2566959729.py:2: FutureWarning: errors='ignore' is deprecated and will raise in a future version. Use to_numeric without passing `errors` and catch exceptions explicitly instead\n",
      "  df = df.apply(pd.to_numeric, errors='ignore')\n"
     ]
    }
   ],
   "source": [
    "df.replace({r'<': '', }, regex=True, inplace=True)\n",
    "df = df.apply(pd.to_numeric, errors='ignore')\n"
   ]
  },
  {
   "cell_type": "code",
   "execution_count": 454,
   "metadata": {},
   "outputs": [
    {
     "name": "stdout",
     "output_type": "stream",
     "text": [
      "<class 'pandas.core.frame.DataFrame'>\n",
      "RangeIndex: 1652 entries, 0 to 1651\n",
      "Data columns (total 44 columns):\n",
      " #   Column                                        Non-Null Count  Dtype  \n",
      "---  ------                                        --------------  -----  \n",
      " 0   Carbon concentration (weight%)                1652 non-null   float64\n",
      " 1   Silicon concentration (weight%)               1652 non-null   float64\n",
      " 2   Manganese concentration (weight%)             1652 non-null   float64\n",
      " 3   Sulphur concentration (weight%)               1648 non-null   float64\n",
      " 4   Phosphorus concentration (weight%)            1642 non-null   float64\n",
      " 5   Nickel concentration (weight%)                697 non-null    float64\n",
      " 6   Chromium concentration (weight%)              784 non-null    float64\n",
      " 7   Molybdenum concentration (weight%)            793 non-null    float64\n",
      " 8   Vanadium concentration (weight%)              928 non-null    float64\n",
      " 9   Copper concentration (weight%)                578 non-null    float64\n",
      " 10  Cobalt concentration (weight%)                129 non-null    float64\n",
      " 11  Tungsten concentration (weight%)              75 non-null     float64\n",
      " 12  Oxygen concentration (ppm)                    1256 non-null   float64\n",
      " 13  Titanium concentration (ppm)                  935 non-null    float64\n",
      " 14  Nitrogen concentration (ppm)                  1242 non-null   object \n",
      " 15  Aluminium concentration (ppm)                 905 non-null    float64\n",
      " 16  Boron concentration (ppm)                     504 non-null    float64\n",
      " 17  Niobium concentration (ppm)                   752 non-null    float64\n",
      " 18  Tin concentration (ppm)                       296 non-null    float64\n",
      " 19  Arsenic concentration (ppm)                   234 non-null    float64\n",
      " 20  Antimony concentration (ppm)                  260 non-null    float64\n",
      " 21  Current (A)                                   1404 non-null   float64\n",
      " 22  Voltage (V)                                   1404 non-null   float64\n",
      " 23  AC or DC                                      1437 non-null   object \n",
      " 24  Electrode positive or negative                1496 non-null   object \n",
      " 25  Heat input (kJmm-1)                           1652 non-null   float64\n",
      " 26  Interpass temperature (deg C)                 1652 non-null   object \n",
      " 27  Type of weld                                  1652 non-null   object \n",
      " 28  Post weld heat treatment temperature (deg C)  1639 non-null   float64\n",
      " 29  Post weld heat treatment time (hours)         1639 non-null   float64\n",
      " 30  Yield strength (MPa)                          780 non-null    float64\n",
      " 31  Ultimate tensile strength (MPa)               738 non-null    float64\n",
      " 32  Elongation (%)                                700 non-null    float64\n",
      " 33  Reduction of Area (%)                         705 non-null    float64\n",
      " 34  Charpy temperature (deg C)                    879 non-null    float64\n",
      " 35  Charpy impact toughness (J)                   879 non-null    float64\n",
      " 36  Hardness (kgmm-2)                             138 non-null    object \n",
      " 37  50 % FATT                                     31 non-null     float64\n",
      " 38  Primary ferrite in microstructure (%)         98 non-null     float64\n",
      " 39  Ferrite with second phase (%)                 90 non-null     float64\n",
      " 40  Acicular ferrite (%)                          90 non-null     float64\n",
      " 41  Martensite (%)                                89 non-null     float64\n",
      " 42  Ferrite with carbide aggregate (%)            89 non-null     float64\n",
      " 43  Weld ID                                       1652 non-null   object \n",
      "dtypes: float64(37), object(7)\n",
      "memory usage: 568.0+ KB\n"
     ]
    }
   ],
   "source": [
    "df.info()"
   ]
  },
  {
   "cell_type": "markdown",
   "metadata": {},
   "source": [
    "We still have 7 'object' type columns, let's explore them"
   ]
  },
  {
   "cell_type": "code",
   "execution_count": 455,
   "metadata": {},
   "outputs": [
    {
     "data": {
      "text/html": [
       "<div>\n",
       "<style scoped>\n",
       "    .dataframe tbody tr th:only-of-type {\n",
       "        vertical-align: middle;\n",
       "    }\n",
       "\n",
       "    .dataframe tbody tr th {\n",
       "        vertical-align: top;\n",
       "    }\n",
       "\n",
       "    .dataframe thead th {\n",
       "        text-align: right;\n",
       "    }\n",
       "</style>\n",
       "<table border=\"1\" class=\"dataframe\">\n",
       "  <thead>\n",
       "    <tr style=\"text-align: right;\">\n",
       "      <th></th>\n",
       "      <th>Nitrogen concentration (ppm)</th>\n",
       "      <th>AC or DC</th>\n",
       "      <th>Electrode positive or negative</th>\n",
       "      <th>Interpass temperature (deg C)</th>\n",
       "      <th>Type of weld</th>\n",
       "      <th>Hardness (kgmm-2)</th>\n",
       "      <th>Weld ID</th>\n",
       "    </tr>\n",
       "  </thead>\n",
       "  <tbody>\n",
       "    <tr>\n",
       "      <th>0</th>\n",
       "      <td>NaN</td>\n",
       "      <td>DC</td>\n",
       "      <td>+</td>\n",
       "      <td>200</td>\n",
       "      <td>MMA</td>\n",
       "      <td>NaN</td>\n",
       "      <td>Evans-Ni/CMn-1990/1991-0Aaw</td>\n",
       "    </tr>\n",
       "    <tr>\n",
       "      <th>1</th>\n",
       "      <td>NaN</td>\n",
       "      <td>DC</td>\n",
       "      <td>+</td>\n",
       "      <td>200</td>\n",
       "      <td>MMA</td>\n",
       "      <td>NaN</td>\n",
       "      <td>Evans-Ni/CMn-1990/1991-0Aawch</td>\n",
       "    </tr>\n",
       "    <tr>\n",
       "      <th>2</th>\n",
       "      <td>NaN</td>\n",
       "      <td>DC</td>\n",
       "      <td>+</td>\n",
       "      <td>200</td>\n",
       "      <td>MMA</td>\n",
       "      <td>NaN</td>\n",
       "      <td>Evans-Ni/CMn-1990/1991-0Aht</td>\n",
       "    </tr>\n",
       "    <tr>\n",
       "      <th>3</th>\n",
       "      <td>NaN</td>\n",
       "      <td>DC</td>\n",
       "      <td>+</td>\n",
       "      <td>200</td>\n",
       "      <td>MMA</td>\n",
       "      <td>NaN</td>\n",
       "      <td>Evans-Ni/CMn-1990/1991-0Baw</td>\n",
       "    </tr>\n",
       "    <tr>\n",
       "      <th>4</th>\n",
       "      <td>NaN</td>\n",
       "      <td>DC</td>\n",
       "      <td>+</td>\n",
       "      <td>200</td>\n",
       "      <td>MMA</td>\n",
       "      <td>NaN</td>\n",
       "      <td>Evans-Ni/CMn-1990/1991-0Bawch</td>\n",
       "    </tr>\n",
       "    <tr>\n",
       "      <th>...</th>\n",
       "      <td>...</td>\n",
       "      <td>...</td>\n",
       "      <td>...</td>\n",
       "      <td>...</td>\n",
       "      <td>...</td>\n",
       "      <td>...</td>\n",
       "      <td>...</td>\n",
       "    </tr>\n",
       "    <tr>\n",
       "      <th>1647</th>\n",
       "      <td>398</td>\n",
       "      <td>NaN</td>\n",
       "      <td>+</td>\n",
       "      <td>200</td>\n",
       "      <td>SA</td>\n",
       "      <td>NaN</td>\n",
       "      <td>Birmingham-MAX35</td>\n",
       "    </tr>\n",
       "    <tr>\n",
       "      <th>1648</th>\n",
       "      <td>394</td>\n",
       "      <td>NaN</td>\n",
       "      <td>+</td>\n",
       "      <td>200</td>\n",
       "      <td>SA</td>\n",
       "      <td>NaN</td>\n",
       "      <td>Birmingham-MAX36</td>\n",
       "    </tr>\n",
       "    <tr>\n",
       "      <th>1649</th>\n",
       "      <td>96</td>\n",
       "      <td>NaN</td>\n",
       "      <td>+</td>\n",
       "      <td>200</td>\n",
       "      <td>SA</td>\n",
       "      <td>NaN</td>\n",
       "      <td>Birmingham-MAX37</td>\n",
       "    </tr>\n",
       "    <tr>\n",
       "      <th>1650</th>\n",
       "      <td>99</td>\n",
       "      <td>NaN</td>\n",
       "      <td>+</td>\n",
       "      <td>200</td>\n",
       "      <td>SA</td>\n",
       "      <td>NaN</td>\n",
       "      <td>Birmingham-MAX38</td>\n",
       "    </tr>\n",
       "    <tr>\n",
       "      <th>1651</th>\n",
       "      <td>103</td>\n",
       "      <td>NaN</td>\n",
       "      <td>+</td>\n",
       "      <td>200</td>\n",
       "      <td>SA</td>\n",
       "      <td>NaN</td>\n",
       "      <td>Birmingham-MAX39</td>\n",
       "    </tr>\n",
       "  </tbody>\n",
       "</table>\n",
       "<p>1652 rows × 7 columns</p>\n",
       "</div>"
      ],
      "text/plain": [
       "     Nitrogen concentration (ppm) AC or DC Electrode positive or negative  \\\n",
       "0                             NaN       DC                              +   \n",
       "1                             NaN       DC                              +   \n",
       "2                             NaN       DC                              +   \n",
       "3                             NaN       DC                              +   \n",
       "4                             NaN       DC                              +   \n",
       "...                           ...      ...                            ...   \n",
       "1647                          398      NaN                              +   \n",
       "1648                          394      NaN                              +   \n",
       "1649                           96      NaN                              +   \n",
       "1650                           99      NaN                              +   \n",
       "1651                          103      NaN                              +   \n",
       "\n",
       "     Interpass temperature (deg C) Type of weld Hardness (kgmm-2)  \\\n",
       "0                              200          MMA               NaN   \n",
       "1                              200          MMA               NaN   \n",
       "2                              200          MMA               NaN   \n",
       "3                              200          MMA               NaN   \n",
       "4                              200          MMA               NaN   \n",
       "...                            ...          ...               ...   \n",
       "1647                           200           SA               NaN   \n",
       "1648                           200           SA               NaN   \n",
       "1649                           200           SA               NaN   \n",
       "1650                           200           SA               NaN   \n",
       "1651                           200           SA               NaN   \n",
       "\n",
       "                            Weld ID  \n",
       "0       Evans-Ni/CMn-1990/1991-0Aaw  \n",
       "1     Evans-Ni/CMn-1990/1991-0Aawch  \n",
       "2       Evans-Ni/CMn-1990/1991-0Aht  \n",
       "3       Evans-Ni/CMn-1990/1991-0Baw  \n",
       "4     Evans-Ni/CMn-1990/1991-0Bawch  \n",
       "...                             ...  \n",
       "1647               Birmingham-MAX35  \n",
       "1648               Birmingham-MAX36  \n",
       "1649               Birmingham-MAX37  \n",
       "1650               Birmingham-MAX38  \n",
       "1651               Birmingham-MAX39  \n",
       "\n",
       "[1652 rows x 7 columns]"
      ]
     },
     "execution_count": 455,
     "metadata": {},
     "output_type": "execute_result"
    }
   ],
   "source": [
    "object_columns = df.select_dtypes(include=['object']).columns\n",
    "\n",
    "df[object_columns]"
   ]
  },
  {
   "cell_type": "markdown",
   "metadata": {},
   "source": [
    "We can see that the 3 columns 'Nitrogen concentration (ppm)', 'Interpass temperature (deg C)' and 'Hardness (kgmm-2)' should have numerical values.\n",
    "Let's see what are the non-numerical values in these columns"
   ]
  },
  {
   "cell_type": "code",
   "execution_count": 456,
   "metadata": {},
   "outputs": [],
   "source": [
    "def cat_to_num(df):\n",
    "    df.replace({r'<': '', }, regex=True, inplace=True)\n",
    "    df = df.apply(pd.to_numeric, errors='ignore')\n",
    "    object_columns = df.select_dtypes(include=['object']).columns\n",
    "\n",
    "\n"
   ]
  },
  {
   "cell_type": "code",
   "execution_count": 457,
   "metadata": {},
   "outputs": [
    {
     "name": "stdout",
     "output_type": "stream",
     "text": [
      "Nitrogen concentration (ppm) [nan '72' '54' '57' '47' '44' '46' '68' '55' '53' '50' '48' '52' '89' '70'\n",
      " '41' '38' '80' '49' '77' '94' '65' '67' '58' '60' '460' '480' '160' '155'\n",
      " '67tot33res' '66totndres' '61tot34res' '54totndres' '54tot24res'\n",
      " '52tot18res' '50tot17res' '48tot18res' '78' '88' '75' '84' '85' '79' '76'\n",
      " '83' '92' '74' '86' '90' '110' '97' '99' '91' '105' '120' '150' '81' '87'\n",
      " '93' '102' '96' '66' '73' '71' '82' '145' '148' '164' '166' '235' '226'\n",
      " '243' '239' '253' '249' '240' '100' '143' '119' '539' '515' '494' '489'\n",
      " '552' '517' '520' '544' '526' '537' '529' '509' '523' '107' '114' '106'\n",
      " '117' '125' '95' '109' '64' '36' '63' '43' '39' '34' '69' '59' '37' '51'\n",
      " '56' '140' '190' '170' '124' '133' '108' '61' '122' '121' '131' '101'\n",
      " '103' '116' '138' '139' '62' '136' '540' '180' '450' '370' '250' '400'\n",
      " '430' '420' '410' '390' '260' '340' '26' '22' '21' '35' '127' '156' '245'\n",
      " '312' '266' '123' '236' '165' '113' '269' '45' '27' '42' '98' '373' '376'\n",
      " '416' '398' '394']\n",
      "\n",
      "\n",
      "Interpass temperature (deg C) ['200' '150' '175' '107' '100' '250' '140' '300' '20' '240' '150-200'\n",
      " '177' '125' '225' '210']\n",
      "\n",
      "\n",
      "Hardness (kgmm-2) [nan '257' '227' '224' '226' '234' '217' '213' '209' '259' '239' '223'\n",
      " '230' '252' '241' '231' '229' '180' '174' '220' '184' '193' '189' '181'\n",
      " '183' '194' '216' '191' '164' '154' '265' '225' '196' '202' '197' '172'\n",
      " '158(Hv30)' '155(Hv30)' '153(Hv30)' '161(Hv30)' '168(Hv30)' '203(Hv30)'\n",
      " '157(Hv30)' '174(Hv30)' '144(Hv30)' '143(Hv30)' '154(Hv30)' '170(Hv30)'\n",
      " '459Hv10' '405Hv10' '451Hv10' '432Hv10' '264Hv10' '241Hv10' '251Hv10'\n",
      " '225Hv10' '233Hv10' '208Hv10' '373Hv10' '224Hv10' '210Hv10' '212Hv10'\n",
      " '202Hv10' '204Hv10' '201Hv10' '398Hv10' '249Hv10' '226Hv10' '234Hv10'\n",
      " '219Hv10' '467Hv10' '277Hv10' '254Hv10' '263Hv10' '237Hv10' '362Hv10'\n",
      " '291Hv10' '262Hv10' '266Hv10' '253Hv10' '257Hv10' '246Hv10' '264Hv5'\n",
      " '269Hv5' '233Hv5' '226Hv5' '222' '205' '253' '219' '182' '199' '240'\n",
      " '244' '247' '233' '212']\n",
      "\n",
      "\n"
     ]
    }
   ],
   "source": [
    "list_of_numeric_columns = ['Nitrogen concentration (ppm)', 'Interpass temperature (deg C)', 'Hardness (kgmm-2)']\n",
    "#see all the unique values in the these columns\n",
    "for column in list_of_numeric_columns:\n",
    "    print(column, df[column].unique())\n",
    "    print('\\n')"
   ]
  },
  {
   "cell_type": "markdown",
   "metadata": {},
   "source": [
    "Let's adress the first column : 'Nitrogen concentration (ppm)'"
   ]
  },
  {
   "cell_type": "code",
   "execution_count": 458,
   "metadata": {},
   "outputs": [],
   "source": [
    "df1 = df.copy()"
   ]
  },
  {
   "cell_type": "code",
   "execution_count": 459,
   "metadata": {},
   "outputs": [
    {
     "data": {
      "text/plain": [
       "array(['67tot33res', '66totndres', '61tot34res', '54totndres',\n",
       "       '54tot24res', '52tot18res', '50tot17res', '48tot18res'],\n",
       "      dtype=object)"
      ]
     },
     "execution_count": 459,
     "metadata": {},
     "output_type": "execute_result"
    }
   ],
   "source": [
    "# Find the non-numeric entries in 'Nitrogen concentration (ppm)'\n",
    "df1['Nitrogen concentration (ppm)_numeric'] = pd.to_numeric(df1['Nitrogen concentration (ppm)'], errors='coerce')\n",
    "\n",
    "# Identify rows where the conversion resulted in NaN (indicating non-numeric values)\n",
    "problematic_entries = df1[df1['Nitrogen concentration (ppm)_numeric'].isna() & ~df1['Nitrogen concentration (ppm)'].isna()]['Nitrogen concentration (ppm)'].unique()\n",
    "\n",
    "df1 = df1.drop(columns=['Nitrogen concentration (ppm)_numeric'])\n",
    "\n",
    "problematic_entries  "
   ]
  },
  {
   "cell_type": "markdown",
   "metadata": {},
   "source": [
    "After extensive investigation into the meaning of these values, we discovered through various articles that the notation XtotYres is an abbreviation for X total and Y residual. This indicates that the nitrogen concentration in the material is divided into two components: the total concentration (X) and the residual concentration (Y), which remains after some process (nd stands for non-detected).\n",
    "\n",
    "For the purpose of our analysis, we will focus on the total concentration (X), as it represents the complete amount of nitrogen present in the material before any processes or reactions occur. The residual concentration often reflects secondary or incomplete reactions and is typically less representative of the material's initial state or overall chemical composition. By considering the total concentration, we ensure that our analysis captures the full nitrogen content, which is more relevant for evaluating the material's properties and predicting weld quality.\n",
    "\n",
    "(we have only 59 values containing residual concentations, we don't need to consider the residual concentration as a new independant variable)\n"
   ]
  },
  {
   "cell_type": "markdown",
   "metadata": {},
   "source": [
    "We will therefore replace the values of these cases with the total concentration (X)"
   ]
  },
  {
   "cell_type": "code",
   "execution_count": 460,
   "metadata": {},
   "outputs": [],
   "source": [
    "# convert the problematic entries to numeric\n",
    "\n",
    "def converter(x):\n",
    "    try:\n",
    "        return float(x)\n",
    "    except:\n",
    "        return float(x[:2])"
   ]
  },
  {
   "cell_type": "code",
   "execution_count": 461,
   "metadata": {},
   "outputs": [],
   "source": [
    "df['Nitrogen concentration (ppm)'] = df['Nitrogen concentration (ppm)'].apply(converter)"
   ]
  },
  {
   "cell_type": "code",
   "execution_count": 462,
   "metadata": {},
   "outputs": [
    {
     "data": {
      "text/plain": [
       "0         NaN\n",
       "1         NaN\n",
       "2         NaN\n",
       "3         NaN\n",
       "4         NaN\n",
       "        ...  \n",
       "1647    398.0\n",
       "1648    394.0\n",
       "1649     96.0\n",
       "1650     99.0\n",
       "1651    103.0\n",
       "Name: Nitrogen concentration (ppm), Length: 1652, dtype: float64"
      ]
     },
     "execution_count": 462,
     "metadata": {},
     "output_type": "execute_result"
    }
   ],
   "source": [
    "df['Nitrogen concentration (ppm)']"
   ]
  },
  {
   "cell_type": "markdown",
   "metadata": {},
   "source": [
    "Now, all 'Nitrogen concentration (ppm)' values are numerical\n"
   ]
  },
  {
   "cell_type": "markdown",
   "metadata": {},
   "source": [
    "Let's adress the second column : Interpass temperature (deg C)"
   ]
  },
  {
   "cell_type": "code",
   "execution_count": 463,
   "metadata": {},
   "outputs": [
    {
     "data": {
      "text/plain": [
       "array(['150-200'], dtype=object)"
      ]
     },
     "execution_count": 463,
     "metadata": {},
     "output_type": "execute_result"
    }
   ],
   "source": [
    "# Find the non-numeric entries in 'Nitrogen concentration (ppm)'\n",
    "df1['Interpass temperature (deg C)_numeric'] = pd.to_numeric(df1['Interpass temperature (deg C)'], errors='coerce')\n",
    "\n",
    "# Identify rows where the conversion resulted in NaN (indicating non-numeric values)\n",
    "problematic_entries = df1[df1['Interpass temperature (deg C)_numeric'].isna() & ~df1['Interpass temperature (deg C)'].isna()]['Interpass temperature (deg C)'].unique()\n",
    "\n",
    "df1 = df1.drop(columns=['Interpass temperature (deg C)_numeric'])\n",
    "\n",
    "problematic_entries"
   ]
  },
  {
   "cell_type": "markdown",
   "metadata": {},
   "source": [
    "The only non-numerical value here is :  '150-200'"
   ]
  },
  {
   "cell_type": "code",
   "execution_count": 464,
   "metadata": {},
   "outputs": [
    {
     "data": {
      "text/html": [
       "<div>\n",
       "<style scoped>\n",
       "    .dataframe tbody tr th:only-of-type {\n",
       "        vertical-align: middle;\n",
       "    }\n",
       "\n",
       "    .dataframe tbody tr th {\n",
       "        vertical-align: top;\n",
       "    }\n",
       "\n",
       "    .dataframe thead th {\n",
       "        text-align: right;\n",
       "    }\n",
       "</style>\n",
       "<table border=\"1\" class=\"dataframe\">\n",
       "  <thead>\n",
       "    <tr style=\"text-align: right;\">\n",
       "      <th></th>\n",
       "      <th>Carbon concentration (weight%)</th>\n",
       "      <th>Silicon concentration (weight%)</th>\n",
       "      <th>Manganese concentration (weight%)</th>\n",
       "      <th>Sulphur concentration (weight%)</th>\n",
       "      <th>Phosphorus concentration (weight%)</th>\n",
       "      <th>Nickel concentration (weight%)</th>\n",
       "      <th>Chromium concentration (weight%)</th>\n",
       "      <th>Molybdenum concentration (weight%)</th>\n",
       "      <th>Vanadium concentration (weight%)</th>\n",
       "      <th>Copper concentration (weight%)</th>\n",
       "      <th>...</th>\n",
       "      <th>Charpy temperature (deg C)</th>\n",
       "      <th>Charpy impact toughness (J)</th>\n",
       "      <th>Hardness (kgmm-2)</th>\n",
       "      <th>50 % FATT</th>\n",
       "      <th>Primary ferrite in microstructure (%)</th>\n",
       "      <th>Ferrite with second phase (%)</th>\n",
       "      <th>Acicular ferrite (%)</th>\n",
       "      <th>Martensite (%)</th>\n",
       "      <th>Ferrite with carbide aggregate (%)</th>\n",
       "      <th>Weld ID</th>\n",
       "    </tr>\n",
       "  </thead>\n",
       "  <tbody>\n",
       "    <tr>\n",
       "      <th>1166</th>\n",
       "      <td>0.08</td>\n",
       "      <td>0.45</td>\n",
       "      <td>0.96</td>\n",
       "      <td>0.007</td>\n",
       "      <td>0.015</td>\n",
       "      <td>0.21</td>\n",
       "      <td>9.1</td>\n",
       "      <td>0.96</td>\n",
       "      <td>0.19</td>\n",
       "      <td>0.03</td>\n",
       "      <td>...</td>\n",
       "      <td>NaN</td>\n",
       "      <td>NaN</td>\n",
       "      <td>459Hv10</td>\n",
       "      <td>NaN</td>\n",
       "      <td>2.0</td>\n",
       "      <td>NaN</td>\n",
       "      <td>NaN</td>\n",
       "      <td>NaN</td>\n",
       "      <td>NaN</td>\n",
       "      <td>PantK-1990-w1</td>\n",
       "    </tr>\n",
       "    <tr>\n",
       "      <th>1167</th>\n",
       "      <td>0.10</td>\n",
       "      <td>0.54</td>\n",
       "      <td>0.66</td>\n",
       "      <td>0.006</td>\n",
       "      <td>0.014</td>\n",
       "      <td>0.31</td>\n",
       "      <td>9.0</td>\n",
       "      <td>0.82</td>\n",
       "      <td>0.23</td>\n",
       "      <td>0.02</td>\n",
       "      <td>...</td>\n",
       "      <td>NaN</td>\n",
       "      <td>NaN</td>\n",
       "      <td>405Hv10</td>\n",
       "      <td>NaN</td>\n",
       "      <td>11.0</td>\n",
       "      <td>NaN</td>\n",
       "      <td>NaN</td>\n",
       "      <td>NaN</td>\n",
       "      <td>NaN</td>\n",
       "      <td>PantK-1990-w2</td>\n",
       "    </tr>\n",
       "    <tr>\n",
       "      <th>1168</th>\n",
       "      <td>0.09</td>\n",
       "      <td>0.46</td>\n",
       "      <td>0.99</td>\n",
       "      <td>0.012</td>\n",
       "      <td>0.021</td>\n",
       "      <td>0.22</td>\n",
       "      <td>9.5</td>\n",
       "      <td>0.96</td>\n",
       "      <td>0.19</td>\n",
       "      <td>0.03</td>\n",
       "      <td>...</td>\n",
       "      <td>NaN</td>\n",
       "      <td>NaN</td>\n",
       "      <td>451Hv10</td>\n",
       "      <td>NaN</td>\n",
       "      <td>4.0</td>\n",
       "      <td>NaN</td>\n",
       "      <td>NaN</td>\n",
       "      <td>NaN</td>\n",
       "      <td>NaN</td>\n",
       "      <td>PantK-1990-w3</td>\n",
       "    </tr>\n",
       "    <tr>\n",
       "      <th>1169</th>\n",
       "      <td>0.09</td>\n",
       "      <td>0.37</td>\n",
       "      <td>1.03</td>\n",
       "      <td>0.004</td>\n",
       "      <td>0.010</td>\n",
       "      <td>0.05</td>\n",
       "      <td>8.8</td>\n",
       "      <td>1.03</td>\n",
       "      <td>0.25</td>\n",
       "      <td>0.01</td>\n",
       "      <td>...</td>\n",
       "      <td>NaN</td>\n",
       "      <td>NaN</td>\n",
       "      <td>432Hv10</td>\n",
       "      <td>NaN</td>\n",
       "      <td>12.0</td>\n",
       "      <td>NaN</td>\n",
       "      <td>NaN</td>\n",
       "      <td>NaN</td>\n",
       "      <td>NaN</td>\n",
       "      <td>PantK-1990-w4.0</td>\n",
       "    </tr>\n",
       "    <tr>\n",
       "      <th>1170</th>\n",
       "      <td>0.09</td>\n",
       "      <td>0.37</td>\n",
       "      <td>1.03</td>\n",
       "      <td>0.004</td>\n",
       "      <td>0.010</td>\n",
       "      <td>0.05</td>\n",
       "      <td>8.8</td>\n",
       "      <td>1.03</td>\n",
       "      <td>0.25</td>\n",
       "      <td>0.01</td>\n",
       "      <td>...</td>\n",
       "      <td>NaN</td>\n",
       "      <td>NaN</td>\n",
       "      <td>264Hv10</td>\n",
       "      <td>NaN</td>\n",
       "      <td>NaN</td>\n",
       "      <td>NaN</td>\n",
       "      <td>NaN</td>\n",
       "      <td>NaN</td>\n",
       "      <td>NaN</td>\n",
       "      <td>PantK-1990-w4.1</td>\n",
       "    </tr>\n",
       "  </tbody>\n",
       "</table>\n",
       "<p>5 rows × 44 columns</p>\n",
       "</div>"
      ],
      "text/plain": [
       "      Carbon concentration (weight%)  Silicon concentration (weight%)  \\\n",
       "1166                            0.08                             0.45   \n",
       "1167                            0.10                             0.54   \n",
       "1168                            0.09                             0.46   \n",
       "1169                            0.09                             0.37   \n",
       "1170                            0.09                             0.37   \n",
       "\n",
       "      Manganese concentration (weight%)  Sulphur concentration (weight%)  \\\n",
       "1166                               0.96                            0.007   \n",
       "1167                               0.66                            0.006   \n",
       "1168                               0.99                            0.012   \n",
       "1169                               1.03                            0.004   \n",
       "1170                               1.03                            0.004   \n",
       "\n",
       "      Phosphorus concentration (weight%)  Nickel concentration (weight%)  \\\n",
       "1166                               0.015                            0.21   \n",
       "1167                               0.014                            0.31   \n",
       "1168                               0.021                            0.22   \n",
       "1169                               0.010                            0.05   \n",
       "1170                               0.010                            0.05   \n",
       "\n",
       "      Chromium concentration (weight%)  Molybdenum concentration (weight%)  \\\n",
       "1166                               9.1                                0.96   \n",
       "1167                               9.0                                0.82   \n",
       "1168                               9.5                                0.96   \n",
       "1169                               8.8                                1.03   \n",
       "1170                               8.8                                1.03   \n",
       "\n",
       "      Vanadium concentration (weight%)  Copper concentration (weight%)  ...  \\\n",
       "1166                              0.19                            0.03  ...   \n",
       "1167                              0.23                            0.02  ...   \n",
       "1168                              0.19                            0.03  ...   \n",
       "1169                              0.25                            0.01  ...   \n",
       "1170                              0.25                            0.01  ...   \n",
       "\n",
       "      Charpy temperature (deg C)  Charpy impact toughness (J)  \\\n",
       "1166                         NaN                          NaN   \n",
       "1167                         NaN                          NaN   \n",
       "1168                         NaN                          NaN   \n",
       "1169                         NaN                          NaN   \n",
       "1170                         NaN                          NaN   \n",
       "\n",
       "      Hardness (kgmm-2)  50 % FATT Primary ferrite in microstructure (%)  \\\n",
       "1166            459Hv10        NaN                                   2.0   \n",
       "1167            405Hv10        NaN                                  11.0   \n",
       "1168            451Hv10        NaN                                   4.0   \n",
       "1169            432Hv10        NaN                                  12.0   \n",
       "1170            264Hv10        NaN                                   NaN   \n",
       "\n",
       "      Ferrite with second phase (%)  Acicular ferrite (%)  Martensite (%)  \\\n",
       "1166                            NaN                   NaN             NaN   \n",
       "1167                            NaN                   NaN             NaN   \n",
       "1168                            NaN                   NaN             NaN   \n",
       "1169                            NaN                   NaN             NaN   \n",
       "1170                            NaN                   NaN             NaN   \n",
       "\n",
       "      Ferrite with carbide aggregate (%)          Weld ID  \n",
       "1166                                 NaN    PantK-1990-w1  \n",
       "1167                                 NaN    PantK-1990-w2  \n",
       "1168                                 NaN    PantK-1990-w3  \n",
       "1169                                 NaN  PantK-1990-w4.0  \n",
       "1170                                 NaN  PantK-1990-w4.1  \n",
       "\n",
       "[5 rows x 44 columns]"
      ]
     },
     "execution_count": 464,
     "metadata": {},
     "output_type": "execute_result"
    }
   ],
   "source": [
    "# see the rows with a value of '150-200' in 'Interpass temperature (deg C)'\n",
    "df1[df1['Interpass temperature (deg C)'] == '150-200'].head()"
   ]
  },
  {
   "cell_type": "markdown",
   "metadata": {},
   "source": [
    "This variable, Interpass temperature (°C), describes the temperature of the material between multiple passes of the welding process. Maintaining a consistent interpass temperature is critical for ensuring the quality and mechanical properties of the weld. In some rows, the recorded value for this variable is given as a range, such as 150-200°C, rather than a single temperature. Since we need a numerical value for further analysis, we will transform this interval into its median value, which in this case is 175°C. This allows us to approximate the interpass temperature while ensuring that the data remains consistent and usable for modeling purposes."
   ]
  },
  {
   "cell_type": "code",
   "execution_count": 465,
   "metadata": {},
   "outputs": [],
   "source": [
    "def converter(x):\n",
    "    try:\n",
    "        return float(x)\n",
    "    except:\n",
    "        return 175"
   ]
  },
  {
   "cell_type": "code",
   "execution_count": 466,
   "metadata": {},
   "outputs": [
    {
     "data": {
      "text/plain": [
       "0       200.0\n",
       "1       200.0\n",
       "2       200.0\n",
       "3       200.0\n",
       "4       200.0\n",
       "        ...  \n",
       "1647    200.0\n",
       "1648    200.0\n",
       "1649    200.0\n",
       "1650    200.0\n",
       "1651    200.0\n",
       "Name: Interpass temperature (deg C), Length: 1652, dtype: float64"
      ]
     },
     "execution_count": 466,
     "metadata": {},
     "output_type": "execute_result"
    }
   ],
   "source": [
    "df['Interpass temperature (deg C)'] = df['Interpass temperature (deg C)'].apply(converter)\n",
    "df['Interpass temperature (deg C)']"
   ]
  },
  {
   "cell_type": "markdown",
   "metadata": {},
   "source": [
    "Now, all 'Interpass temperature (deg C)' values are numerical\n",
    "\n"
   ]
  },
  {
   "cell_type": "markdown",
   "metadata": {},
   "source": [
    "Let's adress the third column : Hardness (kgmm-2)"
   ]
  },
  {
   "cell_type": "code",
   "execution_count": 467,
   "metadata": {},
   "outputs": [
    {
     "data": {
      "text/plain": [
       "array(['158(Hv30)', '155(Hv30)', '153(Hv30)', '161(Hv30)', '168(Hv30)',\n",
       "       '203(Hv30)', '157(Hv30)', '174(Hv30)', '144(Hv30)', '143(Hv30)',\n",
       "       '154(Hv30)', '170(Hv30)', '459Hv10', '405Hv10', '451Hv10',\n",
       "       '432Hv10', '264Hv10', '241Hv10', '251Hv10', '225Hv10', '233Hv10',\n",
       "       '208Hv10', '373Hv10', '224Hv10', '210Hv10', '212Hv10', '202Hv10',\n",
       "       '204Hv10', '201Hv10', '398Hv10', '249Hv10', '226Hv10', '234Hv10',\n",
       "       '219Hv10', '467Hv10', '277Hv10', '254Hv10', '263Hv10', '237Hv10',\n",
       "       '362Hv10', '291Hv10', '262Hv10', '266Hv10', '253Hv10', '257Hv10',\n",
       "       '246Hv10', '264Hv5', '269Hv5', '233Hv5', '226Hv5'], dtype=object)"
      ]
     },
     "execution_count": 467,
     "metadata": {},
     "output_type": "execute_result"
    }
   ],
   "source": [
    "# Find the non-numeric entries in 'Nitrogen concentration (ppm)'\n",
    "df1['Hardness (kgmm-2)_numeric'] = pd.to_numeric(df1['Hardness (kgmm-2)'], errors='coerce')\n",
    "\n",
    "# Identify rows where the conversion resulted in NaN (indicating non-numeric values)\n",
    "problematic_entries = df1[df1['Hardness (kgmm-2)_numeric'].isna() & ~df1['Hardness (kgmm-2)'].isna()]['Hardness (kgmm-2)'].unique()\n",
    "\n",
    "df1 = df1.drop(columns=['Hardness (kgmm-2)_numeric'])\n",
    "\n",
    "problematic_entries  "
   ]
  },
  {
   "cell_type": "code",
   "execution_count": 468,
   "metadata": {},
   "outputs": [],
   "source": [
    "# remove ( and ) from the 'Hardness (kgmm-2)' column\n",
    "df['Hardness (kgmm-2)'] = df['Hardness (kgmm-2)'].str.replace('(', '')\n",
    "df['Hardness (kgmm-2)'] = df['Hardness (kgmm-2)'].str.replace(')', '')\n"
   ]
  },
  {
   "cell_type": "code",
   "execution_count": 469,
   "metadata": {},
   "outputs": [
    {
     "data": {
      "text/plain": [
       "<Axes: xlabel='Hardness (kgmm-2)'>"
      ]
     },
     "execution_count": 469,
     "metadata": {},
     "output_type": "execute_result"
    },
    {
     "data": {
      "image/png": "[encoded data removed]",
      "text/plain": [
       "<Figure size 640x480 with 1 Axes>"
      ]
     },
     "metadata": {},
     "output_type": "display_data"
    }
   ],
   "source": [
    "#plot categorical data\n",
    "\n",
    "df['Hardness (kgmm-2)'].value_counts().plot(kind='bar')"
   ]
  },
  {
   "cell_type": "code",
   "execution_count": 470,
   "metadata": {},
   "outputs": [
    {
     "data": {
      "text/plain": [
       "1514"
      ]
     },
     "execution_count": 470,
     "metadata": {},
     "output_type": "execute_result"
    }
   ],
   "source": [
    "#count the number of missing values\n",
    "\n",
    "df['Hardness (kgmm-2)'].isnull().sum()"
   ]
  },
  {
   "cell_type": "code",
   "execution_count": 471,
   "metadata": {},
   "outputs": [
    {
     "data": {
      "text/plain": [
       "array(['158(Hv30)', '155(Hv30)', '153(Hv30)', '161(Hv30)', '168(Hv30)',\n",
       "       '203(Hv30)', '157(Hv30)', '174(Hv30)', '144(Hv30)', '143(Hv30)',\n",
       "       '154(Hv30)', '170(Hv30)', '459Hv10', '405Hv10', '451Hv10',\n",
       "       '432Hv10', '264Hv10', '241Hv10', '251Hv10', '225Hv10', '233Hv10',\n",
       "       '208Hv10', '373Hv10', '224Hv10', '210Hv10', '212Hv10', '202Hv10',\n",
       "       '204Hv10', '201Hv10', '398Hv10', '249Hv10', '226Hv10', '234Hv10',\n",
       "       '219Hv10', '467Hv10', '277Hv10', '254Hv10', '263Hv10', '237Hv10',\n",
       "       '362Hv10', '291Hv10', '262Hv10', '266Hv10', '253Hv10', '257Hv10',\n",
       "       '246Hv10', '264Hv5', '269Hv5', '233Hv5', '226Hv5'], dtype=object)"
      ]
     },
     "execution_count": 471,
     "metadata": {},
     "output_type": "execute_result"
    }
   ],
   "source": [
    "df1['Hardness (kgmm-2)_numeric'] = pd.to_numeric(df1['Hardness (kgmm-2)'], errors='coerce')\n",
    "\n",
    "# Identify rows where the conversion resulted in NaN (indicating non-numeric values)\n",
    "problematic_entries = df1[df1['Hardness (kgmm-2)_numeric'].isna() & ~df1['Hardness (kgmm-2)'].isna()]['Hardness (kgmm-2)'].unique()\n",
    "\n",
    "df1 = df1.drop(columns=['Hardness (kgmm-2)_numeric'])\n",
    "\n",
    "problematic_entries  "
   ]
  },
  {
   "cell_type": "markdown",
   "metadata": {},
   "source": [
    "\n",
    "In this column, we have two types of hardness values:\n",
    "\n",
    "1. **Numerical values**: These are already standardized, such as `257`, `153`, etc.\n",
    "2. **Mixed values**: These values are formatted as `xHVy` (e.g., `150Hv30`), where `x` is the hardness value and `y` is the load in kgf used during the test.\n",
    "\n",
    "We need to standardize all the values in this column so that they are comparable, assuming a standard load of **10 kgf**.\n",
    "\n",
    "We will use the following formula to standardize values to a common load (e.g., 10 kgf):\n",
    "\n",
    "\n",
    "\n",
    "$$\n",
    "Hv_{\\text{standard}} = Hv_{\\text{measured}} \\times \\left( \\frac{L_{\\text{standard}}}{L_{\\text{measured}}} \\right)^n\n",
    "$$\n",
    "\n",
    "Where:\n",
    "- $ Hv_{\\text{standard}} $ is the standardized hardness value.\n",
    "- $ Hv_{\\text{measured}} $ is the hardness value measured at a specific load.\n",
    "- $  L_{\\text{standard}} $ is the standard load we will choose (in this case, **10 kgf**).\n",
    "- $  L_{\\text{measured}} $ is the load used during the measurement (extracted from the notation `xHVy`).\n",
    "- $  n  $ is an empirical constant, typically around **0.2** for metals.\n",
    "\n",
    "\n",
    "\n",
    "For values that don't mention a load (e.g., `257`), we will assume the default load used was **10 kgf**, meaning no adjustment is necessary.\n"
   ]
  },
  {
   "cell_type": "code",
   "execution_count": 472,
   "metadata": {},
   "outputs": [],
   "source": [
    "n=0.2\n",
    "L_standard = 10\n",
    "\n",
    "def transformer(x):\n",
    "    try:\n",
    "        return float(x)\n",
    "    except:\n",
    "        if x != np.nan :\n",
    "            liste=x.split('Hv')\n",
    "            L_measured = float(liste[1])\n",
    "            HV_measured = float(liste[0])\n",
    "            return HV_measured*((L_standard/L_measured)**n)"
   ]
  },
  {
   "cell_type": "code",
   "execution_count": 473,
   "metadata": {},
   "outputs": [
    {
     "data": {
      "text/plain": [
       "array([         nan, 257.        , 227.        , 224.        ,\n",
       "       226.        , 234.        , 217.        , 213.        ,\n",
       "       209.        , 259.        , 239.        , 223.        ,\n",
       "       230.        , 252.        , 241.        , 231.        ,\n",
       "       229.        , 180.        , 174.        , 220.        ,\n",
       "       184.        , 193.        , 189.        , 181.        ,\n",
       "       183.        , 194.        , 216.        , 191.        ,\n",
       "       164.        , 154.        , 265.        , 225.        ,\n",
       "       196.        , 202.        , 197.        , 172.        ,\n",
       "       126.83316676, 124.42494207, 122.81945895, 129.24139144,\n",
       "       134.86058238, 162.95653704, 126.0304252 , 139.67703175,\n",
       "       115.59478489, 114.79204333, 123.62220051, 136.4660655 ,\n",
       "       459.        , 405.        , 451.        , 432.        ,\n",
       "       264.        , 251.        , 233.        , 208.        ,\n",
       "       373.        , 210.        , 212.        , 204.        ,\n",
       "       201.        , 398.        , 249.        , 219.        ,\n",
       "       467.        , 277.        , 254.        , 263.        ,\n",
       "       237.        , 362.        , 291.        , 262.        ,\n",
       "       266.        , 253.        , 246.        , 303.25636572,\n",
       "       308.99985749, 267.64671671, 259.60582823, 222.        ,\n",
       "       205.        , 182.        , 199.        , 240.        ,\n",
       "       244.        , 247.        ])"
      ]
     },
     "execution_count": 473,
     "metadata": {},
     "output_type": "execute_result"
    }
   ],
   "source": [
    "df['Hardness (kgmm-2)'] = df['Hardness (kgmm-2)'].apply(transformer)\n",
    "df['Hardness (kgmm-2)'].unique()"
   ]
  },
  {
   "cell_type": "code",
   "execution_count": 474,
   "metadata": {},
   "outputs": [
    {
     "name": "stdout",
     "output_type": "stream",
     "text": [
      "<class 'pandas.core.frame.DataFrame'>\n",
      "RangeIndex: 1652 entries, 0 to 1651\n",
      "Data columns (total 44 columns):\n",
      " #   Column                                        Non-Null Count  Dtype  \n",
      "---  ------                                        --------------  -----  \n",
      " 0   Carbon concentration (weight%)                1652 non-null   float64\n",
      " 1   Silicon concentration (weight%)               1652 non-null   float64\n",
      " 2   Manganese concentration (weight%)             1652 non-null   float64\n",
      " 3   Sulphur concentration (weight%)               1648 non-null   float64\n",
      " 4   Phosphorus concentration (weight%)            1642 non-null   float64\n",
      " 5   Nickel concentration (weight%)                697 non-null    float64\n",
      " 6   Chromium concentration (weight%)              784 non-null    float64\n",
      " 7   Molybdenum concentration (weight%)            793 non-null    float64\n",
      " 8   Vanadium concentration (weight%)              928 non-null    float64\n",
      " 9   Copper concentration (weight%)                578 non-null    float64\n",
      " 10  Cobalt concentration (weight%)                129 non-null    float64\n",
      " 11  Tungsten concentration (weight%)              75 non-null     float64\n",
      " 12  Oxygen concentration (ppm)                    1256 non-null   float64\n",
      " 13  Titanium concentration (ppm)                  935 non-null    float64\n",
      " 14  Nitrogen concentration (ppm)                  1242 non-null   float64\n",
      " 15  Aluminium concentration (ppm)                 905 non-null    float64\n",
      " 16  Boron concentration (ppm)                     504 non-null    float64\n",
      " 17  Niobium concentration (ppm)                   752 non-null    float64\n",
      " 18  Tin concentration (ppm)                       296 non-null    float64\n",
      " 19  Arsenic concentration (ppm)                   234 non-null    float64\n",
      " 20  Antimony concentration (ppm)                  260 non-null    float64\n",
      " 21  Current (A)                                   1404 non-null   float64\n",
      " 22  Voltage (V)                                   1404 non-null   float64\n",
      " 23  AC or DC                                      1437 non-null   object \n",
      " 24  Electrode positive or negative                1496 non-null   object \n",
      " 25  Heat input (kJmm-1)                           1652 non-null   float64\n",
      " 26  Interpass temperature (deg C)                 1652 non-null   float64\n",
      " 27  Type of weld                                  1652 non-null   object \n",
      " 28  Post weld heat treatment temperature (deg C)  1639 non-null   float64\n",
      " 29  Post weld heat treatment time (hours)         1639 non-null   float64\n",
      " 30  Yield strength (MPa)                          780 non-null    float64\n",
      " 31  Ultimate tensile strength (MPa)               738 non-null    float64\n",
      " 32  Elongation (%)                                700 non-null    float64\n",
      " 33  Reduction of Area (%)                         705 non-null    float64\n",
      " 34  Charpy temperature (deg C)                    879 non-null    float64\n",
      " 35  Charpy impact toughness (J)                   879 non-null    float64\n",
      " 36  Hardness (kgmm-2)                             138 non-null    float64\n",
      " 37  50 % FATT                                     31 non-null     float64\n",
      " 38  Primary ferrite in microstructure (%)         98 non-null     float64\n",
      " 39  Ferrite with second phase (%)                 90 non-null     float64\n",
      " 40  Acicular ferrite (%)                          90 non-null     float64\n",
      " 41  Martensite (%)                                89 non-null     float64\n",
      " 42  Ferrite with carbide aggregate (%)            89 non-null     float64\n",
      " 43  Weld ID                                       1652 non-null   object \n",
      "dtypes: float64(40), object(4)\n",
      "memory usage: 568.0+ KB\n"
     ]
    }
   ],
   "source": [
    "df.info()"
   ]
  },
  {
   "cell_type": "markdown",
   "metadata": {},
   "source": [
    "let's see the remaining object columns"
   ]
  },
  {
   "cell_type": "code",
   "execution_count": 475,
   "metadata": {},
   "outputs": [
    {
     "data": {
      "text/html": [
       "<div>\n",
       "<style scoped>\n",
       "    .dataframe tbody tr th:only-of-type {\n",
       "        vertical-align: middle;\n",
       "    }\n",
       "\n",
       "    .dataframe tbody tr th {\n",
       "        vertical-align: top;\n",
       "    }\n",
       "\n",
       "    .dataframe thead th {\n",
       "        text-align: right;\n",
       "    }\n",
       "</style>\n",
       "<table border=\"1\" class=\"dataframe\">\n",
       "  <thead>\n",
       "    <tr style=\"text-align: right;\">\n",
       "      <th></th>\n",
       "      <th>AC or DC</th>\n",
       "      <th>Electrode positive or negative</th>\n",
       "      <th>Type of weld</th>\n",
       "      <th>Weld ID</th>\n",
       "    </tr>\n",
       "  </thead>\n",
       "  <tbody>\n",
       "    <tr>\n",
       "      <th>0</th>\n",
       "      <td>DC</td>\n",
       "      <td>+</td>\n",
       "      <td>MMA</td>\n",
       "      <td>Evans-Ni/CMn-1990/1991-0Aaw</td>\n",
       "    </tr>\n",
       "    <tr>\n",
       "      <th>1</th>\n",
       "      <td>DC</td>\n",
       "      <td>+</td>\n",
       "      <td>MMA</td>\n",
       "      <td>Evans-Ni/CMn-1990/1991-0Aawch</td>\n",
       "    </tr>\n",
       "    <tr>\n",
       "      <th>2</th>\n",
       "      <td>DC</td>\n",
       "      <td>+</td>\n",
       "      <td>MMA</td>\n",
       "      <td>Evans-Ni/CMn-1990/1991-0Aht</td>\n",
       "    </tr>\n",
       "    <tr>\n",
       "      <th>3</th>\n",
       "      <td>DC</td>\n",
       "      <td>+</td>\n",
       "      <td>MMA</td>\n",
       "      <td>Evans-Ni/CMn-1990/1991-0Baw</td>\n",
       "    </tr>\n",
       "    <tr>\n",
       "      <th>4</th>\n",
       "      <td>DC</td>\n",
       "      <td>+</td>\n",
       "      <td>MMA</td>\n",
       "      <td>Evans-Ni/CMn-1990/1991-0Bawch</td>\n",
       "    </tr>\n",
       "    <tr>\n",
       "      <th>...</th>\n",
       "      <td>...</td>\n",
       "      <td>...</td>\n",
       "      <td>...</td>\n",
       "      <td>...</td>\n",
       "    </tr>\n",
       "    <tr>\n",
       "      <th>1647</th>\n",
       "      <td>NaN</td>\n",
       "      <td>+</td>\n",
       "      <td>SA</td>\n",
       "      <td>Birmingham-MAX35</td>\n",
       "    </tr>\n",
       "    <tr>\n",
       "      <th>1648</th>\n",
       "      <td>NaN</td>\n",
       "      <td>+</td>\n",
       "      <td>SA</td>\n",
       "      <td>Birmingham-MAX36</td>\n",
       "    </tr>\n",
       "    <tr>\n",
       "      <th>1649</th>\n",
       "      <td>NaN</td>\n",
       "      <td>+</td>\n",
       "      <td>SA</td>\n",
       "      <td>Birmingham-MAX37</td>\n",
       "    </tr>\n",
       "    <tr>\n",
       "      <th>1650</th>\n",
       "      <td>NaN</td>\n",
       "      <td>+</td>\n",
       "      <td>SA</td>\n",
       "      <td>Birmingham-MAX38</td>\n",
       "    </tr>\n",
       "    <tr>\n",
       "      <th>1651</th>\n",
       "      <td>NaN</td>\n",
       "      <td>+</td>\n",
       "      <td>SA</td>\n",
       "      <td>Birmingham-MAX39</td>\n",
       "    </tr>\n",
       "  </tbody>\n",
       "</table>\n",
       "<p>1652 rows × 4 columns</p>\n",
       "</div>"
      ],
      "text/plain": [
       "     AC or DC Electrode positive or negative Type of weld  \\\n",
       "0          DC                              +          MMA   \n",
       "1          DC                              +          MMA   \n",
       "2          DC                              +          MMA   \n",
       "3          DC                              +          MMA   \n",
       "4          DC                              +          MMA   \n",
       "...       ...                            ...          ...   \n",
       "1647      NaN                              +           SA   \n",
       "1648      NaN                              +           SA   \n",
       "1649      NaN                              +           SA   \n",
       "1650      NaN                              +           SA   \n",
       "1651      NaN                              +           SA   \n",
       "\n",
       "                            Weld ID  \n",
       "0       Evans-Ni/CMn-1990/1991-0Aaw  \n",
       "1     Evans-Ni/CMn-1990/1991-0Aawch  \n",
       "2       Evans-Ni/CMn-1990/1991-0Aht  \n",
       "3       Evans-Ni/CMn-1990/1991-0Baw  \n",
       "4     Evans-Ni/CMn-1990/1991-0Bawch  \n",
       "...                             ...  \n",
       "1647               Birmingham-MAX35  \n",
       "1648               Birmingham-MAX36  \n",
       "1649               Birmingham-MAX37  \n",
       "1650               Birmingham-MAX38  \n",
       "1651               Birmingham-MAX39  \n",
       "\n",
       "[1652 rows x 4 columns]"
      ]
     },
     "execution_count": 475,
     "metadata": {},
     "output_type": "execute_result"
    }
   ],
   "source": [
    "object_columns = df.select_dtypes(include=['object']).columns\n",
    "\n",
    "df[object_columns]"
   ]
  },
  {
   "cell_type": "markdown",
   "metadata": {},
   "source": [
    "-**One hot encoding for categorical columns**"
   ]
  },
  {
   "cell_type": "code",
   "execution_count": 476,
   "metadata": {},
   "outputs": [],
   "source": [
    "df222 = pd.get_dummies(df, columns=['AC or DC', 'Electrode positive or negative'])[['AC or DC_AC',\t'AC or DC_DC', 'Electrode positive or negative_+', 'Electrode positive or negative_-',\t'Electrode positive or negative_0']]\n"
   ]
  },
  {
   "cell_type": "markdown",
   "metadata": {},
   "source": [
    "-**correlation matrix for categorical values**"
   ]
  },
  {
   "cell_type": "code",
   "execution_count": 477,
   "metadata": {},
   "outputs": [
    {
     "data": {
      "text/plain": [
       "<Axes: >"
      ]
     },
     "execution_count": 477,
     "metadata": {},
     "output_type": "execute_result"
    },
    {
     "data": {
      "image/png": "[encoded data removed]",
      "text/plain": [
       "<Figure size 640x480 with 2 Axes>"
      ]
     },
     "metadata": {},
     "output_type": "display_data"
    }
   ],
   "source": [
    "# correlation matrix plot \n",
    "\n",
    "import seaborn as sns\n",
    "\n",
    "corr = df222.corr()\n",
    "sns.heatmap(corr, \n",
    "            xticklabels=corr.columns.values,\n",
    "            yticklabels=corr.columns.values)\n"
   ]
  },
  {
   "cell_type": "code",
   "execution_count": 478,
   "metadata": {},
   "outputs": [
    {
     "data": {
      "text/plain": [
       "215"
      ]
     },
     "execution_count": 478,
     "metadata": {},
     "output_type": "execute_result"
    }
   ],
   "source": [
    "df['AC or DC'].isna().sum()"
   ]
  },
  {
   "cell_type": "code",
   "execution_count": 479,
   "metadata": {},
   "outputs": [
    {
     "data": {
      "text/plain": [
       "156"
      ]
     },
     "execution_count": 479,
     "metadata": {},
     "output_type": "execute_result"
    }
   ],
   "source": [
    "df['Electrode positive or negative'].isna().sum()"
   ]
  },
  {
   "cell_type": "markdown",
   "metadata": {},
   "source": [
    "We can see that the column ac or dc has more Nan values than  the Electrode positive or negative, and since they r correlated with the eletrode column, we will consider only the electrode column"
   ]
  },
  {
   "cell_type": "code",
   "execution_count": 480,
   "metadata": {},
   "outputs": [],
   "source": [
    "df.drop(columns=['AC or DC'], inplace=True)"
   ]
  },
  {
   "cell_type": "code",
   "execution_count": 481,
   "metadata": {},
   "outputs": [],
   "source": [
    "df = pd.get_dummies(df, columns=['Electrode positive or negative'])"
   ]
  },
  {
   "cell_type": "markdown",
   "metadata": {},
   "source": [
    "Since we want to build a prediction model, we should deal with other categorical variables, let's adress the Type of weld column"
   ]
  },
  {
   "cell_type": "code",
   "execution_count": 482,
   "metadata": {},
   "outputs": [
    {
     "data": {
      "text/plain": [
       "array(['MMA', 'ShMA', 'FCA', 'SA', 'TSA', 'SAA', 'GTAA', 'GMAA', 'NGSAW',\n",
       "       'NGGMA'], dtype=object)"
      ]
     },
     "execution_count": 482,
     "metadata": {},
     "output_type": "execute_result"
    }
   ],
   "source": [
    "# see all the unique values in the 'Type of weld' column\n",
    "df['Type of weld'].unique()"
   ]
  },
  {
   "cell_type": "code",
   "execution_count": 483,
   "metadata": {},
   "outputs": [],
   "source": [
    "#onehot encoding to 'Type of weld' column\n",
    "\n",
    "df = pd.get_dummies(df, columns=['Type of weld'])"
   ]
  },
  {
   "cell_type": "code",
   "execution_count": 484,
   "metadata": {},
   "outputs": [
    {
     "name": "stdout",
     "output_type": "stream",
     "text": [
      "<class 'pandas.core.frame.DataFrame'>\n",
      "RangeIndex: 1652 entries, 0 to 1651\n",
      "Data columns (total 54 columns):\n",
      " #   Column                                        Non-Null Count  Dtype  \n",
      "---  ------                                        --------------  -----  \n",
      " 0   Carbon concentration (weight%)                1652 non-null   float64\n",
      " 1   Silicon concentration (weight%)               1652 non-null   float64\n",
      " 2   Manganese concentration (weight%)             1652 non-null   float64\n",
      " 3   Sulphur concentration (weight%)               1648 non-null   float64\n",
      " 4   Phosphorus concentration (weight%)            1642 non-null   float64\n",
      " 5   Nickel concentration (weight%)                697 non-null    float64\n",
      " 6   Chromium concentration (weight%)              784 non-null    float64\n",
      " 7   Molybdenum concentration (weight%)            793 non-null    float64\n",
      " 8   Vanadium concentration (weight%)              928 non-null    float64\n",
      " 9   Copper concentration (weight%)                578 non-null    float64\n",
      " 10  Cobalt concentration (weight%)                129 non-null    float64\n",
      " 11  Tungsten concentration (weight%)              75 non-null     float64\n",
      " 12  Oxygen concentration (ppm)                    1256 non-null   float64\n",
      " 13  Titanium concentration (ppm)                  935 non-null    float64\n",
      " 14  Nitrogen concentration (ppm)                  1242 non-null   float64\n",
      " 15  Aluminium concentration (ppm)                 905 non-null    float64\n",
      " 16  Boron concentration (ppm)                     504 non-null    float64\n",
      " 17  Niobium concentration (ppm)                   752 non-null    float64\n",
      " 18  Tin concentration (ppm)                       296 non-null    float64\n",
      " 19  Arsenic concentration (ppm)                   234 non-null    float64\n",
      " 20  Antimony concentration (ppm)                  260 non-null    float64\n",
      " 21  Current (A)                                   1404 non-null   float64\n",
      " 22  Voltage (V)                                   1404 non-null   float64\n",
      " 23  Heat input (kJmm-1)                           1652 non-null   float64\n",
      " 24  Interpass temperature (deg C)                 1652 non-null   float64\n",
      " 25  Post weld heat treatment temperature (deg C)  1639 non-null   float64\n",
      " 26  Post weld heat treatment time (hours)         1639 non-null   float64\n",
      " 27  Yield strength (MPa)                          780 non-null    float64\n",
      " 28  Ultimate tensile strength (MPa)               738 non-null    float64\n",
      " 29  Elongation (%)                                700 non-null    float64\n",
      " 30  Reduction of Area (%)                         705 non-null    float64\n",
      " 31  Charpy temperature (deg C)                    879 non-null    float64\n",
      " 32  Charpy impact toughness (J)                   879 non-null    float64\n",
      " 33  Hardness (kgmm-2)                             138 non-null    float64\n",
      " 34  50 % FATT                                     31 non-null     float64\n",
      " 35  Primary ferrite in microstructure (%)         98 non-null     float64\n",
      " 36  Ferrite with second phase (%)                 90 non-null     float64\n",
      " 37  Acicular ferrite (%)                          90 non-null     float64\n",
      " 38  Martensite (%)                                89 non-null     float64\n",
      " 39  Ferrite with carbide aggregate (%)            89 non-null     float64\n",
      " 40  Weld ID                                       1652 non-null   object \n",
      " 41  Electrode positive or negative_+              1652 non-null   bool   \n",
      " 42  Electrode positive or negative_-              1652 non-null   bool   \n",
      " 43  Electrode positive or negative_0              1652 non-null   bool   \n",
      " 44  Type of weld_FCA                              1652 non-null   bool   \n",
      " 45  Type of weld_GMAA                             1652 non-null   bool   \n",
      " 46  Type of weld_GTAA                             1652 non-null   bool   \n",
      " 47  Type of weld_MMA                              1652 non-null   bool   \n",
      " 48  Type of weld_NGGMA                            1652 non-null   bool   \n",
      " 49  Type of weld_NGSAW                            1652 non-null   bool   \n",
      " 50  Type of weld_SA                               1652 non-null   bool   \n",
      " 51  Type of weld_SAA                              1652 non-null   bool   \n",
      " 52  Type of weld_ShMA                             1652 non-null   bool   \n",
      " 53  Type of weld_TSA                              1652 non-null   bool   \n",
      "dtypes: bool(13), float64(40), object(1)\n",
      "memory usage: 550.3+ KB\n"
     ]
    }
   ],
   "source": [
    "df.info()"
   ]
  },
  {
   "cell_type": "markdown",
   "metadata": {},
   "source": [
    "### Justification du remplacement des colonnes de tension et d'intensité par une colonne de puissance\n",
    "\n",
    "Les colonnes de **Voltage** (en volts) et d'**Current** (en ampères) ont été remplacées par une colonne unique représentant la **Puissance** (en watts). Ce choix est justifié par la relation physique qui lie ces trois grandeurs, à savoir que la puissance électrique est définie par le produit de la tension et de l'intensité\n",
    "$$\n",
    "P = U \\times I\n",
    "$$\n",
    "\n",
    "L'ajout d'une colonne de puissance permet de capturer l'interaction entre la tension et l'intensité dans une seule variable, ce qui réduit la redondance des données et simplifie l'analyse tout en conservant une information complète. De plus, dans de nombreux cas d'application en modélisation, la puissance est plus représentative du comportement global d'un système électrique que ses composantes individuelles (tension et intensité)."
   ]
  },
  {
   "cell_type": "code",
   "execution_count": 485,
   "metadata": {},
   "outputs": [
    {
     "data": {
      "text/plain": [
       "0        3570.0\n",
       "1        3570.0\n",
       "2        3570.0\n",
       "3        3570.0\n",
       "4        3570.0\n",
       "         ...   \n",
       "1647    13500.0\n",
       "1648    13500.0\n",
       "1649    13500.0\n",
       "1650    13500.0\n",
       "1651    13500.0\n",
       "Name: Puissance (W), Length: 1652, dtype: float64"
      ]
     },
     "execution_count": 485,
     "metadata": {},
     "output_type": "execute_result"
    }
   ],
   "source": [
    "df['Puissance (W)']=df['Voltage (V)']*df['Current (A)']\n",
    "df['Puissance (W)']"
   ]
  },
  {
   "cell_type": "code",
   "execution_count": 486,
   "metadata": {},
   "outputs": [],
   "source": [
    "df.drop(['Current (A)', 'Voltage (V)', 'Weld ID'], axis=1, inplace=True)\n"
   ]
  },
  {
   "cell_type": "markdown",
   "metadata": {},
   "source": [
    "### Handling Missing values "
   ]
  },
  {
   "cell_type": "code",
   "execution_count": 487,
   "metadata": {},
   "outputs": [
    {
     "name": "stdout",
     "output_type": "stream",
     "text": [
      "Colonne: Sulphur concentration (weight%), Missing: 4 (0.2%)\n",
      "Colonne: Phosphorus concentration (weight%), Missing: 10 (0.6%)\n",
      "Colonne: Nickel concentration (weight%), Missing: 955 (57.8%)\n",
      "Colonne: Chromium concentration (weight%), Missing: 868 (52.5%)\n",
      "Colonne: Molybdenum concentration (weight%), Missing: 859 (52.0%)\n",
      "Colonne: Vanadium concentration (weight%), Missing: 724 (43.8%)\n",
      "Colonne: Copper concentration (weight%), Missing: 1074 (65.0%)\n",
      "Colonne: Cobalt concentration (weight%), Missing: 1523 (92.2%)\n",
      "Colonne: Tungsten concentration (weight%), Missing: 1577 (95.5%)\n",
      "Colonne: Oxygen concentration (ppm), Missing: 396 (24.0%)\n",
      "Colonne: Titanium concentration (ppm), Missing: 717 (43.4%)\n",
      "Colonne: Nitrogen concentration (ppm), Missing: 410 (24.8%)\n",
      "Colonne: Aluminium concentration (ppm), Missing: 747 (45.2%)\n",
      "Colonne: Boron concentration (ppm), Missing: 1148 (69.5%)\n",
      "Colonne: Niobium concentration (ppm), Missing: 900 (54.5%)\n",
      "Colonne: Tin concentration (ppm), Missing: 1356 (82.1%)\n",
      "Colonne: Arsenic concentration (ppm), Missing: 1418 (85.8%)\n",
      "Colonne: Antimony concentration (ppm), Missing: 1392 (84.3%)\n",
      "Colonne: Post weld heat treatment temperature (deg C), Missing: 13 (0.8%)\n",
      "Colonne: Post weld heat treatment time (hours), Missing: 13 (0.8%)\n",
      "Colonne: Yield strength (MPa), Missing: 872 (52.8%)\n",
      "Colonne: Ultimate tensile strength (MPa), Missing: 914 (55.3%)\n",
      "Colonne: Elongation (%), Missing: 952 (57.6%)\n",
      "Colonne: Reduction of Area (%), Missing: 947 (57.3%)\n",
      "Colonne: Charpy temperature (deg C), Missing: 773 (46.8%)\n",
      "Colonne: Charpy impact toughness (J), Missing: 773 (46.8%)\n",
      "Colonne: Hardness (kgmm-2), Missing: 1514 (91.6%)\n",
      "Colonne: 50 % FATT, Missing: 1621 (98.1%)\n",
      "Colonne: Primary ferrite in microstructure (%), Missing: 1554 (94.1%)\n",
      "Colonne: Ferrite with second phase (%), Missing: 1562 (94.6%)\n",
      "Colonne: Acicular ferrite (%), Missing: 1562 (94.6%)\n",
      "Colonne: Martensite (%), Missing: 1563 (94.6%)\n",
      "Colonne: Ferrite with carbide aggregate (%), Missing: 1563 (94.6%)\n",
      "Colonne: Puissance (W), Missing: 248 (15.0%)\n"
     ]
    }
   ],
   "source": [
    "compute_Nan(df)"
   ]
  },
  {
   "cell_type": "markdown",
   "metadata": {},
   "source": [
    "Based on related articles in the domain of welding and materials science, it is common to handle missing values of certain chemical elements differently. For instance:\n",
    "\n",
    "- Missing values of **Phosphorus (P)** and **Sulphur (S)** are imputed using the **mean values** from the dataset.\n",
    "- Other missing values of other elements such as **Manganese (Mn)**, **Nickel (Ni)**, etc., are set to **0** because these elements are not deliberately added and are likely close to the detection limit of the analytical techniques used.\n",
    "\n",
    "Therefore, we will implement this preprocessing step to ensure that the dataset is correctly handled for the prediction task."
   ]
  },
  {
   "cell_type": "code",
   "execution_count": 488,
   "metadata": {},
   "outputs": [],
   "source": [
    "df['Sulphur concentration (weight%)'] = df['Sulphur concentration (weight%)'].fillna(df['Sulphur concentration (weight%)'].mean())\n",
    "df['Phosphorus concentration (weight%)'] = df['Phosphorus concentration (weight%)'].fillna(df['Phosphorus concentration (weight%)'].mean())\n",
    "\n",
    "# Replace missing values for all other concentrations with 0 (as they were not deliberately added)\n",
    "elements_to_zero = ['Manganese concentration (weight%)', 'Sulphur concentration (weight%)',\n",
    "       'Phosphorus concentration (weight%)', 'Nickel concentration (weight%)',\n",
    "       'Chromium concentration (weight%)', 'Molybdenum concentration (weight%)',\n",
    "       'Vanadium concentration (weight%)', 'Copper concentration (weight%)',\n",
    "       'Cobalt concentration (weight%)', 'Tungsten concentration (weight%)',\n",
    "       'Oxygen concentration (ppm)', 'Titanium concentration (ppm)',\n",
    "       'Nitrogen concentration (ppm)', 'Aluminium concentration (ppm)',\n",
    "       'Boron concentration (ppm)', 'Niobium concentration (ppm)',\n",
    "       'Tin concentration (ppm)', 'Arsenic concentration (ppm)',\n",
    "       'Antimony concentration (ppm)']\n",
    "\n",
    "# Replace missing values with 0 for the other elements\n",
    "df[elements_to_zero] = df[elements_to_zero].fillna(0)"
   ]
  },
  {
   "cell_type": "code",
   "execution_count": 489,
   "metadata": {},
   "outputs": [
    {
     "name": "stdout",
     "output_type": "stream",
     "text": [
      "Colonne: Post weld heat treatment temperature (deg C), Missing: 13 (0.8%)\n",
      "Colonne: Post weld heat treatment time (hours), Missing: 13 (0.8%)\n",
      "Colonne: Yield strength (MPa), Missing: 872 (52.8%)\n",
      "Colonne: Ultimate tensile strength (MPa), Missing: 914 (55.3%)\n",
      "Colonne: Elongation (%), Missing: 952 (57.6%)\n",
      "Colonne: Reduction of Area (%), Missing: 947 (57.3%)\n",
      "Colonne: Charpy temperature (deg C), Missing: 773 (46.8%)\n",
      "Colonne: Charpy impact toughness (J), Missing: 773 (46.8%)\n",
      "Colonne: Hardness (kgmm-2), Missing: 1514 (91.6%)\n",
      "Colonne: 50 % FATT, Missing: 1621 (98.1%)\n",
      "Colonne: Primary ferrite in microstructure (%), Missing: 1554 (94.1%)\n",
      "Colonne: Ferrite with second phase (%), Missing: 1562 (94.6%)\n",
      "Colonne: Acicular ferrite (%), Missing: 1562 (94.6%)\n",
      "Colonne: Martensite (%), Missing: 1563 (94.6%)\n",
      "Colonne: Ferrite with carbide aggregate (%), Missing: 1563 (94.6%)\n",
      "Colonne: Puissance (W), Missing: 248 (15.0%)\n"
     ]
    }
   ],
   "source": [
    "compute_Nan(df)"
   ]
  },
  {
   "cell_type": "code",
   "execution_count": 490,
   "metadata": {},
   "outputs": [],
   "source": [
    "df.to_csv('welddb/welddb_cleaned.csv', index=False)"
   ]
  },
  {
   "cell_type": "markdown",
   "metadata": {},
   "source": [
    "A popular approach to missing data imputation is to use a model to\n",
    "predict the missing values. This requires a model to be created for each input variable that has\n",
    "missing values.\n",
    "\n",
    " Although any one among a range of different models can be used to predict the\n",
    "missing values, the k-nearest neighbor (KNN) algorithm has proven to be generally effective,\n",
    "often referred to as nearest neighbor imputation."
   ]
  },
  {
   "cell_type": "markdown",
   "metadata": {},
   "source": [
    "There are two approaches for handling the remaining missing data:\n",
    "\n",
    "- **Deleting columns and rows with a very high missing rate**: In this approach, we will delete columns related to ferrite with a missing rate of 94%, martensite (94.6%), and 50% FATT (98%). For the remaining data, we will delete rows with missing values. After this, we will compute supervised models to predict the target variables: [\"Elongation\", \"Reduction of Area\", \"Ultimate Tensile Strength (UTS)\", and \"Yield Strength\"].\n",
    "\n",
    "- **Imputation of missing values**: The second approach involves applying a model to impute the missing values, even for columns with a high missing rate. After imputation, we will use semi-supervised models to predict the target variables with missing values."
   ]
  },
  {
   "cell_type": "markdown",
   "metadata": {},
   "source": [
    "### Deleting columns a very high missing rate"
   ]
  },
  {
   "cell_type": "code",
   "execution_count": 491,
   "metadata": {},
   "outputs": [],
   "source": [
    "df1=df.copy()"
   ]
  },
  {
   "cell_type": "code",
   "execution_count": 492,
   "metadata": {},
   "outputs": [
    {
     "name": "stdout",
     "output_type": "stream",
     "text": [
      "Colonne: Post weld heat treatment temperature (deg C), Missing: 13 (0.8%)\n",
      "Colonne: Post weld heat treatment time (hours), Missing: 13 (0.8%)\n",
      "Colonne: Yield strength (MPa), Missing: 872 (52.8%)\n",
      "Colonne: Ultimate tensile strength (MPa), Missing: 914 (55.3%)\n",
      "Colonne: Elongation (%), Missing: 952 (57.6%)\n",
      "Colonne: Reduction of Area (%), Missing: 947 (57.3%)\n",
      "Colonne: Charpy temperature (deg C), Missing: 773 (46.8%)\n",
      "Colonne: Charpy impact toughness (J), Missing: 773 (46.8%)\n",
      "Colonne: Hardness (kgmm-2), Missing: 1514 (91.6%)\n",
      "Colonne: 50 % FATT, Missing: 1621 (98.1%)\n",
      "Colonne: Primary ferrite in microstructure (%), Missing: 1554 (94.1%)\n",
      "Colonne: Ferrite with second phase (%), Missing: 1562 (94.6%)\n",
      "Colonne: Acicular ferrite (%), Missing: 1562 (94.6%)\n",
      "Colonne: Martensite (%), Missing: 1563 (94.6%)\n",
      "Colonne: Ferrite with carbide aggregate (%), Missing: 1563 (94.6%)\n",
      "Colonne: Puissance (W), Missing: 248 (15.0%)\n"
     ]
    }
   ],
   "source": [
    "compute_Nan(df1)"
   ]
  },
  {
   "cell_type": "code",
   "execution_count": 493,
   "metadata": {},
   "outputs": [],
   "source": [
    "# Define columns with high missing rates (based on the 94%+ threshold)\n",
    "columns_to_drop = ['Primary ferrite in microstructure (%)', 'Ferrite with second phase (%)',\n",
    "                   'Acicular ferrite (%)', 'Martensite (%)','Ferrite with carbide aggregate (%)', '50 % FATT','Hardness (kgmm-2)']"
   ]
  },
  {
   "cell_type": "code",
   "execution_count": 494,
   "metadata": {},
   "outputs": [],
   "source": [
    "# Drop columns with high missing rates\n",
    "df_cleaned = df1.drop(columns=columns_to_drop)"
   ]
  },
  {
   "cell_type": "code",
   "execution_count": 495,
   "metadata": {},
   "outputs": [
    {
     "name": "stdout",
     "output_type": "stream",
     "text": [
      "Colonne: Post weld heat treatment temperature (deg C), Missing: 13 (0.8%)\n",
      "Colonne: Post weld heat treatment time (hours), Missing: 13 (0.8%)\n",
      "Colonne: Yield strength (MPa), Missing: 872 (52.8%)\n",
      "Colonne: Ultimate tensile strength (MPa), Missing: 914 (55.3%)\n",
      "Colonne: Elongation (%), Missing: 952 (57.6%)\n",
      "Colonne: Reduction of Area (%), Missing: 947 (57.3%)\n",
      "Colonne: Charpy temperature (deg C), Missing: 773 (46.8%)\n",
      "Colonne: Charpy impact toughness (J), Missing: 773 (46.8%)\n",
      "Colonne: Puissance (W), Missing: 248 (15.0%)\n"
     ]
    }
   ],
   "source": [
    "compute_Nan(df_cleaned)"
   ]
  },
  {
   "cell_type": "markdown",
   "metadata": {},
   "source": [
    "Now we delete rows with missing values in the target variables (Yield Strength, Ultimate Tensile Strength (UTS), Elongation, and Reduction of Area)"
   ]
  },
  {
   "cell_type": "code",
   "execution_count": 496,
   "metadata": {},
   "outputs": [],
   "source": [
    "target_variables = ['Yield strength (MPa)', 'Ultimate tensile strength (MPa)', 'Elongation (%)', 'Reduction of Area (%)']\n",
    "df__cleaned = df_cleaned.dropna(subset=target_variables)\n"
   ]
  },
  {
   "cell_type": "markdown",
   "metadata": {},
   "source": [
    "Lets see first the corrlqtion beetween target variables and charpy paramaters "
   ]
  },
  {
   "cell_type": "code",
   "execution_count": 497,
   "metadata": {},
   "outputs": [],
   "source": [
    "import seaborn as sns\n"
   ]
  },
  {
   "cell_type": "code",
   "execution_count": 498,
   "metadata": {},
   "outputs": [
    {
     "data": {
      "image/png": "[encoded data removed]",
      "text/plain": [
       "<Figure size 1000x800 with 2 Axes>"
      ]
     },
     "metadata": {},
     "output_type": "display_data"
    }
   ],
   "source": [
    "import seaborn as sns\n",
    "\n",
    "subset= df__cleaned[['Yield strength (MPa)', 'Ultimate tensile strength (MPa)', 'Elongation (%)', 'Reduction of Area (%)','Charpy temperature (deg C)', 'Charpy impact toughness (J)']]\n",
    "\n",
    "corr_matrix = subset.corr()\n",
    "plt.figure(figsize=(10, 8))\n",
    "sns.heatmap(corr_matrix, annot=True, cmap='coolwarm', fmt='.2f')\n",
    "plt.title('Correlation Matrix: Target Variables and Charpy-related Columns')\n",
    "plt.show()"
   ]
  },
  {
   "cell_type": "code",
   "execution_count": 499,
   "metadata": {},
   "outputs": [
    {
     "name": "stdout",
     "output_type": "stream",
     "text": [
      "Colonne: Charpy temperature (deg C), Missing: 516 (79.4%)\n",
      "Colonne: Charpy impact toughness (J), Missing: 516 (79.4%)\n",
      "Colonne: Puissance (W), Missing: 111 (17.1%)\n"
     ]
    }
   ],
   "source": [
    "compute_Nan(df__cleaned)"
   ]
  },
  {
   "cell_type": "code",
   "execution_count": 500,
   "metadata": {},
   "outputs": [
    {
     "name": "stdout",
     "output_type": "stream",
     "text": [
      "<class 'pandas.core.frame.DataFrame'>\n",
      "Index: 650 entries, 0 to 1640\n",
      "Data columns (total 45 columns):\n",
      " #   Column                                        Non-Null Count  Dtype  \n",
      "---  ------                                        --------------  -----  \n",
      " 0   Carbon concentration (weight%)                650 non-null    float64\n",
      " 1   Silicon concentration (weight%)               650 non-null    float64\n",
      " 2   Manganese concentration (weight%)             650 non-null    float64\n",
      " 3   Sulphur concentration (weight%)               650 non-null    float64\n",
      " 4   Phosphorus concentration (weight%)            650 non-null    float64\n",
      " 5   Nickel concentration (weight%)                650 non-null    float64\n",
      " 6   Chromium concentration (weight%)              650 non-null    float64\n",
      " 7   Molybdenum concentration (weight%)            650 non-null    float64\n",
      " 8   Vanadium concentration (weight%)              650 non-null    float64\n",
      " 9   Copper concentration (weight%)                650 non-null    float64\n",
      " 10  Cobalt concentration (weight%)                650 non-null    float64\n",
      " 11  Tungsten concentration (weight%)              650 non-null    float64\n",
      " 12  Oxygen concentration (ppm)                    650 non-null    float64\n",
      " 13  Titanium concentration (ppm)                  650 non-null    float64\n",
      " 14  Nitrogen concentration (ppm)                  650 non-null    float64\n",
      " 15  Aluminium concentration (ppm)                 650 non-null    float64\n",
      " 16  Boron concentration (ppm)                     650 non-null    float64\n",
      " 17  Niobium concentration (ppm)                   650 non-null    float64\n",
      " 18  Tin concentration (ppm)                       650 non-null    float64\n",
      " 19  Arsenic concentration (ppm)                   650 non-null    float64\n",
      " 20  Antimony concentration (ppm)                  650 non-null    float64\n",
      " 21  Heat input (kJmm-1)                           650 non-null    float64\n",
      " 22  Interpass temperature (deg C)                 650 non-null    float64\n",
      " 23  Post weld heat treatment temperature (deg C)  650 non-null    float64\n",
      " 24  Post weld heat treatment time (hours)         650 non-null    float64\n",
      " 25  Yield strength (MPa)                          650 non-null    float64\n",
      " 26  Ultimate tensile strength (MPa)               650 non-null    float64\n",
      " 27  Elongation (%)                                650 non-null    float64\n",
      " 28  Reduction of Area (%)                         650 non-null    float64\n",
      " 29  Charpy temperature (deg C)                    134 non-null    float64\n",
      " 30  Charpy impact toughness (J)                   134 non-null    float64\n",
      " 31  Electrode positive or negative_+              650 non-null    bool   \n",
      " 32  Electrode positive or negative_-              650 non-null    bool   \n",
      " 33  Electrode positive or negative_0              650 non-null    bool   \n",
      " 34  Type of weld_FCA                              650 non-null    bool   \n",
      " 35  Type of weld_GMAA                             650 non-null    bool   \n",
      " 36  Type of weld_GTAA                             650 non-null    bool   \n",
      " 37  Type of weld_MMA                              650 non-null    bool   \n",
      " 38  Type of weld_NGGMA                            650 non-null    bool   \n",
      " 39  Type of weld_NGSAW                            650 non-null    bool   \n",
      " 40  Type of weld_SA                               650 non-null    bool   \n",
      " 41  Type of weld_SAA                              650 non-null    bool   \n",
      " 42  Type of weld_ShMA                             650 non-null    bool   \n",
      " 43  Type of weld_TSA                              650 non-null    bool   \n",
      " 44  Puissance (W)                                 539 non-null    float64\n",
      "dtypes: bool(13), float64(32)\n",
      "memory usage: 175.8 KB\n"
     ]
    }
   ],
   "source": [
    "df__cleaned.info()"
   ]
  },
  {
   "cell_type": "markdown",
   "metadata": {},
   "source": [
    "After removing rows with missing target values, we result now a significant percentage of missing values remaining in some columns that we can't drop because of the size of data.\n",
    "\n"
   ]
  },
  {
   "cell_type": "code",
   "execution_count": 501,
   "metadata": {},
   "outputs": [
    {
     "name": "stderr",
     "output_type": "stream",
     "text": [
      "C:\\Users\\ASUS\\AppData\\Local\\Temp\\ipykernel_8552\\3278155315.py:18: SettingWithCopyWarning: \n",
      "A value is trying to be set on a copy of a slice from a DataFrame.\n",
      "Try using .loc[row_indexer,col_indexer] = value instead\n",
      "\n",
      "See the caveats in the documentation: https://pandas.pydata.org/pandas-docs/stable/user_guide/indexing.html#returning-a-view-versus-a-copy\n",
      "  df__cleaned[columns_to_impute] = imputed_charpy_data\n"
     ]
    }
   ],
   "source": [
    "from sklearn.experimental import enable_iterative_imputer\n",
    "from sklearn.impute import IterativeImputer\n",
    "from sklearn.linear_model import BayesianRidge  # Importer BayesianRidge\n",
    "\n",
    "# Applying Iterative Imputer for the 'Charpy temperature (deg C)' and 'Charpy impact toughness (J)'\n",
    "iterative_imputer = IterativeImputer(random_state=42)\n",
    "\n",
    "# Selecting the columns to impute\n",
    "columns_to_impute = ['Charpy temperature (deg C)', 'Charpy impact toughness (J)','Puissance (W)']\n",
    "charpy_data = df__cleaned[columns_to_impute]\n",
    "imputer = IterativeImputer(estimator=BayesianRidge(), n_nearest_features=None,\n",
    "                           imputation_order='ascending', random_state=42)\n",
    "imputer.fit(charpy_data)\n",
    "# Fitting and transforming using Iterative Imputer\n",
    "imputed_charpy_data = imputer.transform(charpy_data)\n",
    "\n",
    "# Replacing the original columns with imputed values\n",
    "df__cleaned[columns_to_impute] = imputed_charpy_data"
   ]
  },
  {
   "cell_type": "code",
   "execution_count": 502,
   "metadata": {},
   "outputs": [],
   "source": [
    "compute_Nan(df__cleaned)"
   ]
  },
  {
   "cell_type": "code",
   "execution_count": 503,
   "metadata": {},
   "outputs": [
    {
     "data": {
      "text/plain": [
       "(650, 45)"
      ]
     },
     "execution_count": 503,
     "metadata": {},
     "output_type": "execute_result"
    }
   ],
   "source": [
    "df__cleaned.shape\n"
   ]
  },
  {
   "cell_type": "code",
   "execution_count": 504,
   "metadata": {},
   "outputs": [
    {
     "data": {
      "text/html": [
       "<div>\n",
       "<style scoped>\n",
       "    .dataframe tbody tr th:only-of-type {\n",
       "        vertical-align: middle;\n",
       "    }\n",
       "\n",
       "    .dataframe tbody tr th {\n",
       "        vertical-align: top;\n",
       "    }\n",
       "\n",
       "    .dataframe thead th {\n",
       "        text-align: right;\n",
       "    }\n",
       "</style>\n",
       "<table border=\"1\" class=\"dataframe\">\n",
       "  <thead>\n",
       "    <tr style=\"text-align: right;\">\n",
       "      <th></th>\n",
       "      <th>Carbon concentration (weight%)</th>\n",
       "      <th>Silicon concentration (weight%)</th>\n",
       "      <th>Manganese concentration (weight%)</th>\n",
       "      <th>Sulphur concentration (weight%)</th>\n",
       "      <th>Phosphorus concentration (weight%)</th>\n",
       "      <th>Nickel concentration (weight%)</th>\n",
       "      <th>Chromium concentration (weight%)</th>\n",
       "      <th>Molybdenum concentration (weight%)</th>\n",
       "      <th>Vanadium concentration (weight%)</th>\n",
       "      <th>Copper concentration (weight%)</th>\n",
       "      <th>...</th>\n",
       "      <th>Type of weld_GMAA</th>\n",
       "      <th>Type of weld_GTAA</th>\n",
       "      <th>Type of weld_MMA</th>\n",
       "      <th>Type of weld_NGGMA</th>\n",
       "      <th>Type of weld_NGSAW</th>\n",
       "      <th>Type of weld_SA</th>\n",
       "      <th>Type of weld_SAA</th>\n",
       "      <th>Type of weld_ShMA</th>\n",
       "      <th>Type of weld_TSA</th>\n",
       "      <th>Puissance (W)</th>\n",
       "    </tr>\n",
       "  </thead>\n",
       "  <tbody>\n",
       "    <tr>\n",
       "      <th>0</th>\n",
       "      <td>0.037</td>\n",
       "      <td>0.30</td>\n",
       "      <td>0.65</td>\n",
       "      <td>0.008</td>\n",
       "      <td>0.012</td>\n",
       "      <td>0.0</td>\n",
       "      <td>0.00</td>\n",
       "      <td>0.0</td>\n",
       "      <td>0.0000</td>\n",
       "      <td>0.00</td>\n",
       "      <td>...</td>\n",
       "      <td>False</td>\n",
       "      <td>False</td>\n",
       "      <td>True</td>\n",
       "      <td>False</td>\n",
       "      <td>False</td>\n",
       "      <td>False</td>\n",
       "      <td>False</td>\n",
       "      <td>False</td>\n",
       "      <td>False</td>\n",
       "      <td>3570.000000</td>\n",
       "    </tr>\n",
       "    <tr>\n",
       "      <th>2</th>\n",
       "      <td>0.037</td>\n",
       "      <td>0.30</td>\n",
       "      <td>0.65</td>\n",
       "      <td>0.008</td>\n",
       "      <td>0.012</td>\n",
       "      <td>0.0</td>\n",
       "      <td>0.00</td>\n",
       "      <td>0.0</td>\n",
       "      <td>0.0000</td>\n",
       "      <td>0.00</td>\n",
       "      <td>...</td>\n",
       "      <td>False</td>\n",
       "      <td>False</td>\n",
       "      <td>True</td>\n",
       "      <td>False</td>\n",
       "      <td>False</td>\n",
       "      <td>False</td>\n",
       "      <td>False</td>\n",
       "      <td>False</td>\n",
       "      <td>False</td>\n",
       "      <td>3570.000000</td>\n",
       "    </tr>\n",
       "    <tr>\n",
       "      <th>3</th>\n",
       "      <td>0.037</td>\n",
       "      <td>0.31</td>\n",
       "      <td>1.03</td>\n",
       "      <td>0.007</td>\n",
       "      <td>0.014</td>\n",
       "      <td>0.0</td>\n",
       "      <td>0.00</td>\n",
       "      <td>0.0</td>\n",
       "      <td>0.0000</td>\n",
       "      <td>0.00</td>\n",
       "      <td>...</td>\n",
       "      <td>False</td>\n",
       "      <td>False</td>\n",
       "      <td>True</td>\n",
       "      <td>False</td>\n",
       "      <td>False</td>\n",
       "      <td>False</td>\n",
       "      <td>False</td>\n",
       "      <td>False</td>\n",
       "      <td>False</td>\n",
       "      <td>3570.000000</td>\n",
       "    </tr>\n",
       "    <tr>\n",
       "      <th>5</th>\n",
       "      <td>0.037</td>\n",
       "      <td>0.31</td>\n",
       "      <td>1.03</td>\n",
       "      <td>0.007</td>\n",
       "      <td>0.014</td>\n",
       "      <td>0.0</td>\n",
       "      <td>0.00</td>\n",
       "      <td>0.0</td>\n",
       "      <td>0.0000</td>\n",
       "      <td>0.00</td>\n",
       "      <td>...</td>\n",
       "      <td>False</td>\n",
       "      <td>False</td>\n",
       "      <td>True</td>\n",
       "      <td>False</td>\n",
       "      <td>False</td>\n",
       "      <td>False</td>\n",
       "      <td>False</td>\n",
       "      <td>False</td>\n",
       "      <td>False</td>\n",
       "      <td>3570.000000</td>\n",
       "    </tr>\n",
       "    <tr>\n",
       "      <th>6</th>\n",
       "      <td>0.044</td>\n",
       "      <td>0.35</td>\n",
       "      <td>1.43</td>\n",
       "      <td>0.007</td>\n",
       "      <td>0.014</td>\n",
       "      <td>0.0</td>\n",
       "      <td>0.00</td>\n",
       "      <td>0.0</td>\n",
       "      <td>0.0000</td>\n",
       "      <td>0.00</td>\n",
       "      <td>...</td>\n",
       "      <td>False</td>\n",
       "      <td>False</td>\n",
       "      <td>True</td>\n",
       "      <td>False</td>\n",
       "      <td>False</td>\n",
       "      <td>False</td>\n",
       "      <td>False</td>\n",
       "      <td>False</td>\n",
       "      <td>False</td>\n",
       "      <td>3570.000000</td>\n",
       "    </tr>\n",
       "    <tr>\n",
       "      <th>...</th>\n",
       "      <td>...</td>\n",
       "      <td>...</td>\n",
       "      <td>...</td>\n",
       "      <td>...</td>\n",
       "      <td>...</td>\n",
       "      <td>...</td>\n",
       "      <td>...</td>\n",
       "      <td>...</td>\n",
       "      <td>...</td>\n",
       "      <td>...</td>\n",
       "      <td>...</td>\n",
       "      <td>...</td>\n",
       "      <td>...</td>\n",
       "      <td>...</td>\n",
       "      <td>...</td>\n",
       "      <td>...</td>\n",
       "      <td>...</td>\n",
       "      <td>...</td>\n",
       "      <td>...</td>\n",
       "      <td>...</td>\n",
       "      <td>...</td>\n",
       "    </tr>\n",
       "    <tr>\n",
       "      <th>1628</th>\n",
       "      <td>0.073</td>\n",
       "      <td>0.29</td>\n",
       "      <td>1.53</td>\n",
       "      <td>0.007</td>\n",
       "      <td>0.010</td>\n",
       "      <td>0.0</td>\n",
       "      <td>1.53</td>\n",
       "      <td>0.0</td>\n",
       "      <td>0.0005</td>\n",
       "      <td>0.00</td>\n",
       "      <td>...</td>\n",
       "      <td>False</td>\n",
       "      <td>False</td>\n",
       "      <td>True</td>\n",
       "      <td>False</td>\n",
       "      <td>False</td>\n",
       "      <td>False</td>\n",
       "      <td>False</td>\n",
       "      <td>False</td>\n",
       "      <td>False</td>\n",
       "      <td>8476.103896</td>\n",
       "    </tr>\n",
       "    <tr>\n",
       "      <th>1631</th>\n",
       "      <td>0.078</td>\n",
       "      <td>0.29</td>\n",
       "      <td>1.48</td>\n",
       "      <td>0.007</td>\n",
       "      <td>0.010</td>\n",
       "      <td>0.0</td>\n",
       "      <td>1.96</td>\n",
       "      <td>0.0</td>\n",
       "      <td>0.0005</td>\n",
       "      <td>0.00</td>\n",
       "      <td>...</td>\n",
       "      <td>False</td>\n",
       "      <td>False</td>\n",
       "      <td>True</td>\n",
       "      <td>False</td>\n",
       "      <td>False</td>\n",
       "      <td>False</td>\n",
       "      <td>False</td>\n",
       "      <td>False</td>\n",
       "      <td>False</td>\n",
       "      <td>8476.103896</td>\n",
       "    </tr>\n",
       "    <tr>\n",
       "      <th>1634</th>\n",
       "      <td>0.076</td>\n",
       "      <td>0.27</td>\n",
       "      <td>1.48</td>\n",
       "      <td>0.007</td>\n",
       "      <td>0.008</td>\n",
       "      <td>0.0</td>\n",
       "      <td>0.00</td>\n",
       "      <td>0.0</td>\n",
       "      <td>0.0005</td>\n",
       "      <td>0.53</td>\n",
       "      <td>...</td>\n",
       "      <td>False</td>\n",
       "      <td>False</td>\n",
       "      <td>True</td>\n",
       "      <td>False</td>\n",
       "      <td>False</td>\n",
       "      <td>False</td>\n",
       "      <td>False</td>\n",
       "      <td>False</td>\n",
       "      <td>False</td>\n",
       "      <td>8476.103896</td>\n",
       "    </tr>\n",
       "    <tr>\n",
       "      <th>1637</th>\n",
       "      <td>0.077</td>\n",
       "      <td>0.25</td>\n",
       "      <td>1.43</td>\n",
       "      <td>0.007</td>\n",
       "      <td>0.008</td>\n",
       "      <td>0.0</td>\n",
       "      <td>0.00</td>\n",
       "      <td>0.0</td>\n",
       "      <td>0.0005</td>\n",
       "      <td>1.08</td>\n",
       "      <td>...</td>\n",
       "      <td>False</td>\n",
       "      <td>False</td>\n",
       "      <td>True</td>\n",
       "      <td>False</td>\n",
       "      <td>False</td>\n",
       "      <td>False</td>\n",
       "      <td>False</td>\n",
       "      <td>False</td>\n",
       "      <td>False</td>\n",
       "      <td>8476.103896</td>\n",
       "    </tr>\n",
       "    <tr>\n",
       "      <th>1640</th>\n",
       "      <td>0.069</td>\n",
       "      <td>0.25</td>\n",
       "      <td>1.37</td>\n",
       "      <td>0.007</td>\n",
       "      <td>0.009</td>\n",
       "      <td>0.0</td>\n",
       "      <td>0.00</td>\n",
       "      <td>0.0</td>\n",
       "      <td>0.0005</td>\n",
       "      <td>1.60</td>\n",
       "      <td>...</td>\n",
       "      <td>False</td>\n",
       "      <td>False</td>\n",
       "      <td>True</td>\n",
       "      <td>False</td>\n",
       "      <td>False</td>\n",
       "      <td>False</td>\n",
       "      <td>False</td>\n",
       "      <td>False</td>\n",
       "      <td>False</td>\n",
       "      <td>8476.103896</td>\n",
       "    </tr>\n",
       "  </tbody>\n",
       "</table>\n",
       "<p>650 rows × 45 columns</p>\n",
       "</div>"
      ],
      "text/plain": [
       "      Carbon concentration (weight%)  Silicon concentration (weight%)  \\\n",
       "0                              0.037                             0.30   \n",
       "2                              0.037                             0.30   \n",
       "3                              0.037                             0.31   \n",
       "5                              0.037                             0.31   \n",
       "6                              0.044                             0.35   \n",
       "...                              ...                              ...   \n",
       "1628                           0.073                             0.29   \n",
       "1631                           0.078                             0.29   \n",
       "1634                           0.076                             0.27   \n",
       "1637                           0.077                             0.25   \n",
       "1640                           0.069                             0.25   \n",
       "\n",
       "      Manganese concentration (weight%)  Sulphur concentration (weight%)  \\\n",
       "0                                  0.65                            0.008   \n",
       "2                                  0.65                            0.008   \n",
       "3                                  1.03                            0.007   \n",
       "5                                  1.03                            0.007   \n",
       "6                                  1.43                            0.007   \n",
       "...                                 ...                              ...   \n",
       "1628                               1.53                            0.007   \n",
       "1631                               1.48                            0.007   \n",
       "1634                               1.48                            0.007   \n",
       "1637                               1.43                            0.007   \n",
       "1640                               1.37                            0.007   \n",
       "\n",
       "      Phosphorus concentration (weight%)  Nickel concentration (weight%)  \\\n",
       "0                                  0.012                             0.0   \n",
       "2                                  0.012                             0.0   \n",
       "3                                  0.014                             0.0   \n",
       "5                                  0.014                             0.0   \n",
       "6                                  0.014                             0.0   \n",
       "...                                  ...                             ...   \n",
       "1628                               0.010                             0.0   \n",
       "1631                               0.010                             0.0   \n",
       "1634                               0.008                             0.0   \n",
       "1637                               0.008                             0.0   \n",
       "1640                               0.009                             0.0   \n",
       "\n",
       "      Chromium concentration (weight%)  Molybdenum concentration (weight%)  \\\n",
       "0                                 0.00                                 0.0   \n",
       "2                                 0.00                                 0.0   \n",
       "3                                 0.00                                 0.0   \n",
       "5                                 0.00                                 0.0   \n",
       "6                                 0.00                                 0.0   \n",
       "...                                ...                                 ...   \n",
       "1628                              1.53                                 0.0   \n",
       "1631                              1.96                                 0.0   \n",
       "1634                              0.00                                 0.0   \n",
       "1637                              0.00                                 0.0   \n",
       "1640                              0.00                                 0.0   \n",
       "\n",
       "      Vanadium concentration (weight%)  Copper concentration (weight%)  ...  \\\n",
       "0                               0.0000                            0.00  ...   \n",
       "2                               0.0000                            0.00  ...   \n",
       "3                               0.0000                            0.00  ...   \n",
       "5                               0.0000                            0.00  ...   \n",
       "6                               0.0000                            0.00  ...   \n",
       "...                                ...                             ...  ...   \n",
       "1628                            0.0005                            0.00  ...   \n",
       "1631                            0.0005                            0.00  ...   \n",
       "1634                            0.0005                            0.53  ...   \n",
       "1637                            0.0005                            1.08  ...   \n",
       "1640                            0.0005                            1.60  ...   \n",
       "\n",
       "      Type of weld_GMAA  Type of weld_GTAA  Type of weld_MMA  \\\n",
       "0                 False              False              True   \n",
       "2                 False              False              True   \n",
       "3                 False              False              True   \n",
       "5                 False              False              True   \n",
       "6                 False              False              True   \n",
       "...                 ...                ...               ...   \n",
       "1628              False              False              True   \n",
       "1631              False              False              True   \n",
       "1634              False              False              True   \n",
       "1637              False              False              True   \n",
       "1640              False              False              True   \n",
       "\n",
       "      Type of weld_NGGMA  Type of weld_NGSAW  Type of weld_SA  \\\n",
       "0                  False               False            False   \n",
       "2                  False               False            False   \n",
       "3                  False               False            False   \n",
       "5                  False               False            False   \n",
       "6                  False               False            False   \n",
       "...                  ...                 ...              ...   \n",
       "1628               False               False            False   \n",
       "1631               False               False            False   \n",
       "1634               False               False            False   \n",
       "1637               False               False            False   \n",
       "1640               False               False            False   \n",
       "\n",
       "      Type of weld_SAA  Type of weld_ShMA  Type of weld_TSA  Puissance (W)  \n",
       "0                False              False             False    3570.000000  \n",
       "2                False              False             False    3570.000000  \n",
       "3                False              False             False    3570.000000  \n",
       "5                False              False             False    3570.000000  \n",
       "6                False              False             False    3570.000000  \n",
       "...                ...                ...               ...            ...  \n",
       "1628             False              False             False    8476.103896  \n",
       "1631             False              False             False    8476.103896  \n",
       "1634             False              False             False    8476.103896  \n",
       "1637             False              False             False    8476.103896  \n",
       "1640             False              False             False    8476.103896  \n",
       "\n",
       "[650 rows x 45 columns]"
      ]
     },
     "execution_count": 504,
     "metadata": {},
     "output_type": "execute_result"
    }
   ],
   "source": [
    "df__cleaned"
   ]
  },
  {
   "cell_type": "code",
   "execution_count": 505,
   "metadata": {},
   "outputs": [],
   "source": [
    "df__cleaned.to_csv('welddb/welddb_complete.csv', index=False)"
   ]
  },
  {
   "cell_type": "markdown",
   "metadata": {},
   "source": [
    "Now we have  this complete data , we can use some supervised machine learning algorithms to predict"
   ]
  },
  {
   "cell_type": "code",
   "execution_count": null,
   "metadata": {},
   "outputs": [],
   "source": []
  }
 ],
 "metadata": {
  "kernelspec": {
   "display_name": "base",
   "language": "python",
   "name": "python3"
  },
  "language_info": {
   "codemirror_mode": {
    "name": "ipython",
    "version": 3
   },
   "file_extension": ".py",
   "mimetype": "text/x-python",
   "name": "python",
   "nbconvert_exporter": "python",
   "pygments_lexer": "ipython3",
   "version": "3.12.4"
  }
 },
 "nbformat": 4,
 "nbformat_minor": 2
}
